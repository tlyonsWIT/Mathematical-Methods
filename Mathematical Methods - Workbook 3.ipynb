{
  "nbformat": 4,
  "nbformat_minor": 0,
  "metadata": {
    "anaconda-cloud": {},
    "kernelspec": {
      "display_name": "Python 3",
      "language": "python",
      "name": "python3"
    },
    "language_info": {
      "codemirror_mode": {
        "name": "ipython",
        "version": 3
      },
      "file_extension": ".py",
      "mimetype": "text/x-python",
      "name": "python",
      "nbconvert_exporter": "python",
      "pygments_lexer": "ipython3",
      "version": "3.8.3"
    },
    "colab": {
      "provenance": [],
      "collapsed_sections": [],
      "include_colab_link": true
    },
    "widgets": {
      "application/vnd.jupyter.widget-state+json": {
        "4a2f9e1ebc7e414980df50c11a6bc32f": {
          "model_module": "@jupyter-widgets/controls",
          "model_name": "VBoxModel",
          "model_module_version": "1.5.0",
          "state": {
            "_dom_classes": [
              "widget-interact"
            ],
            "_model_module": "@jupyter-widgets/controls",
            "_model_module_version": "1.5.0",
            "_model_name": "VBoxModel",
            "_view_count": null,
            "_view_module": "@jupyter-widgets/controls",
            "_view_module_version": "1.5.0",
            "_view_name": "VBoxView",
            "box_style": "",
            "children": [
              "IPY_MODEL_6ea315a37d4646a08c8da9ce3e43a70b",
              "IPY_MODEL_828f61c9362c43d9a298d96242123e03"
            ],
            "layout": "IPY_MODEL_464012427118427c8b58894b4d928787"
          }
        },
        "6ea315a37d4646a08c8da9ce3e43a70b": {
          "model_module": "@jupyter-widgets/controls",
          "model_name": "FloatSliderModel",
          "model_module_version": "1.5.0",
          "state": {
            "_dom_classes": [],
            "_model_module": "@jupyter-widgets/controls",
            "_model_module_version": "1.5.0",
            "_model_name": "FloatSliderModel",
            "_view_count": null,
            "_view_module": "@jupyter-widgets/controls",
            "_view_module_version": "1.5.0",
            "_view_name": "FloatSliderView",
            "continuous_update": true,
            "description": "t",
            "description_tooltip": null,
            "disabled": false,
            "layout": "IPY_MODEL_d78d802c904f42fbb1686da71d712d78",
            "max": 10,
            "min": 0,
            "orientation": "horizontal",
            "readout": true,
            "readout_format": ".2f",
            "step": 0.02,
            "style": "IPY_MODEL_0fe0e148f4fa412bb8b674e36a0ab5ae",
            "value": 0
          }
        },
        "828f61c9362c43d9a298d96242123e03": {
          "model_module": "@jupyter-widgets/output",
          "model_name": "OutputModel",
          "model_module_version": "1.0.0",
          "state": {
            "_dom_classes": [],
            "_model_module": "@jupyter-widgets/output",
            "_model_module_version": "1.0.0",
            "_model_name": "OutputModel",
            "_view_count": null,
            "_view_module": "@jupyter-widgets/output",
            "_view_module_version": "1.0.0",
            "_view_name": "OutputView",
            "layout": "IPY_MODEL_dcff67f283b34d3cad4294c0e9972dc2",
            "msg_id": "",
            "outputs": [
              {
                "output_type": "display_data",
                "data": {
                  "text/plain": "<Figure size 432x288 with 1 Axes>",
                  "image/png": "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\n"
                },
                "metadata": {
                  "needs_background": "light"
                }
              }
            ]
          }
        },
        "464012427118427c8b58894b4d928787": {
          "model_module": "@jupyter-widgets/base",
          "model_name": "LayoutModel",
          "model_module_version": "1.2.0",
          "state": {
            "_model_module": "@jupyter-widgets/base",
            "_model_module_version": "1.2.0",
            "_model_name": "LayoutModel",
            "_view_count": null,
            "_view_module": "@jupyter-widgets/base",
            "_view_module_version": "1.2.0",
            "_view_name": "LayoutView",
            "align_content": null,
            "align_items": null,
            "align_self": null,
            "border": null,
            "bottom": null,
            "display": null,
            "flex": null,
            "flex_flow": null,
            "grid_area": null,
            "grid_auto_columns": null,
            "grid_auto_flow": null,
            "grid_auto_rows": null,
            "grid_column": null,
            "grid_gap": null,
            "grid_row": null,
            "grid_template_areas": null,
            "grid_template_columns": null,
            "grid_template_rows": null,
            "height": null,
            "justify_content": null,
            "justify_items": null,
            "left": null,
            "margin": null,
            "max_height": null,
            "max_width": null,
            "min_height": null,
            "min_width": null,
            "object_fit": null,
            "object_position": null,
            "order": null,
            "overflow": null,
            "overflow_x": null,
            "overflow_y": null,
            "padding": null,
            "right": null,
            "top": null,
            "visibility": null,
            "width": null
          }
        },
        "d78d802c904f42fbb1686da71d712d78": {
          "model_module": "@jupyter-widgets/base",
          "model_name": "LayoutModel",
          "model_module_version": "1.2.0",
          "state": {
            "_model_module": "@jupyter-widgets/base",
            "_model_module_version": "1.2.0",
            "_model_name": "LayoutModel",
            "_view_count": null,
            "_view_module": "@jupyter-widgets/base",
            "_view_module_version": "1.2.0",
            "_view_name": "LayoutView",
            "align_content": null,
            "align_items": null,
            "align_self": null,
            "border": null,
            "bottom": null,
            "display": null,
            "flex": null,
            "flex_flow": null,
            "grid_area": null,
            "grid_auto_columns": null,
            "grid_auto_flow": null,
            "grid_auto_rows": null,
            "grid_column": null,
            "grid_gap": null,
            "grid_row": null,
            "grid_template_areas": null,
            "grid_template_columns": null,
            "grid_template_rows": null,
            "height": null,
            "justify_content": null,
            "justify_items": null,
            "left": null,
            "margin": null,
            "max_height": null,
            "max_width": null,
            "min_height": null,
            "min_width": null,
            "object_fit": null,
            "object_position": null,
            "order": null,
            "overflow": null,
            "overflow_x": null,
            "overflow_y": null,
            "padding": null,
            "right": null,
            "top": null,
            "visibility": null,
            "width": null
          }
        },
        "0fe0e148f4fa412bb8b674e36a0ab5ae": {
          "model_module": "@jupyter-widgets/controls",
          "model_name": "SliderStyleModel",
          "model_module_version": "1.5.0",
          "state": {
            "_model_module": "@jupyter-widgets/controls",
            "_model_module_version": "1.5.0",
            "_model_name": "SliderStyleModel",
            "_view_count": null,
            "_view_module": "@jupyter-widgets/base",
            "_view_module_version": "1.2.0",
            "_view_name": "StyleView",
            "description_width": "",
            "handle_color": null
          }
        },
        "dcff67f283b34d3cad4294c0e9972dc2": {
          "model_module": "@jupyter-widgets/base",
          "model_name": "LayoutModel",
          "model_module_version": "1.2.0",
          "state": {
            "_model_module": "@jupyter-widgets/base",
            "_model_module_version": "1.2.0",
            "_model_name": "LayoutModel",
            "_view_count": null,
            "_view_module": "@jupyter-widgets/base",
            "_view_module_version": "1.2.0",
            "_view_name": "LayoutView",
            "align_content": null,
            "align_items": null,
            "align_self": null,
            "border": null,
            "bottom": null,
            "display": null,
            "flex": null,
            "flex_flow": null,
            "grid_area": null,
            "grid_auto_columns": null,
            "grid_auto_flow": null,
            "grid_auto_rows": null,
            "grid_column": null,
            "grid_gap": null,
            "grid_row": null,
            "grid_template_areas": null,
            "grid_template_columns": null,
            "grid_template_rows": null,
            "height": null,
            "justify_content": null,
            "justify_items": null,
            "left": null,
            "margin": null,
            "max_height": null,
            "max_width": null,
            "min_height": null,
            "min_width": null,
            "object_fit": null,
            "object_position": null,
            "order": null,
            "overflow": null,
            "overflow_x": null,
            "overflow_y": null,
            "padding": null,
            "right": null,
            "top": null,
            "visibility": null,
            "width": null
          }
        }
      }
    }
  },
  "cells": [
    {
      "cell_type": "markdown",
      "metadata": {
        "id": "view-in-github",
        "colab_type": "text"
      },
      "source": [
        "<a href=\"https://colab.research.google.com/github/tlyonsWIT/Mathematical-Methods/blob/main/Mathematical%20Methods%20-%20Workbook%203.ipynb\" target=\"_parent\"><img src=\"https://colab.research.google.com/assets/colab-badge.svg\" alt=\"Open In Colab\"/></a>"
      ]
    },
    {
      "cell_type": "markdown",
      "metadata": {
        "collapsed": true,
        "id": "c_3_zOKaqFM_"
      },
      "source": [
        "# Mathematical Methods - Python Workbook 3\n",
        "\n",
        "## B Sc (H) Applied Computing - Year 2  \n",
        "\n",
        "# South East Technological University - Waterford\n",
        "\n",
        "---\n",
        " "
      ]
    },
    {
      "cell_type": "markdown",
      "source": [
        "# Topic 1 - Vectors in 2-dimensions (2D)\n",
        "\n",
        "## Items Covered:\n",
        "\n",
        "1. Vectors & Lines\n",
        "\n",
        "2. Parametric Lines\n",
        "\n",
        "3. Interactive plots\n",
        "\n",
        "4. Animations"
      ],
      "metadata": {
        "id": "01mAAaYV5WAM"
      }
    },
    {
      "cell_type": "markdown",
      "metadata": {
        "id": "mmWPdMeCqFNH"
      },
      "source": [
        "## Calling the python libraries and functions\n",
        "\n",
        "\n",
        "* In the cell below the necessary Python libraries and functions are imported, which will be needed for the current work book\n"
      ]
    },
    {
      "cell_type": "code",
      "metadata": {
        "id": "7Qk8SxWnqFNJ"
      },
      "source": [
        "import matplotlib.pyplot as plt  ## Library of functions for 2D plotting\n",
        "import numpy as np ## Library of function for numerical work\n",
        "\n",
        "from ipywidgets import widgets, interact, interactive, fixed, interact_manual # Import widgets for interactive plots\n",
        "from IPython.display import clear_output # A function to clear interactive plots before each update\n",
        "\n",
        "from matplotlib import animation # A function to create an animation\n",
        "from IPython.display import HTML # For creating HTML animation whcih can be displayed directly in the browser / Colab notebook"
      ],
      "execution_count": 1,
      "outputs": []
    },
    {
      "cell_type": "markdown",
      "source": [
        "---"
      ],
      "metadata": {
        "id": "og4C62HQ560Q"
      }
    },
    {
      "cell_type": "markdown",
      "source": [
        "\n",
        "## Item 1 - Vectors & Lines\n",
        "\n",
        "### Item 1 (a) - The equation of a line\n",
        "\n",
        "* The find the equation of a line, we need the slope of the line and a point along the line\n",
        "\n",
        "\n",
        "\n",
        "* In these examples, the __slope__ will be given in the form of a vector\n",
        "$$\\vec{u}= u_{1}\\hat{\\imath} + u_{2}\\hat{\\jmath}$$\n",
        "which points along the line\n",
        "\n",
        "\n",
        "\n",
        "* The given point witll be of the form $B(a,b)$ where $a$ and $b$ are numbers. We usually call this point the __base-point__\n",
        "\n",
        "\n",
        "\n",
        "* Recall from lectures, that the vector \n",
        "$\\vec{u}= u_{1}\\hat{\\imath} + u_{2}\\hat{\\jmath}$\n",
        "has a $\\perp$ vector $\\vec{u}^{\\perp}$ of the form\n",
        "$$\n",
        "\\vec{u}^{\\perp} = u_{2}\\hat{\\imath} - u_{1}\\hat{\\jmath}\n",
        "$$\n",
        "or\n",
        "$$\n",
        "\\vec{u}^{\\perp} = -u_{2}\\hat{\\imath} + u_{1}\\hat{\\jmath}\n",
        "$$\n",
        "\n",
        "\n",
        "\n",
        "* If $P(x,y)$ is an __arbitrary point__ on the line, then the vector\n",
        "$$\n",
        "\\vec{BP} = (x-a)\\hat{\\imath} + (y-b)\\hat{\\jmath}\n",
        "$$\n",
        "is a vector along the line, whcih means it is also $\\perp$ to $\\vec{u}^{\\perp}$\n",
        "\n",
        "\n",
        "\n",
        "* Since $\\perp$ vectors have a dot-product of zero, then\n",
        "$$\n",
        "\\vec{u}^{\\perp}\\cdot\\vec{BP} = 0,\n",
        "$$\n",
        "which gives the equation of the line when worked out\n",
        "\n",
        "* With $\\vec{u}^{\\perp} = u_{2}\\hat{\\imath} - u_{1}\\hat{\\jmath}$ and $\\vec{BP} = (x-a)\\hat{\\imath} + (y-b)\\hat{\\jmath}$ we now have\n",
        "$$\n",
        "u_{2}(x-a) - u_{1}(y-b) = 0.\n",
        "$$\n",
        "\n",
        "* Solving for $y$ we now find\n",
        "$$\n",
        "u_{2}(x-a) = u_{1}(y-b) \\implies \\frac{u_{2}}{u_{1}}(x-a) = y-b \\implies \\frac{u_{2}}{u_{1}}(x-a) + b= y.\n",
        "$$\n",
        "so the equation of the line is aslo\n",
        "$$\n",
        "y = \\frac{u_{2}}{u_{1}}(x-a) + b \n",
        "$$\n",
        "\n",
        "* We can define a function __Y()__ for any vector $\\vec{u}$ and base-point $B$"
      ],
      "metadata": {
        "id": "RlaTV-Wt7UgF"
      }
    },
    {
      "cell_type": "code",
      "source": [],
      "metadata": {
        "id": "_wfBNBJwpv6r"
      },
      "execution_count": 26,
      "outputs": []
    },
    {
      "cell_type": "markdown",
      "source": [
        "## Creating our functions\n",
        "\n",
        "*  In the cell below we re-define the functions __v2d()__ to create vectors and __perp()__ to create a $\\perp$ vector  (see __Workbook 2__)"
      ],
      "metadata": {
        "id": "F6vLJa02pwxb"
      }
    },
    {
      "cell_type": "code",
      "source": [
        "def v2d(a,b):\n",
        "    return np.array([a,b])"
      ],
      "metadata": {
        "id": "S-efQtKW6nXr"
      },
      "execution_count": 2,
      "outputs": []
    },
    {
      "cell_type": "code",
      "source": [
        "def perp(u):\n",
        "    return np.array([u[1],-u[0]])"
      ],
      "metadata": {
        "id": "6VVWVk229EVw"
      },
      "execution_count": 3,
      "outputs": []
    },
    {
      "cell_type": "markdown",
      "source": [
        "* We can now create a function called __Y()__\n",
        "\n",
        "\n",
        "* There are three arguments for this function:\n",
        " 1. The coordinate __x__\n",
        " 2. The vector along the line __u__\n",
        " 3. The base-point __B__"
      ],
      "metadata": {
        "id": "B-_qqsAHClUK"
      }
    },
    {
      "cell_type": "code",
      "source": [
        "def Y(x,u,B):\n",
        "    return u[1]/u[0]*(x-B[0]) + B[1]"
      ],
      "metadata": {
        "id": "fLgBxGefv6xn"
      },
      "execution_count": 4,
      "outputs": []
    },
    {
      "cell_type": "markdown",
      "source": [
        "* This function gives the $y$-coordinate for any value of $x$ along the line with slope $\\vec{u}$ and passing through the point $B$"
      ],
      "metadata": {
        "id": "bNoOy-Hh68U5"
      }
    },
    {
      "cell_type": "markdown",
      "source": [
        "## __Eample__ 1 (from Lectures on Monday 26-Sep-2022)\n",
        "\n",
        "* Show that the line along the vector\n",
        "$$\n",
        "\\vec{u} = 2\\hat{\\imath} +\\hat{\\jmath}\n",
        "$$\n",
        "and passing through the point $B(-1,0)$ also contains the point $P(3,2)$\n",
        "\n",
        "* Plot the line, the vector $u$ and the base-point $B$\n",
        "\n",
        "\n",
        "### Solution\n",
        "\n",
        "* We already know the equation of the line is \n",
        "$$\n",
        "x-2y+1 = 0\n",
        "$$\n",
        "\n",
        "* First we define the vector $\\vec{u}$ and the base-point $B$ using the function __v2d()__"
      ],
      "metadata": {
        "id": "DUL6PzTpyQ_C"
      }
    },
    {
      "cell_type": "code",
      "source": [
        "B=v2d(-1,0)\n",
        "u=v2d(2,1)"
      ],
      "metadata": {
        "id": "yPX6h_DJv66C"
      },
      "execution_count": 5,
      "outputs": []
    },
    {
      "cell_type": "markdown",
      "source": [
        "* To check $P(3,2)$ is along this line we use __x=3__ in the function __Y(x,u,B)__ and we should get 2 back "
      ],
      "metadata": {
        "id": "_MhpH7OM0HxZ"
      }
    },
    {
      "cell_type": "code",
      "source": [
        "Y(3,u,B)"
      ],
      "metadata": {
        "id": "k-aaN_Ej7sPp",
        "colab": {
          "base_uri": "https://localhost:8080/"
        },
        "outputId": "1b3c65a8-f670-4010-c7e7-dab3913d86a6"
      },
      "execution_count": 6,
      "outputs": [
        {
          "output_type": "execute_result",
          "data": {
            "text/plain": [
              "2.0"
            ]
          },
          "metadata": {},
          "execution_count": 6
        }
      ]
    },
    {
      "cell_type": "markdown",
      "source": [
        "* To plot the line we need to create the $x$-axis first\n",
        "\n",
        "* We will use an $x$-axis from $-5$ to $5$ with 101 point\n",
        "\n",
        "* This is created using the __np.linspace()__ function as shown below"
      ],
      "metadata": {
        "id": "STgEk95E7anP"
      }
    },
    {
      "cell_type": "code",
      "source": [
        "X=np.linspace(-5,5,101)"
      ],
      "metadata": {
        "id": "w-dbopwm8Jzw"
      },
      "execution_count": 7,
      "outputs": []
    },
    {
      "cell_type": "code",
      "source": [],
      "metadata": {
        "id": "SpSf_7sI83f6"
      },
      "execution_count": 32,
      "outputs": []
    },
    {
      "cell_type": "markdown",
      "source": [
        "* We also create the perpendicular vector $\\vec{u}^{\\perp}$ using the __perp()__ function"
      ],
      "metadata": {
        "id": "LynOKwEQ8ucj"
      }
    },
    {
      "cell_type": "code",
      "source": [
        "up=perp(u)"
      ],
      "metadata": {
        "id": "Uh9qDgpx848m"
      },
      "execution_count": 8,
      "outputs": []
    },
    {
      "cell_type": "markdown",
      "source": [
        "* Now we can plot the line with __X__ along the horizontal and __Y(x,u,B)__ along the vertical\n",
        "\n",
        "* We have already seen how to plot a point and a vector in __Workbook 1__ and __Workbook 2__"
      ],
      "metadata": {
        "id": "yDTjwSw82mhG"
      }
    },
    {
      "cell_type": "code",
      "source": [
        "plt.figure(figsize=(9,9))\n",
        "plt.plot(X,Y(X,u,B),color='darkslategray',alpha=0.5) # Plot the line\n",
        "plt.plot(B[0],B[1],'o',color='r') # Plot the base-point\n",
        "plt.quiver(B[0],B[1],u[0],u[1],color='k',scale=1,scale_units='xy',angles='xy') # Plot u"
      ],
      "metadata": {
        "colab": {
          "base_uri": "https://localhost:8080/",
          "height": 555
        },
        "id": "YHucfjV52l5z",
        "outputId": "349fb14e-d00d-46b1-bc00-d8d78abd96b0"
      },
      "execution_count": 9,
      "outputs": [
        {
          "output_type": "execute_result",
          "data": {
            "text/plain": [
              "<matplotlib.quiver.Quiver at 0x7f8c142f9e90>"
            ]
          },
          "metadata": {},
          "execution_count": 9
        },
        {
          "output_type": "display_data",
          "data": {
            "text/plain": [
              "<Figure size 648x648 with 1 Axes>"
            ],
            "image/png": "[encoded data removed]"
          },
          "metadata": {
            "needs_background": "light"
          }
        }
      ]
    },
    {
      "cell_type": "markdown",
      "source": [
        "## _Exercise_ 1\n",
        "\n",
        "* Show that the line along the vector\n",
        "$$\n",
        "\\vec{v} = 5.6\\hat{\\imath} - 2.3\\hat{\\jmath}\n",
        "$$\n",
        "and passing through the point $B(2.8,-6.5)$ also contains the point $P(3,2)$\n",
        "\n",
        "* Plot the line, the vector $\\vec{v}$ and its perpendicular vector $\\vec{v}^{\\perp}$ and the base-point $B$"
      ],
      "metadata": {
        "id": "26QjGMiZufFO"
      }
    },
    {
      "cell_type": "code",
      "source": [],
      "metadata": {
        "id": "mRFqjKkruf5s"
      },
      "execution_count": 34,
      "outputs": []
    },
    {
      "cell_type": "code",
      "source": [],
      "metadata": {
        "id": "ApGroxGDugAv"
      },
      "execution_count": 34,
      "outputs": []
    },
    {
      "cell_type": "code",
      "source": [],
      "metadata": {
        "id": "vpfUoYSwugDL"
      },
      "execution_count": 34,
      "outputs": []
    },
    {
      "cell_type": "code",
      "source": [],
      "metadata": {
        "id": "J6MlPP_SugF9"
      },
      "execution_count": 34,
      "outputs": []
    },
    {
      "cell_type": "code",
      "source": [],
      "metadata": {
        "id": "nOIotbivugPn"
      },
      "execution_count": 34,
      "outputs": []
    },
    {
      "cell_type": "markdown",
      "source": [
        "---"
      ],
      "metadata": {
        "id": "tgAirJcdnriT"
      }
    },
    {
      "cell_type": "markdown",
      "source": [
        "# Item 2 - Parametric Lines\n",
        "\n",
        "* The point of parametric lines is they are much easier to work with since they give the coordinates directly from the vector and base-point\n",
        "\n",
        "\n",
        "* The __parametric line__ in the direction of the vector\n",
        "$$\n",
        "\\vec{u} = u_{1}\\hat{\\imath} + u_{2}\\hat{\\jmath} \n",
        "$$\n",
        "passing through the base-point $B(a,b)$ is given by\n",
        "$$\n",
        "(x,y) = (a,b) + t(u_{1},u_{2}) = (a + tu_{1} , b+ tu_{2})\n",
        "$$\n",
        "\n",
        "* Thats it!! We can easily create a function to plot this parametric line, given any vector __u__ and base-point __B__"
      ],
      "metadata": {
        "id": "Q1ub0IQJ8cTO"
      }
    },
    {
      "cell_type": "code",
      "source": [
        "def PL(t,u,B): # u is the vector; dp is the number of decimal places\n",
        "    return np.array([B[0] + t*u[0] , B[1] + t*u[1]])"
      ],
      "metadata": {
        "id": "NBu2ZDtP6w5J"
      },
      "execution_count": 12,
      "outputs": []
    },
    {
      "cell_type": "markdown",
      "source": [
        "#### Note\n",
        "\n",
        "* __PL()__ returns a pair of values for eact value of __t__ inputted\n",
        "\n",
        "* To extract the first of these values we use the syntax __PL()[0]__ while the second of these values is __PL()[1]__\n",
        "\n",
        "* These are the $x$ and $y$ coordinates along the parametric line"
      ],
      "metadata": {
        "id": "E6ctxolhpX0x"
      }
    },
    {
      "cell_type": "markdown",
      "source": [
        "## __Example__ 2\n",
        "\n",
        "* Plot the line parallel to \n",
        "$$\n",
        "\\vec{u} = -1.4\\hat{\\imath} + 3.2\\hat{\\jmath}\n",
        "$$\n",
        "passing through the base-point $B(6.5,3.8)$ in parametric form\n",
        "\n",
        "* Plot the points at time $t=0$, $t=1.5$ and $t=4.8$ along the line\n",
        "\n",
        "\n",
        "### Solution\n",
        "\n",
        "* We use __v2d()__ to define the base-point and the vector in the ususal way"
      ],
      "metadata": {
        "id": "Zd7nS19P8990"
      }
    },
    {
      "cell_type": "code",
      "source": [
        "B=v2d(6.5,3.8)\n",
        "u=v2d(-1.4,3.2)\n",
        "B,u"
      ],
      "metadata": {
        "colab": {
          "base_uri": "https://localhost:8080/"
        },
        "id": "q46q8wZz9huB",
        "outputId": "2164f351-51f5-4da8-972f-ab22fa6c907b"
      },
      "execution_count": 13,
      "outputs": [
        {
          "output_type": "execute_result",
          "data": {
            "text/plain": [
              "(array([6.5, 3.8]), array([-1.4,  3.2]))"
            ]
          },
          "metadata": {},
          "execution_count": 13
        }
      ]
    },
    {
      "cell_type": "markdown",
      "source": [
        "* The line must be plotted over some interval of the parameter (i.e. time) __t__\n",
        "\n",
        "* We must use __np.linspace()__ to define this interval\n",
        "\n",
        "* We will plot the line starting at $t=0$ and ending at $t=10$ seconds with 101 times within the interval"
      ],
      "metadata": {
        "id": "E3E1DcC2rybY"
      }
    },
    {
      "cell_type": "code",
      "source": [
        "t=np.linspace(0,10,101)\n",
        "PL(t,u,B)"
      ],
      "metadata": {
        "colab": {
          "base_uri": "https://localhost:8080/"
        },
        "id": "v_Fokf6V9hwn",
        "outputId": "deda6f39-d845-4062-8978-24344765a9c8"
      },
      "execution_count": 14,
      "outputs": [
        {
          "output_type": "execute_result",
          "data": {
            "text/plain": [
              "array([[ 6.5 ,  6.36,  6.22,  6.08,  5.94,  5.8 ,  5.66,  5.52,  5.38,\n",
              "         5.24,  5.1 ,  4.96,  4.82,  4.68,  4.54,  4.4 ,  4.26,  4.12,\n",
              "         3.98,  3.84,  3.7 ,  3.56,  3.42,  3.28,  3.14,  3.  ,  2.86,\n",
              "         2.72,  2.58,  2.44,  2.3 ,  2.16,  2.02,  1.88,  1.74,  1.6 ,\n",
              "         1.46,  1.32,  1.18,  1.04,  0.9 ,  0.76,  0.62,  0.48,  0.34,\n",
              "         0.2 ,  0.06, -0.08, -0.22, -0.36, -0.5 , -0.64, -0.78, -0.92,\n",
              "        -1.06, -1.2 , -1.34, -1.48, -1.62, -1.76, -1.9 , -2.04, -2.18,\n",
              "        -2.32, -2.46, -2.6 , -2.74, -2.88, -3.02, -3.16, -3.3 , -3.44,\n",
              "        -3.58, -3.72, -3.86, -4.  , -4.14, -4.28, -4.42, -4.56, -4.7 ,\n",
              "        -4.84, -4.98, -5.12, -5.26, -5.4 , -5.54, -5.68, -5.82, -5.96,\n",
              "        -6.1 , -6.24, -6.38, -6.52, -6.66, -6.8 , -6.94, -7.08, -7.22,\n",
              "        -7.36, -7.5 ],\n",
              "       [ 3.8 ,  4.12,  4.44,  4.76,  5.08,  5.4 ,  5.72,  6.04,  6.36,\n",
              "         6.68,  7.  ,  7.32,  7.64,  7.96,  8.28,  8.6 ,  8.92,  9.24,\n",
              "         9.56,  9.88, 10.2 , 10.52, 10.84, 11.16, 11.48, 11.8 , 12.12,\n",
              "        12.44, 12.76, 13.08, 13.4 , 13.72, 14.04, 14.36, 14.68, 15.  ,\n",
              "        15.32, 15.64, 15.96, 16.28, 16.6 , 16.92, 17.24, 17.56, 17.88,\n",
              "        18.2 , 18.52, 18.84, 19.16, 19.48, 19.8 , 20.12, 20.44, 20.76,\n",
              "        21.08, 21.4 , 21.72, 22.04, 22.36, 22.68, 23.  , 23.32, 23.64,\n",
              "        23.96, 24.28, 24.6 , 24.92, 25.24, 25.56, 25.88, 26.2 , 26.52,\n",
              "        26.84, 27.16, 27.48, 27.8 , 28.12, 28.44, 28.76, 29.08, 29.4 ,\n",
              "        29.72, 30.04, 30.36, 30.68, 31.  , 31.32, 31.64, 31.96, 32.28,\n",
              "        32.6 , 32.92, 33.24, 33.56, 33.88, 34.2 , 34.52, 34.84, 35.16,\n",
              "        35.48, 35.8 ]])"
            ]
          },
          "metadata": {},
          "execution_count": 14
        }
      ]
    },
    {
      "cell_type": "markdown",
      "source": [
        "* The first set of numbers inside this array are __PL(t,u,B)[0]__ i.e. the $x$-ccordinates along the line\n",
        "\n",
        "* The second set of numbsers are __PL(t,u,B)[1]__ which are the $y$-ccordinates"
      ],
      "metadata": {
        "id": "EdQj-AZqvTTQ"
      }
    },
    {
      "cell_type": "code",
      "source": [],
      "metadata": {
        "id": "_xvl-CQ7vsuz"
      },
      "execution_count": 37,
      "outputs": []
    },
    {
      "cell_type": "code",
      "source": [
        "plt.plot(PL(t,u,B)[0] , PL(t,u,B)[1],ls='--',color='gray')\n",
        "\n",
        "plt.plot(PL(0,u,B)[0] , PL(0,u,B)[1],'o',color='red',label='$t=0$')\n",
        "plt.plot(PL(1.5,u,B)[0] , PL(1.5,u,B)[1],'s',color='green',label='$t=1.5$')\n",
        "plt.plot(PL(4.8,u,B)[0] , PL(4.8,u,B)[1],'D',color='blue',label='$t=4.8$')\n",
        "\n",
        "plt.xlabel('$x$')\n",
        "plt.ylabel('$y$')\n",
        "plt.legend()"
      ],
      "metadata": {
        "id": "9Nj1vlGz9hzb",
        "colab": {
          "base_uri": "https://localhost:8080/",
          "height": 297
        },
        "outputId": "6b8e751a-8c85-434f-9002-fd11221ad3f7"
      },
      "execution_count": 15,
      "outputs": [
        {
          "output_type": "execute_result",
          "data": {
            "text/plain": [
              "<matplotlib.legend.Legend at 0x7f8c1839bcd0>"
            ]
          },
          "metadata": {},
          "execution_count": 15
        },
        {
          "output_type": "display_data",
          "data": {
            "text/plain": [
              "<Figure size 432x288 with 1 Axes>"
            ],
            "image/png": "[encoded data removed]"
          },
          "metadata": {
            "needs_background": "light"
          }
        }
      ]
    },
    {
      "cell_type": "markdown",
      "source": [
        "## _Exercise_ 2\n",
        "\n",
        "* Plot the line parallel to \n",
        "$$\n",
        "\\vec{v} = 6.2\\hat{\\imath} + 4.5\\hat{\\jmath}\n",
        "$$\n",
        "passing through the base-point $B(-5.6,13.5)$ in parametric form\n",
        "\n",
        "* Plot the points at time $t=0$, $t=3.2$ and $t=6.7$ along the line\n"
      ],
      "metadata": {
        "id": "irSNeXrmAMNM"
      }
    },
    {
      "cell_type": "code",
      "source": [],
      "metadata": {
        "id": "mgSmvkGk9h2n"
      },
      "execution_count": 38,
      "outputs": []
    },
    {
      "cell_type": "code",
      "source": [],
      "metadata": {
        "id": "t4Qw6wqRAimV"
      },
      "execution_count": 38,
      "outputs": []
    },
    {
      "cell_type": "code",
      "source": [],
      "metadata": {
        "id": "JkIPTeSgAisT"
      },
      "execution_count": 38,
      "outputs": []
    },
    {
      "cell_type": "code",
      "source": [],
      "metadata": {
        "id": "v1HtrClKAjGw"
      },
      "execution_count": 38,
      "outputs": []
    },
    {
      "cell_type": "markdown",
      "source": [
        "---"
      ],
      "metadata": {
        "id": "nhyh8Jev51PG"
      }
    },
    {
      "cell_type": "markdown",
      "source": [
        "# Item 3 - Interactive Plots\n",
        "\n",
        "* Parametric plots are a goode example of the usefulness of __interactive plots__\n",
        "\n",
        "\n",
        "* These are plots generated using the __ipywidgets__ library.\n",
        "\n",
        "\n",
        "## __Example__ 3\n",
        "\n",
        "* We consider the line parallel to the vector\n",
        "$$\n",
        "\\vec{w}= 2.3\\hat{\\imath} + 1.7\\hat{\\imath} \n",
        "$$\n",
        "and passing through the base-point $B(-1.3,-4.2)$ in parametric form.\n",
        "\n",
        "\n",
        "* Find the end-point $E(a,b)$ of this parametric line at __t=10__ seconds \n",
        "\n",
        "\n",
        "* Plot the line joining $B$ and $E$ on an interactive plot, and use an interactive slider to show a dot moving along this line"
      ],
      "metadata": {
        "id": "_B2KYgECA1ST"
      }
    },
    {
      "cell_type": "markdown",
      "source": [
        "## _Solution_ 3\n",
        "\n",
        "* The first part of this question is very easy, we just use __v2d()__ to define $\\vec{w}$ and $B$"
      ],
      "metadata": {
        "id": "eLK7gee23C2c"
      }
    },
    {
      "cell_type": "code",
      "source": [
        "B=v2d(-1.3,-4.2)\n",
        "w=v2d(2.3,1.7)"
      ],
      "metadata": {
        "id": "XUK_CQe-3VHd"
      },
      "execution_count": 16,
      "outputs": []
    },
    {
      "cell_type": "markdown",
      "source": [
        "* The end-point $E$ is now found using __PL()__ at __t=10__ to give"
      ],
      "metadata": {
        "id": "mxn6FBZ33dmU"
      }
    },
    {
      "cell_type": "code",
      "source": [
        "E=PL(10,w,B)\n",
        "E"
      ],
      "metadata": {
        "colab": {
          "base_uri": "https://localhost:8080/"
        },
        "id": "sFI41xIS3ls8",
        "outputId": "e9adc111-07e9-4923-eb5e-10ebc8300b2e"
      },
      "execution_count": 17,
      "outputs": [
        {
          "output_type": "execute_result",
          "data": {
            "text/plain": [
              "array([21.7, 12.8])"
            ]
          },
          "metadata": {},
          "execution_count": 17
        }
      ]
    },
    {
      "cell_type": "code",
      "source": [],
      "metadata": {
        "id": "Q07Cpizc3l38"
      },
      "execution_count": 40,
      "outputs": []
    },
    {
      "cell_type": "markdown",
      "source": [
        "* The next part is done by plotting lines and points in the usual way, the difference being they have to be put inside an new __def__ environment we will call __MovingPlot()__\n",
        "\n",
        "\n",
        "* The preamble of this environment is __@interact(t = (0,10,0.02))__ to indcate we are creating an interactive slider for __t__ which runs from 0 to 10 and increases in steps of 0.02\n",
        "\n",
        "\n",
        "* In the plot below, use the slider to change the value of __t__, which in turn changes the location of the dot along the line"
      ],
      "metadata": {
        "id": "6XcEvHkg3wVG"
      }
    },
    {
      "cell_type": "code",
      "source": [
        "@interact(t =(0,10,0.02)) # Create an interact environment with the interactive paramter t\n",
        "def MovingPlot1(t=0): # Define a new environment and initialise the parameter to t=0\n",
        "    plt.plot([B[0],E[0]] , [B[1],E[1]],ls='--',color='gray') # Plot the line between x-coords B[0] and E[0] and y-coords B[1] and E[1]\n",
        "    plt.plot(PL(t,w,B)[0],PL(t,w,B)[1],'o',color='red') # Plot a red-dot at time t along the parameterised line"
      ],
      "metadata": {
        "id": "F4lZma4jCtKC",
        "colab": {
          "base_uri": "https://localhost:8080/",
          "height": 297,
          "referenced_widgets": [
            "4a2f9e1ebc7e414980df50c11a6bc32f",
            "6ea315a37d4646a08c8da9ce3e43a70b",
            "828f61c9362c43d9a298d96242123e03",
            "464012427118427c8b58894b4d928787",
            "d78d802c904f42fbb1686da71d712d78",
            "0fe0e148f4fa412bb8b674e36a0ab5ae",
            "dcff67f283b34d3cad4294c0e9972dc2"
          ]
        },
        "outputId": "11b76a0a-9bce-4e3e-e358-af83beb76618"
      },
      "execution_count": 18,
      "outputs": [
        {
          "output_type": "display_data",
          "data": {
            "text/plain": [
              "interactive(children=(FloatSlider(value=0.0, description='t', max=10.0, step=0.02), Output()), _dom_classes=('…"
            ],
            "application/vnd.jupyter.widget-view+json": {
              "version_major": 2,
              "version_minor": 0,
              "model_id": "4a2f9e1ebc7e414980df50c11a6bc32f"
            }
          },
          "metadata": {}
        }
      ]
    },
    {
      "cell_type": "code",
      "source": [],
      "metadata": {
        "id": "DPq-3szp3lMc"
      },
      "execution_count": null,
      "outputs": []
    },
    {
      "cell_type": "markdown",
      "source": [
        "## _Exercise_ 3\n",
        "\n",
        "* Given line the parallel to the vector\n",
        "$$\n",
        "\\vec{p}= 5.6\\hat{\\imath} - 3.3\\hat{\\imath} \n",
        "$$\n",
        "and passing through the base-point $B(15.5,25.4)$, find the end-point $E(a,b)$ of this parametric line at __t=25__ seconds \n",
        "\n",
        "\n",
        "\n",
        "* Plot the line joining $B$ and $E$ on an interactive plot, and use an interactive slider to show a dot moving along this line"
      ],
      "metadata": {
        "id": "JyW7Iuis5SxG"
      }
    },
    {
      "cell_type": "code",
      "source": [],
      "metadata": {
        "id": "yoaavfLq5dz9"
      },
      "execution_count": null,
      "outputs": []
    },
    {
      "cell_type": "code",
      "source": [],
      "metadata": {
        "id": "9IROyp3Q5d2z"
      },
      "execution_count": null,
      "outputs": []
    },
    {
      "cell_type": "code",
      "source": [],
      "metadata": {
        "id": "twEz-47A5d5A"
      },
      "execution_count": null,
      "outputs": []
    },
    {
      "cell_type": "code",
      "source": [],
      "metadata": {
        "id": "iu_ApYa75d7l"
      },
      "execution_count": null,
      "outputs": []
    },
    {
      "cell_type": "code",
      "source": [],
      "metadata": {
        "id": "AyAXAC5l8P5I"
      },
      "execution_count": null,
      "outputs": []
    },
    {
      "cell_type": "markdown",
      "source": [
        "---"
      ],
      "metadata": {
        "id": "VDVyBGIH9BNm"
      }
    },
    {
      "cell_type": "markdown",
      "source": [
        "# Item 4 - Animations\n",
        "\n",
        "* Another way to create a dynamic plot is to animate the functions in the plot\n",
        "\n",
        "\n",
        "* The set-up is slightly more complicated than an interactive plot\n",
        "\n",
        "\n",
        "* In the example below we will create an animation of a dot moving along a given line and tracing out the line as it moves along\n",
        "\n",
        "\n",
        "* As with interactive plots, the easiest way to create an animation of this simple picture is to used the parametric form of the line"
      ],
      "metadata": {
        "id": "H8k5Nev98QHb"
      }
    },
    {
      "cell_type": "markdown",
      "source": [
        "## __Example__ 4\n",
        "\n",
        "* A moving-point starting at the base-point $B(-4.3,2.1)$ moves with velocity\n",
        "$$\n",
        "\\vec{v} = 3.3\\hat{\\imath} +1.2\\hat{\\jmath}\n",
        "$$\n",
        "\n",
        "* Create an animation to show the path traced by the moving-point as it moves along the path\n",
        "\n",
        "\n",
        "* The parameter should run from __t=0__ to __t=12.5__ seconds\n",
        "\n",
        "### _Solution_\n",
        "\n",
        "* We first want to find the end-point of the plot $E(a,b)$ using the __PL()__ function"
      ],
      "metadata": {
        "id": "bRKFT3Un9DWs"
      }
    },
    {
      "cell_type": "code",
      "source": [
        "B=v2d(-4.3,2.1)\n",
        "v=v2d(3.3,2.1)\n",
        "\n",
        "E=PL(12.5,v,B)\n",
        "E"
      ],
      "metadata": {
        "colab": {
          "base_uri": "https://localhost:8080/"
        },
        "id": "p5rps1YxIjBU",
        "outputId": "de1effd7-b25c-464c-d894-983fa20e1b56"
      },
      "execution_count": 19,
      "outputs": [
        {
          "output_type": "execute_result",
          "data": {
            "text/plain": [
              "array([36.95, 28.35])"
            ]
          },
          "metadata": {},
          "execution_count": 19
        }
      ]
    },
    {
      "cell_type": "markdown",
      "source": [
        "* We set the x-limits of the figure 1 step left of __B__ and one step right of __E__"
      ],
      "metadata": {
        "id": "EhFrodrWLWcl"
      }
    },
    {
      "cell_type": "code",
      "source": [
        "left = B[0] - 1\n",
        "right = E[0] + 1"
      ],
      "metadata": {
        "id": "y6tnrvVPLjiN"
      },
      "execution_count": 20,
      "outputs": []
    },
    {
      "cell_type": "markdown",
      "source": [
        "*  We set the y-limits of the figure 1 step below of __B__ and one step above of __E__"
      ],
      "metadata": {
        "id": "P_MRSxxALwkr"
      }
    },
    {
      "cell_type": "code",
      "source": [
        "bottom = B[1] - 1\n",
        "top = E[1] + 1"
      ],
      "metadata": {
        "id": "-ACtNGZbMLNx"
      },
      "execution_count": 21,
      "outputs": []
    },
    {
      "cell_type": "markdown",
      "source": [
        "* We now create an __empty figure__ which has place holders for the differnet compnents of the animated plot, i.e. the line and the moving-point\n",
        "\n",
        "\n",
        "* We can also set the figsize, the x and y limits, and even the line style and dot style and the colors in this empyt plot\n",
        "\n",
        "\n",
        "* These properties will not change throughout the course of the animation"
      ],
      "metadata": {
        "id": "3ckEGkHnUiQ0"
      }
    },
    {
      "cell_type": "code",
      "source": [
        "fig = plt.figure(figsize=(9,6)) # Create a figure environment called fig whose size is 9\" x 6\"\n",
        "\n",
        "plt.xlim(left,right) # Set the x-limits of fig\n",
        "plt.ylim(bottom,top) # Set the y-limits of fig\n",
        "\n",
        "plt.xlabel('x-axis', size=14) # Label the x-axis\n",
        "plt.ylabel('y-axis', size=14) # Label the y-axis\n",
        "\n",
        "xdata, ydata = [], [] # Create place-holders for the x and y points along the line\n",
        "\n",
        "ln, = plt.plot([] , [] , ls='--', color = 'gray') # Create an plot environment called ln, for the line which should be dashed and gray\n",
        "\n",
        "dot, = plt.plot([] , [], 's' , color = 'red') # Creat a plot environment called dot, for the moving point which should be square and red"
      ],
      "metadata": {
        "colab": {
          "base_uri": "https://localhost:8080/",
          "height": 392
        },
        "id": "BrcCFloq8_iw",
        "outputId": "853270e2-c86d-4d8f-d88e-f4a50bb4154a"
      },
      "execution_count": 22,
      "outputs": [
        {
          "output_type": "display_data",
          "data": {
            "text/plain": [
              "<Figure size 648x432 with 1 Axes>"
            ],
            "image/png": "[encoded data removed]"
          },
          "metadata": {
            "needs_background": "light"
          }
        }
      ]
    },
    {
      "cell_type": "markdown",
      "source": [
        "* Next we have to create a function we call __update(t)__ which tells the animator what the figure should look like at time __t__"
      ],
      "metadata": {
        "id": "i-9GzHlV_aeR"
      }
    },
    {
      "cell_type": "code",
      "source": [
        "# Everthing inside update(t) will change as the t value changes\n",
        "def update(t):\n",
        "    # Set the x,y-data at time t using the PL function\n",
        "    X=PL(t,v,B)[0]\n",
        "    Y=PL(t,v,B)[1]\n",
        "    \n",
        "    # Append these new data the previous xdata and ydata\n",
        "    xdata.append(X)\n",
        "    ydata.append(Y)\n",
        "    \n",
        "    # Update the new line including the newly appended data\n",
        "    ln.set_data(xdata, ydata)\n",
        "\n",
        "    # Set the x,y-coordinates for the dot at time t\n",
        "    dot.set_data(X, Y)\n",
        "\n",
        "    return ln, dot, # Return the updated line and moving-point "
      ],
      "metadata": {
        "id": "AsXLtpn9_DIf"
      },
      "execution_count": 23,
      "outputs": []
    },
    {
      "cell_type": "markdown",
      "source": [
        "* We create a __np.linspace()__ of values to sub into __update(t)__"
      ],
      "metadata": {
        "id": "Esh306tSD9zV"
      }
    },
    {
      "cell_type": "code",
      "source": [
        "T=np.linspace(0,12.5,501) # These are our t values "
      ],
      "metadata": {
        "id": "f6GBef8cEIId"
      },
      "execution_count": 24,
      "outputs": []
    },
    {
      "cell_type": "markdown",
      "source": [
        "* We now create an animation file we call __anim__ using the __animation.FuncAnimation()__ function  "
      ],
      "metadata": {
        "id": "AEoz6VP_ELJt"
      }
    },
    {
      "cell_type": "code",
      "source": [
        "# Start with fig, use update to change it, use T inside update, update=20 sets 20 ms between frame\n",
        "# blit = True means parts of the plot whci which do not change with time should not be re-plotted in each frame e.g. axis labels \n",
        "anim = animation.FuncAnimation(fig, update, frames=T, interval=20, blit=True)"
      ],
      "metadata": {
        "id": "fgpWAmUTBBtH"
      },
      "execution_count": 25,
      "outputs": []
    },
    {
      "cell_type": "markdown",
      "source": [
        "* The animation __anim__ is now ready. Now we just have to display it using  HTML"
      ],
      "metadata": {
        "id": "HyZuvATVFOCj"
      }
    },
    {
      "cell_type": "code",
      "source": [
        "HTML(anim.to_html5_video())"
      ],
      "metadata": {
        "colab": {
          "base_uri": "https://localhost:8080/",
          "height": 453
        },
        "id": "wqtoMe-MEHnH",
        "outputId": "88240d26-967f-410a-ac80-0b12a4fae464"
      },
      "execution_count": 26,
      "outputs": [
        {
          "output_type": "execute_result",
          "data": {
            "text/plain": [
              "<IPython.core.display.HTML object>"
            ],
            "text/html": [
              "<video width=\"648\" height=\"432\" controls autoplay loop>\n",
              "  <source type=\"video/mp4\" src=\"data:video/mp4;base64,AAAAHGZ0eXBNNFYgAAACAGlzb21pc28yYXZjMQAAAAhmcmVlAAB1Lm1kYXQAAAKuBgX//6rcRem9\n",
              "5tlIt5Ys2CDZI+7veDI2NCAtIGNvcmUgMTUyIHIyODU0IGU5YTU5MDMgLSBILjI2NC9NUEVHLTQg\n",
              "QVZDIGNvZGVjIC0gQ29weWxlZnQgMjAwMy0yMDE3IC0gaHR0cDovL3d3dy52aWRlb2xhbi5vcmcv\n",
              "eDI2NC5odG1sIC0gb3B0aW9uczogY2FiYWM9MSByZWY9MyBkZWJsb2NrPTE6MDowIGFuYWx5c2U9\n",
              "MHgzOjB4MTEzIG1lPWhleCBzdWJtZT03IHBzeT0xIHBzeV9yZD0xLjAwOjAuMDAgbWl4ZWRfcmVm\n",
              "PTEgbWVfcmFuZ2U9MTYgY2hyb21hX21lPTEgdHJlbGxpcz0xIDh4OGRjdD0xIGNxbT0wIGRlYWR6\n",
              "b25lPTIxLDExIGZhc3RfcHNraXA9MSBjaHJvbWFfcXBfb2Zmc2V0PS0yIHRocmVhZHM9MyBsb29r\n",
              "YWhlYWRfdGhyZWFkcz0xIHNsaWNlZF90aHJlYWRzPTAgbnI9MCBkZWNpbWF0ZT0xIGludGVybGFj\n",
              "ZWQ9MCBibHVyYXlfY29tcGF0PTAgY29uc3RyYWluZWRfaW50cmE9MCBiZnJhbWVzPTMgYl9weXJh\n",
              "bWlkPTIgYl9hZGFwdD0xIGJfYmlhcz0wIGRpcmVjdD0xIHdlaWdodGI9MSBvcGVuX2dvcD0wIHdl\n",
              "aWdodHA9MiBrZXlpbnQ9MjUwIGtleWludF9taW49MjUgc2NlbmVjdXQ9NDAgaW50cmFfcmVmcmVz\n",
              "aD0wIHJjX2xvb2thaGVhZD00MCByYz1jcmYgbWJ0cmVlPTEgY3JmPTIzLjAgcWNvbXA9MC42MCBx\n",
              "cG1pbj0wIHFwbWF4PTY5IHFwc3RlcD00IGlwX3JhdGlvPTEuNDAgYXE9MToxLjAwAIAAAAm4ZYiE\n",
              "ADP//vbsvgU1/Z/QlxEsxdpKcD4qpICAdzTAAAADAAADAAADAiVSo2eWZvyOlQAAAwAxQApa7XgL\n",
              "Y0XiAS8NDLZNRToT/9bQb/mfozDo5vdA4vfJmx5Q5T9/vkIhyLxWzZJ5EmFw2v5XDtxdFN05oEAM\n",
              "lmTTUhwooACYRmTgd37NZnfGcDkdgpoNnblb5n0vVi5gp1DjFPQOQ9jp5xL9fXPky6apNZEHqSLm\n",
              "hDn544HKxHxL2mokIzyYxF3n2sVP3NnqH1AHHPDi3tbS4fSiCUFZ9seF1A+zwpaQyUI4tG/MbV8X\n",
              "afZfupPo+IuYX+lltglLysPlLpzQngyaxWAAAAMAeCdfNWAAC1MQDk4QISx7Bb4vikdbuY2CLAL5\n",
              "hdWvJjVVPxV6h6E9sSrCpCLLGaak8nj1VdXtfUcd2jlyABdTmrWDHeiwwrwTmR0STYRFVfPrlS7X\n",
              "/F7JHcgKlCmmml0UOgFboqqeJgu19ENK9Wv4rL/FqmP3/GojvlQ5Eml5iL/AXvGAEUvlVoMQ4AHC\n",
              "Nx98BR/AiEm98ss+SJEVNjfdCQRAbpIuBxEUD6DcB432Z7miKLxdun7uGXaV1ukNCXOwfLqrbDSv\n",
              "4PalEkjIaQkxPqjuoCT0OhfF8UyJEkeiCBsqPRxuIbPI4ACU1yDbpvwkG4hH3mde0XyBFCEnHkn5\n",
              "mWZ0/Thur2URSjqIjmCy7WLDW3rs/p7+6jiuo07ZaLs1Phk/ADBntjyeAmZ+ca0iySm9/Jj03H+g\n",
              "4xg/vrPF8aGgl+LPckVsqIdR/B3uAnj/rfiIBrfVNaPDotK8KxV8WR62wI624H1dbms0/Wsx/VAJ\n",
              "RLtvuhvNrWYUEfCdtlRVtAmGspaQqeqDcw0xQr2YqnKy64arKizCYuKd1cJwN9wgWejZ7yNA+lXs\n",
              "dWkTgalvkb+OdxB+IYJNwFMMSGEWgH1sEePAow71BWAVHVCMIj5a/P5PTPmb/L4JzGh4hTnKj5TA\n",
              "uSmVHrE02G0nSWXN4F65Mi/+dwS7uBOMPBXIi15PKz0S6Jev1DH1XdOh0ZAYEKU+MoAc9m4F4uIP\n",
              "w9aNwWCrQs1fT2GGAAADA2vtgC1ErFlUiSyCn4pn8l11pFxcrKxR0ijtpaLunWRyxI6Xbmpw9TUo\n",
              "JGbMAH/dQ3pqR9qsU2FufS2PLXVdO4tySBZt1JqtqbtGJzJEdNshysbBwvNzO3cSrwDVqNgPLzEx\n",
              "cUnivSq+OiX9c2TgV+t47Sfv2wxN0973eDP0lUSo94Vr/P9hMRdilQ9LiXqOq5IAAPxGBcIQO4LJ\n",
              "/v7jbtvwUydQvzdWNsjjM65r2nmPpGmTHeCIyqXaUKH0UmmUj7yH83JfyR8SiNp5E1J/a+ehRcv6\n",
              "i2i8AefKBDMbqHgKC7x/cyCJ6jED5TIhysj+UAEEeNmPI4Tvi6yjoW+rLEpuB5TwfpaErGI7RC7D\n",
              "DX7sWq9CS/KDzysgvafEx0/F26l/dJPVHPs8561GPwAdfh/AkAK1/57a0hV2A0I8X/Nm6bHx7RrD\n",
              "1J3cbegc5iR5VkqTK5+uSkrCEme3JPgkAf1ClmyR24AY3Ycw+ANZSi5T+l8cE6E/inVIKDOoWCv8\n",
              "ZN0xI38DUjFA9Z/tY7cNnVHchgj0/8z/wfnwKc1gJ3H7Qf2VCC56Dd43r08pu03kW0n2TfwE7boZ\n",
              "tI6da6xq1nGdf5GCuH/57PRR+b+yCTGf1CwNj8NEtgQKwR9z+m3sOUmlqhMfmi9Jy3/Ynua4ly93\n",
              "9Xeb2ETWTrMEZ4CeEvPtZ7Nn/rZ9EbRmfwsxNq4u30DGTrD8pNJpFGSw1t3SPSKQdBJGiLV+SZL1\n",
              "OwJ7S3X8wA1qNTicSqsQTTP123YATp2zgegsPaL2NS/QlBvNb90T0jbkWLub1AJ5E/YO5S4dVgAF\n",
              "3UGDNrX4YOqx1KYGtuJH0v/5mOSF2vO1C/o0FYM0+b6VfhcZa5GkWYmM4lU4QVw70HtmKd+epji4\n",
              "PkjsT4n65hk1YBKIq5QyKxPn+UqizzCTduu0TUijHKyKR5Za+ZMbLPI7YV0RDM6cfQulCrBcMnfv\n",
              "chAYudXq1bUEhfbr4hKoHz2azK22sfvh6Vq/s5nJEpxZOvtbimVSnHyWR0q9e/qHKLX4GCqhuQoN\n",
              "2typ0jHhx5kyHImW6FCeMbeEOFfUGoWHePIQOQ/z7y50eOxCVgysrdJLd4m0VT4N3cKHrulEpaED\n",
              "hbameREzgEj1Gyn1uLXNlLIBEB7f0vS+7OCTKZSni0RtT1THElnEFC8xSRDvqAsF8T4DoqIMTmRB\n",
              "F3uT9JHW6Fnlz80baPJ+3bSHdFZZ/jWeYOy9i54MVsmwSbf9RVNYIZDtLvDz0ZxkRHfiZdcrow+t\n",
              "TLZV+MzbqPVEfILctNHoigPh3ge7zOOmhoajaSLtYGzHmJpxMbBcZ2PwYWnxEd/N34KV5eZsrnCX\n",
              "LXwFg13zzT5g5DOdt8shHA+XhcFvIxRAfwXIO6+1ySxLb3t199eBeCp7WZaY7eJz/j0+rFvCBmRT\n",
              "OYJtM6SlV9o9zv6i4tMbJFJcKakS9pupDFvhdKnza76IibcpopLktDb7R8kgm2Po+8EmLDj0rD9e\n",
              "74NQJb+yccxy7/Fg///zsBj+Ze1NJK9kLm79ZcMvgMBTeMIq9S5TGNI0juSz0J6opVQObmhWqRuh\n",
              "An504BWZTzsTm+/n9Tw3/noalqQvXKxEL7ybro3v26cT9Cr8KRSCHPr8mPsIomXQsJHZ8XczkJcV\n",
              "9OCezR4ccc7FxrsOmwYub6qBd2JU3Ax3pewXHwZu+nchGQpT/OAO214splde1iDs2apioByCGRPF\n",
              "1VzaA4n/vz4ygh8vx1n6gnFIhmj6eEcL4UA65YIlI+/FLLsXvxVkbdnxt+qGWcxDcdv/aqWZQ23B\n",
              "pLYxdjukRWXj/a1exWXRJtkDDKXoaeKlB6BJFf2SfrYv/khDVEK50vgAQyWQVrVGupEkCaUV2NRy\n",
              "XQGkuOqeD7H3VPfy0JeClWhzjiY22h23c93eUUU9KdDcDmSDIuRibrwueCIDTAZUYfZ2SZX6wSaF\n",
              "6k7g+4UGjRo7KH1NpRXT5LL+8IUMAOvevTUAyXzh/dJu6ziWVWBjtmQcx7aIJZBdtPZ5Ydp8O23+\n",
              "BmmO1jGBOuTR2d1Tq33nCyJSVJV/7EZoDDtYglfNy0RKY5y1wIdQmE+TkwM3mCxWO+O1vYIWiR4f\n",
              "E8yyYD6ON6Zqxag9BsERJmYs7PeZsOHAyqaa3FIdAq0VL148cfClTeB4+4JtLS2081QoAn4sgK7n\n",
              "ha7aGGAn+VZR/c3/QqCZl29rDVxHQXXkMGdnst4kavABuwAAAFxBmiRsQz/+nhAAAC1gkuQCaoud\n",
              "nWc1b3q/55eXuKb3/VLXQJmpx0hpM9YWxrYuCCY9r4O6HNDjrzZDImzwT0QFWWojrUf0tZu1yJ4O\n",
              "P1tG50mC0IeFQn5zEnURcAAAACZBnkJ4hH8AAAMAAlsCnqkSkWGyAFP4jZpLqWywPfr04bT3175c\n",
              "gQAAACEBnmF0R/8AAAMAAAT1BHQv9zvADMTz3ntclOW0bPboO4AAAAAVAZ5jakf/AAADAAAE+zCW\n",
              "TyoZUlJ5AAAAUEGaaEmoQWiZTAhn//6eEAAAAwAACbbPz4O+96gG4XVh48LAQ3yuxxcdrbZ6l5Us\n",
              "Ktu/EDj83CSp2PqixAy4g88p6SoVKdAn3C/cZKdqibklAAAAI0GehkURLCP/AAADAAADAxppKZBE\n",
              "AJar/p5wxvOwxg25n3whAAAAIQGepXRH/wAAAwAABOfTkfFUAE1bbmNS80Jax8gLwOADqQAAABIB\n",
              "nqdqR/8AAAMAAAT5Lkyc4uAAAAAsQZqsSahBbJlMCGf//p4QAAADAAAJah2B5ItgAQPqwAXyrjyD\n",
              "Zh5W20ZV7aAAAAAhQZ7KRRUsI/8AAAMAAAMDEXRocUp4ACwUyH1Fy5JNJ9WBAAAAGAGe6XRH/wAA\n",
              "AwAABNbx551UAGbZ4wS+qAAAABoBnutqR/8AAAMAAATY259/5gANOC4TF9UPaAAAADdBmvBJqEFs\n",
              "mUwIZ//+nhAAAAMAAAlnZxIFpT9Xt3k5LAAAlttq/kgZzMttWxAg6ydGp9uCRPmBAAAAH0GfDkUV\n",
              "LCP/AAADAAADAxF0aHFKeAAdZbIlJIo/doEAAAAeAZ8tdEf/AAADAAAN1eX4gLEownAAzjgg4NCl\n",
              "EEfBAAAAEwGfL2pH/wAAAwAABNM1sdXX80AAAABAQZs0SahBbJlMCGf//p4QAAADAAAa9do3nTU8\n",
              "WAg05EgpfmnWqDt9ZcIIMN7c8+Fw1hkim/cGzJ80ja1kW2WCYAAAACNBn1JFFSwj/wAAAwAACLBS\n",
              "VUBgdIoJzAA/ZAUzRs45uQ4xTQAAAB4Bn3F0R/8AAAMAAATTFjy5UAE6f29LjEbqe4x4YFMAAAAi\n",
              "AZ9zakf/AAADAAAN1JUrP0yE359wAAfpO2bWnK+XDJTi8AAAAEVBm3hJqEFsmUwIX//+jLAAAAMA\n",
              "ABtOE57mOhq5p3D3fbf1mMwDxWAoDFJ95+DcSQTYXmrbYWcVjUtoE857swpP71X1JM8AAAAmQZ+W\n",
              "RRUsI/8AAAMAAAirGqiStkVJ9H4QAHD5rmOOT8NymLPX5oAAAAAhAZ+1dEf/AAADAAAN1Pe+ySus\n",
              "EPHPAALrmdD8Kmo6qHFRAAAAGgGft2pH/wAAAwAADc/AOTZRHSAASk2fYA4vAAAAOkGbvEmoQWyZ\n",
              "TAhf//6MsAAAAwAAGoo4maUHwALoIfK/y5OvnXBCk1QmJVLlx0GzF6KkwyizOP12wIAAAAAiQZ/a\n",
              "RRUsI/8AAAMAAAhusVHpe5pbpXlwAGy8A8/xB+TUEQAAACABn/l0R/8AAAMAAA3VzSuZAB3Jdois\n",
              "jLkMP4EW8Wz4wAAAABgBn/tqR/8AAAMAAA3XjaHwTsCG0TfO+MEAAAAqQZv+SahBbJlMFEwz//6e\n",
              "EAAAAwAAGnEje1y2ABO2+tE6OO00c7+fIi2hAAAAHwGeHWpH/wAAAwAADYQVhAAJPlLCq3nZ+8oL\n",
              "AxBy7nEAAAAzQZoCSeEKUmUwIZ/+nhAAAAMAABpp7B6udk8SHACW64vKQmXMmZV4XnnapP5OoygJ\n",
              "b1tQAAAAH0GeIEU0TCP/AAADAAAIlP+ayzMpqp3QAfbwhOmkamkAAAAdAZ5fdEf/AAADAAANfVET\n",
              "lVABEDyOPR0CdFP9vhAAAAAbAZ5Bakf/AAADAAANWXXmTUAGmW9E4oj6DM+BAAAALEGaRkmoQWiZ\n",
              "TAhn//6eEAAAAwAAGlIew0UViYRMAENlhy1a7UQI8jvLyrn+AAAAH0GeZEURLCP/AAADAAAITmdT\n",
              "IIgBIk66RbfUyVGCBtUAAAAaAZ6DdEf/AAADAAANefCALQ/pwAqkq2DbqaEAAAAfAZ6Fakf/AAAD\n",
              "AAANba0jhIMYNRQAd5evxMHRaTrqaQAAAD1BmopJqEFsmUwIZ//+nhAAAAMAAEm/ukQ2NB3jyL2a\n",
              "BxPOUxvvTQvhclELMoNeVTpYVmBKFHOBRD4tRxQRAAAAHEGeqEUVLCP/AAADAAAIa/9fxdEACUoN\n",
              "q5UaDagAAAAiAZ7HdEf/AAADAAANV5gA0EAG8yi7bFDWuDWOue5xHDvu6AAAABUBnslqR/8AAAMA\n",
              "AA00FcVABqZ8wXEAAABLQZrOSahBbJlMCGf//p4QAAADAABJSDcFyIC+4VDJJ3tx+hZBO2khkGEb\n",
              "S2mdXRXwkiy+HasoG+8rtIgvSbYHnMmD0SCDUj3k9aD/AAAAHEGe7EUVLCP/AAADAAAIJY6U3oKA\n",
              "B+32Zo0V24gAAAAYAZ8LdEf/AAADAAANJx8RvwAA/zSJDUFxAAAAGQGfDWpH/wAAAwAADRiAkRgS\n",
              "MAGcI5TOUbUAAAAvQZsSSahBbJlMCF///oywAAADAABKAU5w+cATd5qiTe56OJEwnlarIyvE9HoU\n",
              "AXkAAAAaQZ8wRRUsI/8AAAMAABfoooY4oZHJN4xd1XAAAAAjAZ9PdEf/AAADAAAmwuzVY4Ra0d/o\n",
              "AAD82aVrC8o8SxrSuD4AAAAbAZ9Rakf/AAADAAAlvZYM6ML6gAJRTw2f3Gt7AAAAP0GbVkmoQWyZ\n",
              "TAhf//6MsAAAAwAAShRQveG6ACoC++XTMFNr+UDi0P78yFviXqM2ApOSIV4CqoEyMsKM/+wK2gAA\n",
              "AChBn3RFFSwj/wAAAwAAF+jcRtB0IABn0EtEO7SQ2zhhgKQbp6E0s6rgAAAAEwGfk3RH/wAAAwAA\n",
              "JcMXZbvBu0kAAAAdAZ+Vakf/AAADAAAlvaSH+gBF8meXD1KbGnYbdpAAAABFQZuZSahBbJlMCF//\n",
              "/oywAAADAABKAYakZcCCOkdGV7NnRqZZZrqSmlE/uGQZDxCoTenn2udKxRViJQhMXDOWXE97KVtB\n",
              "AAAAKEGft0UVLCP/AAADAAAX3+mbSuiIAVBEQy+TK/G3IrdXJ7BZKXwY6rkAAAAjAZ/Yakf/AAAD\n",
              "AAAmscFtNWsmAB3HUVPiG42yZXcnXMOrtIAAAAAsQZvdSahBbJlMCF///oywAAADAABIEJ3ox3OA\n",
              "CZphubBLd2802lh0eEwVZs0AAAAmQZ/7RRUsI/8AAAMAABc2VsieJAASxtddOjwCuTXVrRS3pOUg\n",
              "UUAAAAAYAZ4adEf/AAADAAAkqdMQACEBpC/UEJ2BAAAAGgGeHGpH/wAAAwAAJMbc+/8wAGz/P/+9\n",
              "KhOxAAAAJUGaH0moQWyZTBRMM//+nhAAAAMAAEdUnWzhdyAEIuGbOGc8UEAAAAAcAZ4+akf/AAAD\n",
              "AAAko2ocGD6ADNn4/EZBLgvbCwAAAC1BmiNJ4QpSZTAhn/6eEAAAAwAAR38hMIEGL3eAA5+N2eMV\n",
              "raM9eikoz4dSK2kAAAAYQZ5BRTRMI/8AAAMAABc4C3kiEIdpVKBgAAAAGgGeYHRH/wAAAwAAJG/e\n",
              "LghYAA/nFoEUWY6ZAAAAHAGeYmpH/wAAAwAAJDucjp2ADOIKU+lDdO7Ao+AAAABHQZpnSahBaJlM\n",
              "CGf//p4QAAADAADO/0gh/SU/HyyUnUjDURKQsKNrKct8JdT4uvf45zJophZyBWgF1YvTSIlJPgV7\n",
              "ur0xh00AAAAkQZ6FRREsI/8AAAMAABcBXnN0TgAE0iN+vn9+V6Q/J3VL5bb1AAAAHAGepHRH/wAA\n",
              "AwAAaa9COUjhfQvwACt2hk+AS8EAAAAcAZ6makf/AAADAAAkann+ZqUeJvgAEpGZTur5ZQAAAFJB\n",
              "mqtJqEFsmUwIZ//+nhAAAAMAAM7wnPbcMoKMAPlS7pGkpLDdx/dNQfoGQO1LKj0L2VZmAK6899W3\n",
              "BCh/HW5w9UzyugyT1viL1Y2g1EYX7jFgAAAAGEGeyUUVLCP/AAADAAA/jnbInIzp9MKqYAAAACEB\n",
              "nuh0R/8AAAMAAGcvcyk2qLxAALqE92sQHIZGhiMYKqcAAAAaAZ7qakf/AAADAABnIKWBGT2AASk0\n",
              "7BUaYMAAAAArQZrvSahBbJlMCGf//p4QAAADAADIrtI4cBCg+5SPTPgANnIzdNoByRjpgAAAABZB\n",
              "nw1FFSwj/wAAAwAAP3oFR9wgSpgxAAAAIQGfLHRH/wAAAwAAZupYFACL9e19BJ5OH4vPyDFmzKyR\n",
              "8QAAACEBny5qR/8AAAMAAGb0N+AAlBOPOjZNPMG1xwOisQOtMGEAAAA3QZszSahBbJlMCGf//p4Q\n",
              "AAADAADJILzLwa72BAgBtR5/rbQeBi2572FFnrdW1I6fNfYqehAwIAAAABdBn1FFFSwj/wAAAwAA\n",
              "P5Y858eptkJHwAAAACkBn3B0R/8AAAMAAGcoBE6AASgkfQyMzzCIL5+LGCdryPLeO7wDfWAHNQAA\n",
              "ABkBn3JqR/8AAAMAAGXLlU6AD1xXlm5nCYVMAAAAN0Gbd0moQWyZTAhn//6eEAAAAwAAySHla+YP\n",
              "cAIwKYCsfan4GOdKPFyCVI4uawwU8uiwslgaV8AAAAAYQZ+VRRUsI/8AAAMAAD6/OVWpJ8MGuCbh\n",
              "AAAAHgGftHRH/wAAAwAAZs+CDngAnNLnngu8On1OG3w+YAAAACABn7ZqR/8AAAMAAGbCzq54AJ1h\n",
              "sCc1GXSVB0aERh4V8QAAADpBm7tJqEFsmUwIZ//+nhAAAAMAAMiKvCZWmAfkA/idAjmrcxoTentV\n",
              "km7GgA3qOB+9ZJpgF3LKuEPBAAAAKEGf2UUVLCP/AAADAAA+0IPwO+aADeBxbHOshy6aRWnbvheu\n",
              "/ZQHA64AAAAcAZ/4dEf/AAADAABlvGT/lgx/IABWiszs5hDBswAAABMBn/pqR/8AAAMAAGb9lysd\n",
              "eFfAAAAAN0Gb/0moQWyZTAhn//6eEAAAAwACLf3SIOltfqWuwqweU9sr06VwMnxtFltZgj6BT4Ar\n",
              "utiAh4EAAAAVQZ4dRRUsI/8AAAMAAD42POfHuAm5AAAAGwGePHRH/wAAAwAAZKfXFUAEAsZsuzgT\n",
              "GQDCgAAAABkBnj5qR/8AAAMAAGRZGeO4AAAf9SL3egcsAAAAMkGaI0moQWyZTAhn//6eEAAAAwAC\n",
              "K0S6mNBwCZe+qWc5T72xf0rPftLN38JgduadxoMXAAAAJUGeQUUVLCP/AAADAAC14mqnCrfq0AC6\n",
              "jTtSEbWuS4knstgAFNAAAAASAZ5gdEf/AAADAABkRboekDlhAAAAFQGeYmpH/wAAAwABHfiw0TnM\n",
              "ssBTQAAAADNBmmdJqEFsmUwIZ//+nhAAAAMAAioe3fQFCGxtxUEnwAFcu80yx286TozKLdJCoQ32\n",
              "QekAAAAjQZ6FRRUsI/8AAAMAALWVTNpWy2N1JbpwAC1RfSoHpP70A3sAAAAVAZ6kdEf/AAADAAEe\n",
              "BcfT3Ce8k0OnAAAAHQGepmpH/wAAAwABHeywFEmWQlQjWADQhynONbF7AAAAS0Gaq0moQWyZTAhn\n",
              "//6eEAAAAwACLcefA0EYM+4WkhKoscd9xZRft60jvPrOiw3giePJkoofSFTaB/+ldBlJjPEf+jIQ\n",
              "MC6X2srDVgAAACtBnslFFSwj/wAAAwAAtZVM2lbQGr+AGu+XtZxj1wD9l8KygqJDGOQ8WH+AAAAA\n",
              "IgGe6HRH/wAAAwABHU52Le+AFUnVhtBiC/iuPeh124aLYvcAAAAjAZ7qakf/AAADAAEeNufbmV3g\n",
              "BIfIKGRqN2q/+pn8zz9Fk3AAAAAzQZrvSahBbJlMCGf//p4QAAADAAIc4r2zhoOACdVsjRx5x1IJ\n",
              "b01H30JpRyZMDu9UBgdUAAAAHEGfDUUVLCP/AAADAACxcxocMbTICB1Mrl0yGpEAAAAbAZ8sdEf/\n",
              "AAADAAEU9mJLDYAO5pypPXSrGiNhAAAAEQGfLmpH/wAAAwABFey0LQvJAAAAIkGbM0moQWyZTAhn\n",
              "//6eEAAAAwACGyG4nnZO4VbEkuhGFbAAAAAVQZ9RRRUsI/8AAAMAALFzGhwx3QiYAAAAGwGfcHRH\n",
              "/wAAAwABFgYOtQAQlrGTr2S41VAETQAAABsBn3JqR/8AAAMAARGTa3dVItdaADNh15U0LyAAAAAt\n",
              "QZt3SahBbJlMCGf//p4QAAADAAIZxQQWvmxGj4JgATM14qYVsnf2LLv7cB6QAAAAIEGflUUVLCP/\n",
              "AAADAACwwFuxyvACswOZAZJQw/8rcBxxAAAAFAGftHRH/wAAAwABFJUVwxyhiEvAAAAAHQGftmpH\n",
              "/wAAAwABFM11Vnp7+AFVs7vXJ/hqYY3pAAAAW0Gbu0moQWyZTAhn//6eEAAAAwAGHc64ofWziH2e\n",
              "wG69y+I1z8bL9weWTRZ3N6tXWSPZIV8JbUr87wIXy+Pv2iLDjm7BKLufpU5nTmylZDJE824Qlwcf\n",
              "9zuoW0EAAAAXQZ/ZRRUsI/8AAAMAAK8K859LfvhAFVAAAAAbAZ/4dEf/AAADAAETxkI/Lss2wAO8\n",
              "vX5vDAoJAAAAEgGf+mpH/wAAAwABFfghVcD8gAAAAEFBm/9JqEFsmUwIZ//+nhAAAAMABieE6Apx\n",
              "EVldoP37h8PYaLACklplNvpfCMojaGiudn68m8RQVNB2LRgB7KwTMQAAAChBnh1FFSwj/wAAAwAB\n",
              "5ouQKCBkv35NwOn2Rm6cAKuABKTzdCJO1UOrAAAAEgGePHRH/wAAAwABFV+kpT4LuAAAABwBnj5q\n",
              "R/8AAAMAAxEGeHwBdgUAHegrtjHqyCXgAAAAH0GaI0moQWyZTAhn//6eEAAAAwAF9nwSttd1/PJo\n",
              "EfEAAAAYQZ5BRRUsI/8AAAMAAeXQKj+m+RtgMBZQAAAAGwGeYHRH/wAAAwADET3+pQY+6RAB3l67\n",
              "mDQZcQAAAB0BnmJqR/8AAAMAAxEFYQACtSsQEQaDOD8EXegy4AAAAD5BmmdJqEFsmUwIZ//+nhAA\n",
              "AAMABfV2kdN4AFz9n4+k535whbgO4Nofn14iaD6/z7SUhIdVPclB8kDItHF7YQAAABpBnoVFFSwj\n",
              "/wAAAwAB4DqU4LYFcGd1mQ4IGQAAABQBnqR0R/8AAAMAAw4EVfIRsyIJeQAAABcBnqZqR/8AAAMA\n",
              "AxHRFxHRFkuYn7CJgQAAAEZBmqtJqEFsmUwIZ//+nhAAAAMABfZ8EresgA4hTD8bvRMzDSXTmcBC\n",
              "KZPhV6OkA3w20tTln+TRYbME9uDW+ZTegLGZWCdgAAAAIUGeyUUVLCP/AAADAAHghB+HhREAJXQE\n",
              "N/fwHqawz8ACkgAAACEBnuh0R/8AAAMAAwZdearUAE0n5SPr//J6vPv6Zk8WHHEAAAAhAZ7qakf/\n",
              "AAADAAMMpxKReLgAlbgAcM5sINkV0yrRwgbMAAAAQUGa70moQWyZTAhn//6eEAAAAwAF9JMywBnQ\n",
              "CUAHgfLk4sA9ygOX+oxkXmB95kSu8p+tZgXD/6W8pyelZhPLAB8wAAAAFkGfDUUVLCP/AAADAAHl\n",
              "/1RUhPFrAW0AAAATAZ8sdEf/AAADAAMlc5yfCWwIOQAAABkBny5qR/8AAAMAAyXlXcXMgAzbOcpe\n",
              "iAfNAAAAM0GbM0moQWyZTAhn//6eEAAAAwAF02DuvhUdxOAEHr6KtJfuJJiI1ATWy22d4E/i3SgG\n",
              "VAAAACJBn1FFFSwj/wAAAwAB29T2bCuAAtB2dSFyO3yIPcucACkgAAAAHwGfcHRH/wAAAwAC+1Mc\n",
              "HgAgU4e1pl26P0n6pP+g0IEAAAAcAZ9yakf/AAADAAL7pFgpqAB+eGUZmyU6Y1AHhAAAAElBm3dJ\n",
              "qEFsmUwIZ//+nhAAAAMAEG/ukbmYmAc7gS39tsNf9yyItK7aDOaVHNLeb+Bd72LwcTz3gV28EJ/h\n",
              "NEeglnsiGZJfyBwQAAAAIUGflUUVLCP/AAADAAVpxkjv7bsXTjut5LYBelv7IADpgQAAABoBn7R0\n",
              "R/8AAAMAAvFbcURZVABm9v5SWxAD2gAAABsBn7ZqR/8AAAMAAvHtPZXM0AGtMCrDW9YEDekAAAA8\n",
              "QZu7SahBbJlMCGf//p4QAAADABBQ9u+gKENe6z1L8ABtmFqwKwD8toBISWIH+A8dkZ8T8gfGzD03\n",
              "dA6ZAAAAIkGf2UUVLCP/AAADAAVkqmbStmkPRcACWRUbgB+4MfaADpgAAAAdAZ/4dEf/AAADAAhq\n",
              "c7FkkaYQld9IARjHjFjQHpEAAAAcAZ/6akf/AAADAAhrjEvzzTv5QALlxtqVVBYKSAAAAFNBm/9J\n",
              "qEFsmUwIZ//+nhAAAAMAEG6bzrOpxVFwAlkvz25zq/M+BvxDcofOYKVAqPgQlpfooVb2V5/lcRYa\n",
              "WbV/htWkGHvVQCQ5+uWrRhvEJxoWGQAAABpBnh1FFSwj/wAAAwAFZU3RQzgVHZksNYC8gQAAACcB\n",
              "njx0R/8AAAMACHA0YRPBXACqXCJsx8hgfeZpnT9faVBqQkFgpIAAAAAXAZ4+akf/AAADAAgvZZ5e\n",
              "fsRyu3GHQtoAAAA6QZojSahBbJlMCGf//p4QAAADAA/o+la+ZsLAB/PSn+V6vbTje1AEgKcs5lN8\n",
              "zk7+K3g9j8W+DyMBbQAAABhBnkFFFSwj/wAAAwAFZxFibPyQLPXAH+AAAAAgAZ5gdEf/AAADAAgw\n",
              "NGOkABKABETQMm6jmAfpFJyYA/0AAAAeAZ5iakf/AAADAAhvwKEj9gAAbJOuvkuNWPiogI+AAAAA\n",
              "KUGaZ0moQWyZTAhn//6eEAAAAwAP3+W9XPQSe/IASJ2b82TNlQf7cAP9AAAAF0GehUUVLCP/AAAD\n",
              "AAVoJXhno1HFGAQtAAAAGwGepHRH/wAAAwAIavLdhSbFgUAGbPLFXwCBgQAAABsBnqZqR/8AAAMA\n",
              "CG+5uuV0iADNpW24UczAIWEAAAA+QZqrSahBbJlMCGf//p4QAAADABBum85kVeDIG4AytQARhEfp\n",
              "Z5eUQaDvPukyjBUChaxBwqyTqQnmq0AgEfAAAAAYQZ7JRRUsI/8AAAMABWgiRUQ4oOsejAIWAAAA\n",
              "HAGe6HRH/wAAAwAIau6E4eWCIOAAVqVbCLMAhYEAAAAdAZ7qakf/AAADAAhvqV+NViAAm4AGiWph\n",
              "ru4uAQsAAABVQZrvSahBbJlMCGf//p4QAAADAC2f0fZMQNZ7l70K0CWmswxt3NBlfZoHE9X3gpIG\n",
              "823YWJY3S4p4OMFuKvBKkp/NRJc31GRR/xokIjhcTY57wIQK2AAAACtBnw1FFSwj/wAAAwAFPawB\n",
              "v+rdABtnjlZtRG5C3R29KdsFekBWMt26gBlxAAAAHwGfLHRH/wAAAwAX69zhURkkU7z6+AFVDcF+\n",
              "vOZQHHEAAAAcAZ8uakf/AAADABfvIao+UXp5IAB/4BXDJWgOOQAAACtBmzNJqEFsmUwIZ//+nhAA\n",
              "AAMALVW0jhwRN2WAAdkPupDwE3gQEDQaAJeAAAAAHEGfUUUVLCP/AAADAA6EZjDsOB2BYPLalF6A\n",
              "asAAAAAYAZ9wdEf/AAADAAfr+7M8wANlLbaVACzhAAAAHQGfcmpH/wAAAwAXTNIBVJ04ABD0nX7Y\n",
              "Y5SY6AasAAAAKkGbd0moQWyZTAhn//6eEAAAAwAtVbSOG/KmU+KOzjAAgTa0LmoBwMALOAAAACRB\n",
              "n5VFFSwj/wAAAwAOfoFR5t04T4bAC3BxnL3Ha5Ugf+wAfkEAAAAgAZ+0dEf/AAADABdAHU0nk6nA\n",
              "AJwado05bl9QHjAAH5AAAAAUAZ+2akf/AAADABc3ls0kLq0ALuEAAABKQZu7SahBbJlMCGf//p4Q\n",
              "AAADAC1d4JW+g4AiQmMBzFd0OtpXQ9YX4we48cv+6eGpm2H6GjXu5C7WEd7/MVUegtYV/5E/rrKw\n",
              "CmkAAAAaQZ/ZRRUsI/8AAAMADoWPOfGgEAVU+bcAiYAAAAAmAZ/4dEf/AAADABdAKVvIACT0xWp1\n",
              "N8K54ThmJ2wxQqqjWqaAW0EAAAAdAZ/6akf/AAADABdCpLeQAFaabjtj/baEzgzYCRgAAABRQZv/\n",
              "SahBbJlMCGf//p4QAAADAC1VzO47UgYsR0pgLLgjk7lDxM3tgYtssUn9MRpmv4/idh55KURvGIuF\n",
              "za3Qi+WA1ZK2O32vo6+2M4iVgFNBAAAAHkGeHUUVLCP/AAADAA6FjznxoBIJ2CA9aiglOABWwQAA\n",
              "ACEBnjx0R/8AAAMAF0ApW8gAK0Vo4/AA1Ro7F2BEEZ2AkYAAAAASAZ4+akf/AAADABdEuTJzAB3Q\n",
              "AAAAMkGaI0moQWyZTAhn//6eEAAAAwAsPd1rw0HABCG5GKNzTXG0Ywn7HqPgEtawYc6jAIOBAAAA\n",
              "H0GeQUUVLCP/AAADAA4rx3Yg6ACyIqBSMqGxnToA1oAAAAARAZ5gdEf/AAADABa0BhyAB90AAAAZ\n",
              "AZ5iakf/AAADABaNLooERfQAZsOpZWgEjAAAACJBmmdJqEFsmUwIZ//+nhAAAAMALEoziedk8CqA\n",
              "DWuhQAGpAAAAH0GehUUVLCP/AAADAA4mgVYJAALqgLtzJkpNXr2AH3EAAAAeAZ6kdEf/AAADABaN\n",
              "f6ByQU1ABCcOm+bCoMR00AVtAAAAHwGepmpH/wAAAwAWspdOoAH+ownK6hv9Ry5Sb2zADAkAAABP\n",
              "QZqrSahBbJlMCGf//p4QAAADAHwCz2JTnLsSiAo4kNClSwikOp14mOkshN1mxpRgVzpg2p6aClY5\n",
              "XpMbrrUhuQHHoQyQKDjsFyDYnnYBTQAAAB1BnslFFSwj/wAAAwAo+JaoqkKVxxxouyxcVADGgAAA\n",
              "ABsBnuh0R/8AAAMAFm9OR07ABnD+VItdn04EAdMAAAAcAZ7qakf/AAADABZvTkeEAATGPqUq2hf+\n",
              "o8AMeAAAADZBmu9JqEFsmUwIZ//+nhAAAAMAfLhOdZ1YnwF18M724wW+JAJ1BmGIQFt1R+y+GMOk\n",
              "rnNACggAAAAlQZ8NRRUsI/8AAAMAKOVTNpWyHACu5fjHwAC58cd22hM/ugAHpQAAACMBnyx0R/8A\n",
              "AAMAP4SsbWsnlQAJ1TBitHeKRhc3QeS5gsArYQAAAB0Bny5qR/8AAAMAP42Awg12vyx0ALEVYO7/\n",
              "LsAaMQAAACpBmzNJqEFsmUwIZ//+nhAAAAMAeTzqxIdW3ZYAC1dkV306K/dG+kYAYEAAAAAWQZ9R\n",
              "RRUsI/8AAAMAJ8VTOdwgSoAnYAAAABsBn3B0R/8AAAMAPg3S6G/kt3gBIzHtT2QA6YEAAAAfAZ9y\n",
              "akf/AAADAD4TWBQAdvidrPsYXUXQi7eVXoAIeAAAADVBm3dJqEFsmUwIZ//+nhAAAAMAeU5ds4bS\n",
              "QAW8WmdjBwYMPef62333azyRTi6SKZ68mgA3oAAAABlBn5VFFSwj/wAAAwAo+IsTZ+R+V7feAAvZ\n",
              "AAAAHwGftHRH/wAAAwA+DfVsQACT586asvo6HsYwCkwAQ8AAAAAhAZ+2akf/AAADAD+P0AYyADuF\n",
              "MNYnqVJfhRtk5ZyUQA0ZAAAAMUGbu0moQWyZTAhn//6eEAAAAwB5c48Bc4ABMVabrXUja4j4mXe2\n",
              "irdNm9MJkq4AG9EAAAAcQZ/ZRRUsI/8AAAMAKQErwz0rYABMhEmaRgAjYAAAABYBn/h0R/8AAAMA\n",
              "Pf0vXdABp9z2gBoRAAAAGwGf+mpH/wAAAwA9adeZNQAdwzyXPPrgIYAFlAAAADZBm/9JqEFsmUwI\n",
              "Z//+nhAAAAMAeSr//bONBiACkz9t/i6QQu/moUby17OcNN97YqNhGhgAUEEAAAAtQZ4dRRUsI/8A\n",
              "AAMAJ7JArL7kADg2NiBMKbg4Ap3qwnTrQBrejRQo5QhuAA+ZAAAAHQGePHRH/wAAAwA90ygib1R8\n",
              "AEoZUMhDTO//cAEbAAAAIAGePmpH/wAAAwA92ZIJ1QAWhja+j5bWEsIVZp1fABnwAAAAP0GaI0mo\n",
              "QWyZTAhn//6eEAAAAwB5PSmEB+QD+gGoJYubsKYL3czlKtxV/NOkZaDFHR2w1TOE7ujKKg66GABQ\n",
              "QQAAABZBnkFFFSwj/wAAAwAntAIu+rqiAALyAAAAEgGeYHRH/wAAAwA+ERxY14AI2QAAABkBnmJq\n",
              "R/8AAAMAPILwie0WADOOBMZAAE7AAAAALkGaZ0moQWyZTAhn//6eEAAAAwFYraN6MAZavCfygNAA\n",
              "Q2bKaKhFqhaxZnNAAoMAAAAmQZ6FRRUsI/8AAAMAbqZBMToomGh6T1YAC6BiE0c6G1I5hZFADFkA\n",
              "AAAZAZ6kdEf/AAADADxJgeO+gUAGc25SXtAB8wAAAB4BnqZqR/8AAAMAsWaHtHUnTgAEPl85RKxw\n",
              "eUgABC0AAAAuQZqrSahBbJlMCGf//p4QAAADAVitpHA/68Nn14hsDmwABaiArM4TipjqroAG9AAA\n",
              "ACRBnslFFSwj/wAAAwBuf6aA2AFPqDHAx3HQ1B5fb5e5flGADpgAAAAZAZ7odEf/AAADALFt8x1O\n",
              "IAASib/DyACpgQAAAB4BnupqR/8AAAMAsV79nv2TLeelAA7pLXra+EWAHzAAAABGQZrvSahBbJlM\n",
              "CGf//p4QAAADAVitpHTeACw6oCl+BdLoQoc+AEuLYIPz1rvbzaVG0wr0Em8vLTfvMd/t9mXNcsue\n",
              "/g7dYAAAAClBnw1FFSwj/wAAAwBuooqStgBm0+oE2arI9s9I4pURnDhyfGxVseADpwAAACMBnyx0\n",
              "R/8AAAMAsQDkzK/SBRiXvABZ1R34lJis4Hy09oAh4QAAACQBny5qR/8AAAMAsYwihaqAEXoFSHas\n",
              "NM4fgde/FVmcm4QAGBEAAABaQZszSahBbJlMCGf//p4QAAADAViujfX0pEz67nVKQZO1Eb+GMXpA\n",
              "LgWTzB5869H5S5CC/gZ5cbmpZ78DQ3H1kRIrUKAxLeeuCv3gxYV77GXgOBKAb6hubp3AAAAAJEGf\n",
              "UUUVLCP/AAADAG6JmDlMAAC0SxoaZ9CBVUah3pZpFgBSQAAAABUBn3B0R/8AAAMAsQpr4w/wZywA\n",
              "mYEAAAAYAZ9yakf/AAADAKzfCSwAam0XIrVoAFtAAAAAN0Gbd0moQWyZTAhn//6eEAAAAwFPraR4\n",
              "j1ABndcJkdpA8KULA5c9vgmEvLHxzZz+JCxix6sAAsoAAAAgQZ+VRRUsI/8AAAMAbCKKl5IABfLz\n",
              "kr0kOuCoSMrgBG0AAAARAZ+0dEf/AAADAKzt9C0AEzAAAAAcAZ+2akf/AAADAKzfRHC9QAaJG6gM\n",
              "fiqYTAAZUQAAACBBm7lJqEFsmUwUTCP//eEAAAMAE+0yCvOa0TFGgADZgQAAACABn9hqR/8AAAMA\n",
              "qlUfl3COagAgrQPF3PyVY0a2KAAQsAAADrdliIIADv/+906/AptFl2oDklcK9sqkJlm5UmsB8qYA\n",
              "AAMAAAMAAAMARKWPXqpqZUw54AAABkgBHHXFh1mv/gAayKeTb3usMz15Y/cxmGDm2gf4LwsgLlqA\n",
              "MOfnqZWV7a/dOkn4/z2GEM1LesHz/BhwWgALIzfPM1pAciI3EOizAbDLPZiifOcU3L/SdKkE5Dgt\n",
              "ULnRBVvxm/Tw/XtLgcp3WZkXzDmFGobt+t7bWjR/dRahrLF84f3bP+1z4m/UskWMNSwrwvs3w1dX\n",
              "jtIguyde3yyN2TTwQHyCipxOl5fvHM1w4yG5F7QTNUICoFqrqqGzPnzbYgrxals5x6pf96QR8DGP\n",
              "ZroDa+UMNuQ39osm/vAGAEoIaXPr5h/fkfs/q41QqqIF0s/piWRHJBYamU6NJkk3tqjmhFpamDVM\n",
              "r8Djio6fLt7/+zUqWTQdEbAIw4/utcYFWzWCNiNrnzs7qK7x99pIaudTc1gT35WOEGOV0mq7a8rM\n",
              "lDjPXsMf8GMQGorRbcL8zyfedZXaT7iX4vJjS38Sf+kAH1rsAZgf/68junhbe5WiKerBFkHyXjTU\n",
              "JqYEk5ZH8dpdt3cSdRkp1QfeMcF20KGVYmEbykmMAQaIWp2m/guGF1AP1ILaMcAHmW0jUnafHepm\n",
              "UqxlC5Eyu7zFkT9+Mo1NK0c8wD4CDh+0cXG846y2jZCGUaGQkGr1sGkfFJcLUTcv2R0v7H/cW7Nb\n",
              "r4xutGfBs6kOyiz/8F784o2SZOfBaoc6YQRgnuhzNkCZwqMqvkt9XtaaydQqDO0bl6XaHKWUz/y3\n",
              "A8SVbCfyCcN3Gf/tQFBov20i1MeaR8GCQgoIlvOa1Bw3OESSifJD5x3X5irWj/Xp3EeBt1J+MRTB\n",
              "YM656+eN5g/T/z0EpIv62dr3YB1rCkuW4XFy1rt9Tg19EtsKc5vX0kDrXvEix4aIMLpWii5buc2M\n",
              "6+bub2cPmjVQtFLAM8jJEXffvb37fRkakfmF4WJbi8gsoDhZ8s4u7Gy1BaCuih4NpxLT7AXyCHyg\n",
              "Hq0+l/nnsisIGioJnBx8xkFIphjTCPt+LVI4P4B6Dn+I4gmiUwqLBoTNhJw/yNWdKaaxTkaU9HVY\n",
              "+Bwf3GNJyt2JCwQ2wev9cjDKskCVDsC9M+RibWawHXe3vUGOUo318V0Rnrm0YQeyRXLSyoEHxgvO\n",
              "feJp5qamxW/9xOWGysu4DdIU+1rENn3kqoBUvN3a9o/X/Lj1koz+jsqsWHyi2ZY19q8vZsmIloPZ\n",
              "ePHPtcj/zw8DmUmuBryTaEv0SgzPoy5H+VU20QfvAqkkBUKw9Ye69z4K1mlIwy1Bsor+YVsShPgt\n",
              "RbN/3Z4oMQZrTz3ldu6tTdI0pw+mqe+NavC0koQNTDvDj454WPocjmFj6l3/aupMbFYxQ9EsYrRA\n",
              "O2BOxqQE2g6XXTVnsXc7yJUOAfGxLWgNK+g6szk54T3+FwjWI9mxWQe0K+EbLkGayPR0RUlyi4Dc\n",
              "os8WDdyPYzzSLx8nKWG7MIxSxksFEHvzWN8mIgoG1Iz0hNNx95J2bgxdfh7R4/JrLMXBs1nW49Sm\n",
              "BqLp4NU+miSvkm03QjuFIUuXVFlweyABuDSLr2cflicSmXEDyUVd+oXWcW4yb57dOyz788OZmC4K\n",
              "mR3Z3q4xb/UJ0WdzavzJQByxz7sD1azNvkUoN0+Jnwl1QUOPzTu1O1z6PcO6RCEDjJocghv+GiNr\n",
              "6RxfBYL0ns/n6O3zMrbSLZJ7HPtPcRC8DlXgJja0u5irzNAELE8WkF9cfBV0Ts7wWTCcxNUCT2ow\n",
              "uH+8WT6IlCNI6H6oQpJgig3OxM6lK7Ld2pMcho374B6aw19XN29VTToMdyqCcdpPbZgaI1d52w/b\n",
              "A3+ZDFriF8u2uIPK12ZTjQ1mJmrdog3XW7862LON8xEddjv+zDVKsSV/AHZfz5BhxaZ3c+SjVvh9\n",
              "UIKc/+1+c59h215mcTgLttAk3YWDDLHsmouTJc5XvYQnXig5VZKDsFsMIhlhBH+xF+4xJIg2b+5p\n",
              "tWI9pGctc4fkUiugzYcYRbFaOhGSOOU4Pu22+XLXDeCNYwCGoAu0/9FjTBRLjWtcl28WAKQyCXcZ\n",
              "K4uDOrcIwpqlBmh3d1nCxErq9Zga1+DaRFAUtm5hPTjpVoG0mdiXzURM3AFVOEce3tMLIqcU22n/\n",
              "NLLgpN3YKUo+ZZII9IM/76ma5qzfvYeG5cGkKaka9FZ0iTm/RdKdzI34EyEP53+v7qzv4P3K3OeB\n",
              "ySmfHT8ykPH3oObD5D5sX4475MMU1qNFTbwlyyiFTWrG9cAAVQiq7RYKVz/eJENsZEmOc/3JjYGe\n",
              "aKlxr0Gwm79jIj2NEcPOwXPvEvrT+IB/TYPAxZH9MP+3+9CeS183zo/E2cY3moNVMWKDDe+zAp0A\n",
              "M2NRh5IgBeFcUOA0ivUabyHvpr9hmYADwRxPD0RXaqKGCqxn8Ny3VAwejji8eFRIge5zbmSYrIdo\n",
              "IizK6wC/Xx/P+o13Kk775rfuh9R28NFk5RgjaSxSs2jPNyz9qmVlUzb1Rl+EOS/zbMSRggTckYT9\n",
              "ZDNW30R46INzKj6CWlRKi0g7I/K3OFv+tyUUHOZPq+c3SFBx7FhKB/OB2DPeqRHo28XmkUuCFDnI\n",
              "jEwUFIDpWW5Ivv4D9uaySDyopwBT4EePzIOWi4DAt3BY8QQ1UDwtWZ3ETurSsXwuzUiXni8EAWzm\n",
              "mI/eSXBWF4I8Fer4cu+ryhtcH83Fkbt3qEgDB8vDIT64xHZJEJAPvhF4Ea2Z7LAdEtsCkD1W9cuK\n",
              "6LxNuJ39vDZNXJ/qqymT4CpA4NJEAnodujHbUe5dSbg+XknFYNy+fFRT5HtJ4b0OjJr/ZJ05q4NY\n",
              "xym65zLw47oPRtO2evGmFsJIEemV+slheFX5aixZ/2dPr+7VIVKCuEoAAGk7ePCPwjvpz0xb22ux\n",
              "yaLT+bhFI74D5d9J1Ginyj30bBvUF2qap/hQchbGydHs+2O9TFfVRtMOedLBDAgbsKXr2+3t9leS\n",
              "qxIy6kgZuhaQd/c3rbw9iRBFFuGbKohtUFFS/LGrdhor9nLqrXTIu+5wAOhuxnr/VN23pR+ilHan\n",
              "YWfBRWswJ/w+Q0u+xZtw/KEkCq9Ci9w7ZgCiepQljDNlxZfP2DIl2F6u1ndjkLYviVPd//1PzPmT\n",
              "pPD0kbf1PTNuagWK1UKOl41WwFAx3mPTf402DU+eV2QDUSZQY98auzKV4XufiJf+JTfaay0RAksW\n",
              "TwsbXpc5tgciIExU12k+MeZp+FCgQLe1NwWzrciXfn+gC960J6OHyGp/7azPpvy8l27lYvx4+UGu\n",
              "1ZvE2/9LznvHjaioCXB2hUOoeeur6rXWwkUpkAKw62pwtQHdiwp5IYfBMlHvpj84gaLqe5sfvEUO\n",
              "yfFMc71mxNhuKqjJR5NznWBb6nvoLrMeB5dJBB3BqXpwtQHdisQ+5COc+uFyO2+D1sEr0AABa1Dp\n",
              "ynqH6mvWdb7ue0Z9//zXiQ77AeK64nXIE2SClhyYnlkp05zmJjjO0HC7WC7TnpaQkd0n9EN7TAxL\n",
              "q6AwSRk8aBflJ0HxY+3ktiern8ta1JdeSzYS8HiXlfWhJ/70utqijKlZS0psrqhrpu3lqUN6tx8C\n",
              "KtN4b3gkQBxyPMjr8YhB3/2HubrNgTrg4n3kadD/g65pMp1QAcaduHmbY+m2ZbRNLjWilSpGaYTM\n",
              "8OzxwQeUDg84B8fpRFcr8TcSKWzKMqhQ+6JbACK57XBD1nUj6JQnHl10kqeiDwv8zQszccGp1SSw\n",
              "F8BZ5lgyASeGAMFjpY8RmQvs4hflP1sVkoRhnsTbd52tua8YX4RjBRIhKP74XfBwEb1d1Vln/JaV\n",
              "jy4uv8QHMueUaOjTbQSjqHljfkf+96sxFjUDnk7p79KyPjgCVktjccsZOuHxOtXaXbZlSFSspmWY\n",
              "Mwv2EUf/Gl1AjZQopDXH8gyrp4S9xBHTg0vzZ79s+wvqsFbVzrHnZumiBoJ6X/0GFZTKgAC7MxB7\n",
              "Unj98Fy36lJ3ujeOQN4lQgAS6qCs8IpedKM3paCKDj0IbLH2xJKQ8aazL853Per1owN9ch5WiLh7\n",
              "Ko9npQds3ESrBAwynBjqRkoPDwZY93GwA1OcY0VAvo5ydcrHz98h464eh8LJ7t5T3qJPzutX0deb\n",
              "Y2F+4NpoAY/ptrd1x2kSm2H0JcrOhdUWp1bkrKEAJIkTHywqfGsalzbBYvrDfbu9xPu6+keT7UPL\n",
              "TMrczNGTTddtHKBP8SKnrRAoyhbJgIQFo8oN0Y6sWik7J7uB4GWRh8ahdrEjkTfhBRWmT67r9ig2\n",
              "uXihoB7+hrhyXf6DtGMe6+u4puWTbIo8aEZ8uQ4eWNMcIWX7B3jGTbM2DD6uHJH2fK7hoMFW1iSH\n",
              "4xHyzXwe54ujGKOuUKRxQX0JNMAYtsxTHirdE3qP3vS/ni2in2fV8uLusIhrRxqmin4nRvFE1+/v\n",
              "kdHvPcFsdw1Ez8h7DszAgnFJo432MOPJ9ULorSyeAywuzM2xL2VBbsx/Si4bMXF+hPnmzAs5tLQ2\n",
              "hu4/S5nK5NoBTd/YGxNv5sg6LauJ2lSQdMEtzUkGTeLgkP5iltGy/uRkbaIwW1Dq2Nhfq//n+gSN\n",
              "7WX9kTzP6BLwONX2lTsVAqZL/1n/1MlDm8J5Ct6JpaSw0rIcoFY9te6u83nYJhePkHFWKd2j7RLp\n",
              "qoH+w51PWMhtj5sGSXgGVYFOpFx9jFO2prw23GCYCtC52j5exLLEaGHcKZcpMfTPFexIDpZ1HZ21\n",
              "Sc/I9vIWnd7FT+l1lvb37s1aj6n8wzdsvRGtHOo49CQ6Jb20AUUTEQDT7mUkJOobMThphBVzJBi7\n",
              "vu3cKD6kkQHWzpmbMix7nEs9vxylKLHTKck0rmyxyOfAmQM/DsRaRbMW4DRfLxRxj6KdQejxFHhE\n",
              "vrEyThfIa1Xh87HhX9SlTBc8G2IcwMkZnzKBP1B+l96qA3k85re7MBBRsBuax1uAcdfXqEUhQYaA\n",
              "+Q8M1/7T0LA5DWYoh6i8T8hqmPWu4mqlIAAAAwAuoQAAAFlBmiRsQv/+jLAAAAMDuou8bjAnAvWW\n",
              "INtzJYZDMHltlpQAYDfuFNvvGjZTSm4FW1dpM9D23WMHkXu2P8F6/75kAjw3kd6tWyiVnNgOBm5l\n",
              "TI5vhVQol5x4oAAAAB5BnkJ4hH8AAAMAa2g9TW7wAlqmd9jy3eV7XtgAwIEAAAAdAZ5hdEf/AAAD\n",
              "AKw4xzMAAlCk5FW2YCD8tZ7ACdkAAAAhAZ5jakf/AAADAKplzrPHL9jYAO637WWpALQkEAy1YATs\n",
              "AAAANkGaaEmoQWiZTAhf//6MsAAAAwO/wnQYR0qaU4C9bK+AfH6fdWkE5T3E/9YRZx/MsyNlIADe\n",
              "gAAAACVBnoZFESwj/wAAAwEt6B42Z+OyV77oDc+uWAZIeS2mRxlQUAEfAAAAHwGepXRH/wAAAwCs\n",
              "LBy21ABc/MIHwchiEta9Hc3AAaMAAAAUAZ6nakf/AAADAduABrK0UHwAKmEAAAAyQZqsSahBbJlM\n",
              "CF///oywAAADA6PHOhe6TJv1T52OgAmKhxSc9MKm2NSEwBA0UjEABIwAAAAYQZ7KRRUsI/8AAAMB\n",
              "NaeDCkgCTSB4AAY9AAAAGQGe6XRH/wAAAwHabpb/DuAB3c5vxWQAHpEAAAAeAZ7rakf/AAADAdqa\n",
              "f7Jty4ASWqoG/W3O1mxoAFNBAAAANkGa7UmoQWyZTAhn//6eEAAAAwOecXX8eAArYI0NB6SJgsVF\n",
              "jj7eQzbgkLDr3cgsN3bjQADpgQAAACtBmxFJ4QpSZTAhn/6eEAAAAwO5wnPE3xRTVABWrErlGLhY\n",
              "5cwXjEqMAA44AAAAJUGfL0U0TCP/AAADAS1jVR753ipXAatAA4D7Af/vZdvJaNAABjwAAAASAZ9O\n",
              "dEf/AAADAdqKEf2N4AE3AAAAFQGfUGpH/wAAAwHZqevkhc6gIAAIOAAAAEJBm1VJqEFomUwIZ//+\n",
              "nhAAAAMDoAl7ZvoOAIeSENKFy1/9PsArkXzoAxTrQV/1bJMjCNkj8dgKn9DMqvMOD+QAJWAAAAAm\n",
              "QZ9zRREsI/8AAAMBKfyy+K2aAC6AjCeEwfc8PdeduInqs0QAOmEAAAAdAZ+SdEf/AAADAdnphMdI\n",
              "ACT5ovMczfqQsCAAsoEAAAAfAZ+Uakf/AAADAdgRTljH1QATO3p9mlxi/u3V8AA2YQAAAEpBm5lJ\n",
              "qEFsmUwIZ//+nhAAAAMDnekfFacQGo/s1R89IDaZudBupJTlqAV3HnGjU3y8QSv/k7SMqQdxHdml\n",
              "YVcZsRzWjQmlgr9OCAAAACJBn7dFFSwj/wAAAwE2KaH+G7S6AFtEBxVUdKxRGB9kCTyoAAAAJwGf\n",
              "1nRH/wAAAwHctSQAW47f/jT1b590cQfjOuTZhWGU98F0qqPKgQAAABQBn9hqR/8AAAMB2sjYlPgu\n",
              "pVgA+AAAACVBm91JqEFsmUwIZ//+nhAAAAMDiHLtnC7kAG86lTlhfOeAAMqAAAAAIkGf+0UVLCP/\n",
              "AAADATJRXV2iaNcABZjv/6Le326LxW4ALaEAAAAYAZ4adEf/AAADAc9uvLABnHAmL0yGAAScAAAA\n",
              "HgGeHGpH/wAAAwHQbMzCagAfgVpcU9zuOxXbGgAN+QAAADRBmgFJqEFsmUwIX//+jLAAAApf9tRI\n",
              "8iYBvcUkEnf/7sbCSSHIoP09bbwpi+BMNvdgAB6RAAAAHEGeP0UVLCP/AAADATJRXUSpocVeAAEE\n",
              "6EQABnwAAAAZAZ5edEf/AAADAc8VhjhvIAB/s8tegAAU0QAAABEBnkBqR/8AAAMByk5MhAADGgAA\n",
              "ADNBmkVJqEFsmUwIX//+jLAAAApPnVXODxzADk+I73X8sTAfhFSggpTaa5qrNqF9iXAAEPEAAAAo\n",
              "QZ5jRRUsI/8AAAMDS/0mDS2nabDo1NWi4AEdTF6wBzlO2QWewADagQAAAB4BnoJ0R/8AAAVAByZk\n",
              "9vDhfwAEof/1vIY1o0AAyoAAAAAkAZ6Eakf/AAAFQKkt5AAZ6t7Mho+FRn3b4/v567I2dDqwAFFA\n",
              "AAAATkGaiUmoQWyZTAhf//6MsAAACktP1HMXsnnrhLeZUUfRCrV/YDC3uKPyB8+RiI3wUCB3qss7\n",
              "h3ZrRPsjHA3u78pYpXZD7KtTqFKkQADqgQAAACdBnqdFFSwj/wAAAwNL/TNpW07TYkV3N04ABvg6\n",
              "t237NMvE7sAA2oAAAAAhAZ7GdEf/AAAFQQF66TY6sAAtzUn31t/gHdRXwzTQADKhAAAAJwGeyGpH\n",
              "/wAABUL37PvKADuXTRkCdqJr4qlPmiu4FUsXc3uMTYACigAAACtBmspJqEFsmUwIZ//+nhAAAAnw\n",
              "KqN7KgAXArGEyLZPa2H7wB2TArpGAASdAAAAOUGa7knhClJlMCGf/p4QAAAJ+daFHAXACWSpXlXx\n",
              "h/pqy6aoRrxjibtOYd2GvaSQSlQQfodU0AAVsQAAABlBnwxFNEwj/wAAAwM3/TQnAALQXupAAAJH\n",
              "AAAAGgGfK3RH/wAABRwKVvIACUFa7ObA6bykAAtpAAAAGgGfLWpH/wAABR74uKoAIfLlMPjk8faN\n",
              "AAGBAAAAMEGbMkmoQWiZTAhn//6eEAAACfKMZeBk8gkAE1NwgsRwIKXPqxl3p7Y2SLiyYAAZcAAA\n",
              "ACFBn1BFESwj/wAAAwM3R42XM43EACdOC6a+HCJKp0AAjYEAAAAcAZ9vdEf/AAAFH3MjiqgAh7g0\n",
              "TtZISS6f2gAFDAAAABEBn3FqR/8AAAUZ5bNmgADAgAAAADpBm3ZJqEFsmUwIZ//+nhAAAAnr9BBa\n",
              "+bEaP4tgBxzCCm65UpBgQBNxCVWWBj18cyRG8WdKXoYAAPSBAAAAF0GflEUVLCP/AAADAy78Pw/Y\n",
              "S+EAABIxAAAAHAGfs3RH/wAABRkEdEH0AHdBB9zSaIc4F3AADbkAAAAeAZ+1akf/AAAFC9J/6gAk\n",
              "zOz4ebFZ46/ZUYbfAAFBAAAAVEGbukmoQWyZTAhn//6eEAAAG5c65/Au5uepzBWgS0VjRyYC+Fjb\n",
              "BxPQhgVxYY2HwpeErs6a+MLfD7Xe2H/HdikrPZH90Z62TePkBJP851fTMh7zdAAAABdBn9hFFSwj\n",
              "/wAAAwMu/D8P2EvhAAASMQAAACABn/d0R/8AAAUL2mX6AC6N/h2eTiAKxxzvnbLu4AAbcAAAABEB\n",
              "n/lqR/8AAAUdLkycwAAh4AAAADJBm/5JqEFsmUwIZ//+nhAAABuZ7rXdSAA0CF2gstOMGD82BwNJ\n",
              "9KhCHQxjb7bVEAABWwAAACdBnhxFFSwj/wAACO84CywOJkh0ymTqDmcWlPsvgBOqfGXj/VoAAr4A\n",
              "AAAXAZ47dEf/AAAE+3Mh/oAM5wvyTtAAGLEAAAAaAZ49akf/AAAOKY87drS4AJzHcnmkkSAAH+EA\n",
              "AAAiQZoiSahBbJlMCGf//p4QAAAbn+qsDOG8s3lX5HrEAABWwAAAACRBnkBFFSwj/wAACOsaqPvw\n",
              "HHqCNlwAskKTfi865ZUkJMAAEvEAAAAeAZ5/dEf/AAAOLGVyPDXgAJxeZ7r6cKDQKiAAAGjAAAAA\n",
              "IQGeYWpH/wAADithPgAK0Vl7s7PLSZFwUkHdrAwKAACXgQAAAFVBmmZJqEFsmUwIZ//+nhAAABuj\n",
              "f8Dx73ACMCCuLS3jrtNH0Jxdni7pzaN2x4bbNg2hjU6aLNTyGXkWr2RpBhoUBvFri0apsUqwKCyr\n",
              "srJGicrAAELBAAAAIUGehEUVLCP/AAAI6xqIqVs0fbFwAIug15wP91dDgABwQAAAABYBnqN0R/8A\n",
              "AA4azr4tIxuYIl9gADrgAAAAHgGepWpH/wAADiCszHly9arAAK1oz0OwF8Na2AAOuQAAADNBmqpJ\n",
              "qEFsmUwIZ//+nhAAABuhF+rX0pAxnMcXGU0pT4rE3wp5MmtilU5oLpKyxgAA2YAAAAAcQZ7IRRUs\n",
              "I/8AAAjwMaHEe9AC2Eyo3MlCAAAGhQAAABoBnud0R/8AAA4grDHC9rw8AJERcTs7gAAnYAAAACAB\n",
              "nulqR/8AAA4Yu4nBABxVEvpk0qzAlBjZiObuAACdgQAAAClBmu5JqEFsmUwIZ//+nhAAABr12keH\n",
              "2ABCMAOF+7wVTLPaZ3YoAABWwQAAABtBnwxFFSwj/wAACKsaqwSAAfA3IMJut0AAK+EAAAAYAZ8r\n",
              "dEf/AAANzUsCgA1E6lPHRoaAAHVBAAAAHAGfLWpH/wAADc6Ja1ABAd/ajXKHUsm9swAATcAAAAAr\n",
              "QZsySahBbJlMCGf//p4QAAAbCJY9XOyA98AB/t2mqdJOxK3aIfyxgAAlYAAAABRBn1BFFSwj/wAA\n",
              "CLAxocMd0AAK+QAAAB4Bn290R/8AAA3VAI4OoAH4QUazslbHWbx8zQAAi4AAAAAcAZ9xakf/AAAN\n",
              "pW1MY5HNQAQPCXUDOAkqgAANCAAAAEtBm3ZJqEFsmUwIZ//+nhAAAE1SJcfEo1QboPYp67odBSZ4\n",
              "F+SnBIJyyvatc5NXnDDD+ffarvtECa61ZbVf13W/3Cu1klR++4AAH+EAAAAWQZ+URRUsI/8AAAiP\n",
              "5iHFEJfCAAANWQAAABMBn7N0R/8AACfeeMW1vdIAAKKBAAAAEAGftWpH/wAADc+2lXAABRQAAABN\n",
              "QZu6SahBbJlMCGf//p4QAABNQ9uL25CGxtxmUtcAand0de+qCkeqL4TbKXfmd/YFV0Hb+uyPNGWg\n",
              "jE69LqbQe5krUk38mL/769QAA44AAAAjQZ/YRRUsI/8AABkf6TBpbIqT6tFwAJZEohCmVdMX6AAA\n",
              "MqEAAAAdAZ/3dEf/AAAnwDkzJ5QbvAASikj8tA4UsWAAIuAAAAAlAZ/5akf/AAAnxUlvIAD+KUBH\n",
              "FFi6/Eshl5zVhxedjeKGgAA1IAAAADZBm/5JqEFsmUwIX//+jLAAAE56bz9rPRbiahMUaJQAwJrr\n",
              "J8uiFACxsq7U0vGezitgUgAArYEAAAAdQZ4cRRUsI/8AABkiZg5RCABWyPJkjs6084AAKKAAAAAU\n",
              "AZ47dEf/AAAn0Zt/BWr0hoAANSEAAAAfAZ49akf/AAAnyaOWvgBIftTzu7q3ASLPGkDiAAB6QQAA\n",
              "ADVBmiJJqEFsmUwIX//+jLAAAExWFelN0YALno2yZgRRH2lz3Z0G389ibUhClxwVSL12AABBwAAA\n",
              "ACRBnkBFFSwj/wAAGIujQz7FAAP3REd/aWA66IuhFYEs6JAABgUAAAAiAZ5/dEf/AAAn3ioLMbyg\n",
              "ABKCwcDBXy4wZjBOxVAoNgACLgAAABsBnmFqR/8AACfj4vqficeAAD+3YPJZmIgAAq8AAAAgQZpk\n",
              "SahBbJlMFEwz//6eEAAAS3uQOJ56CTcSUAAA9IEAAAAWAZ6Dakf/AAAmO5yPCAAIMMBnoAAGVAAA\n",
              "ACpBmohJ4QpSZTAhn/6eEAAAS4Zj2zesgAgQno00t2BgOOUrbH5IregAATMAAAAWQZ6mRTRMI/8A\n",
              "ABgzSUuWuB7YAAAJmQAAABgBnsV0R/8AACafTyewAdwppaTpS+AABUwAAAAgAZ7Hakf/AAAmm9uA\n",
              "1ABMmbRYJU2Snk+2/ov6MPAAAc0AAAA3QZrMSahBaJlMCGf//p4QAABLpHBr5ncnXgCizKXIG/cD\n",
              "fxfw+nfNd6M9oWUV5I63WoVcAABbQAAAACVBnupFESwj/wAAGHGoU290AG2RpxlzyMpX90jNKuC8\n",
              "MNwAADPhAAAAIQGfCXRH/wAAJjbnOj4KY4AJPmg2eycD2KB41SfuAAA5oQAAABIBnwtqR/8AACax\n",
              "/OVCdzAAAR8AAABIQZsQSahBbJlMCGf//p4QAADT/0fTtPoaKXaTdrGRbG3Omeq7SLX0NhhixV0n\n",
              "S3V6QymysEDaUxB2UK4HRxK78sN+bhDwAAUFAAAAIEGfLkUVLCP/AAAX0bl1NbWAE0sSdAInAWdi\n",
              "MIAAAM+AAAAAEQGfTXRH/wAAbC9Q6xwgAAQ8AAAAGgGfT2pH/wAAJZWHWcmACHRbpz9VPYAAAPyB\n",
              "AAAAKUGbVEmoQWyZTAhn//6eEAAA0wikjhv6Wag0FFaGxb+5I43u5l80AAFTAAAAJkGfckUVLCP/\n",
              "AABDWNVHml/lNT5o36gBNLUkMWUkPEKK1WLAAAKCAAAAGwGfkXRH/wAAa+pPe+Hvbny4AHdb/SY3\n",
              "IAAEPQAAAB4Bn5NqR/8AAGv0Khl+gZbnAAJz0JAibkD+MAAAoIEAAABAQZuYSahBbJlMCGf//p4Q\n",
              "AADTG/4HjVQAUFvHBqPvGdBteF30Jz9O48zsBhLWZHI0fnnD/6EUdgarP//yAABTQQAAACJBn7ZF\n",
              "FSwj/wAAQ1jVRJWyOnkR0jCAAz+cTq9DzQ4AADrgAAAAFgGf1XRH/wAAbCgEMfoA0SE4GLAABnwA\n",
              "AAAiAZ/Xakf/AABsIKR7fKAFP8SwqggaQdaiEP2pVMsCwAAZ8QAAAEVBm9xJqEFsmUwIX//+jLAA\n",
              "ANRR4coftwl5uRQwMJ015K7kk9aUc3n9PFq2bgxh71bMHvEnaLaTZwKBs7m3RviSRAAAuIAAAAAa\n",
              "QZ/6RRUsI/8AAEJzOpcC68JRaTzBXuAAA64AAAAiAZ4ZdEf/AABsJ73298AKpqr80L4/bV5okTTK\n",
              "qrasAAD2gQAAAB0BnhtqR/8AAGvZGf6pm4ZAB3LsMRc0bt5xoAAE3AAAAEBBmgBJqEFsmUwIX//+\n",
              "jLAAAM9R1V0oPgATnlb1MvayVy2q2EqQd7iWl1AT6rqWC+ysOZD/UEA/5kSGljEAABTRAAAAHkGe\n",
              "PkUVLCP/AABBRV7M2JQwASt3LSvvT90GAAAUkQAAABkBnl10R/8AAGjSzJW0QUAGm2TkWhAAABwQ\n",
              "AAAAHAGeX2pH/wAAaaDPMJqACE4fRTC5X68JAAADAXEAAAArQZpCSahBbJlMFEwz//6eEAAAzdq0\n",
              "DyRbAAhvgSZ+kQJjDM/lbRlXAAAIOAAAAB8BnmFqR/8AAGm6IuObVABCIbx/8rSxY3U4krTAAAKT\n",
              "AAAALUGaZknhClJlMCGf/p4QAADON2OrYPNhg4ATJUtV6GoXsgwPN6ywSglEAAALuQAAAB1BnoRF\n",
              "NEwj/wAAQTQ9ifQABzFqtX+FgpDgAABwQAAAABsBnqN0R/8AAGlZLQe2IAA/nFn3jflP3gAAqoAA\n",
              "AAARAZ6lakf/AABpfj9lcAAAq4EAAABeQZqqSahBaJlMCGf//p4QAAJKQcSLcRygYovd/9H0XgRf\n",
              "VjalABTKdfyqEPK47FF8KpAu4cPHgFQ1luef6P+/5931YOTNU37KCMPcrg3cuHD5hNn6QzROT5ep\n",
              "gAACpgAAAClBnshFESwj/wAAv04Qw1RDiE8DHxX1qVYJMqA3ifGMHZZECITPAAAPSQAAAB8Bnud0\n",
              "R/8AAS4Zq8ojZ9XAABKKbezmcb4ftJ8AAA9IAAAAHQGe6WpH/wAAaDy6bo1ABNEdlBx05X1+qgeA\n",
              "AAVdAAAANEGa7kmoQWyZTAhn//6eEAACTdN57eVk+XjxYD8JlUBCAQyWElusOX5YYfxehJbfyAAA\n",
              "dUEAAAAjQZ8MRRUsI/8AAL7/TNpWzObFD8Y+AAcOwiuDDalyQ4AABV0AAAAkAZ8rdEf/AAEuGLtE\n",
              "H4ABbcW/wHt1YljpEQ3Sybd+loaAABqRAAAAFAGfLWpH/wABLY4IbZTxlUtAAA1IAAAAMEGbMkmo\n",
              "QWyZTAhn//6eEAACTdN54nJaUxAfQfvOADVYwyHNtWvWs2KfEdR4AABSQAAAABdBn1BFFSwj/wAA\n",
              "vxMwbFkM/SCBAAAMqQAAABwBn290R/8AAS1fpM3wAqkq8hvCJRe3aWIAABaQAAAAHAGfcWpH/wAB\n",
              "Je0kP9AB3L9snKHu/HqGYAAAdMAAAAA7QZt2SahBbJlMCGf//p4QAAI84r2zdSAAuBz/056ccmh0\n",
              "QlyJfa0qgSD79/YJwxY7AklzcD8fcAAAi4EAAAAXQZ+URRUsI/8AALpzGhwxl48tBAAAMqEAAAAb\n",
              "AZ+zdEf/AAEuF2arfgAEn8dvy9JdJ1IAAA/xAAAAGgGftWpH/wABLjyH8MgACb9mFfa3OpIAABaQ\n",
              "AAAANEGbukmoQWyZTAhn//6eEAACObe+hSBB6T0AA4OXsNSyYxknoB1n4tZIUmcOC6f7cAAAHTAA\n",
              "AAAhQZ/YRRUsI/8AALfbTyNSlKAC6AiKfyNe163JCAAAAwFDAAAAGwGf93RH/wABJJUXzqACaZaB\n",
              "3h07kkYeAAAHjAAAAB0Bn/lqR/8AASPKcjryVQATP5JB/HRymm+3wAABZQAAADNBm/5JqEFsmUwI\n",
              "Z//+nhAAAjogOJ50oApI/sH7I+8Q5MtPNOI/TWpsm1VzT5aW9AAAFDEAAAAiQZ4cRRUsI/8AALgK\n",
              "859UXwBCJTBc22r5aDyohAAAAwChgAAAAB4Bnjt0R/8AAS1fpbOK+AFtH53TTlq2rGseZgAAB40A\n",
              "AAASAZ49akf/AAEt+CA4NmAAAHjBAAAAJUGaIkmoQWyZTAhn//6eEAACKh7eAU5ABj4G4DWyPsUA\n",
              "AAMAg4AAAAAaQZ5ARRUsI/8AALXbFS8kAAuqnDTEdAAAKGEAAAAYAZ5/dEf/AAEdTyW8gAIOnqUy\n",
              "um0AAAbMAAAAFgGeYWpH/wABHXG8sAGcJpiwAAADAhcAAAAnQZpmSahBbJlMCGf//p4QAAZFdo3o\n",
              "vyplfIAF/gA2mkwTASAAAAwJAAAAJEGehEUVLCP/AAH8iLQSbO7H6YQAtwCs6JhHdO/oTEg0AAAR\n",
              "8AAAABsBnqN0R/8AARysSSUMmACH2186/g4UsaAAAXEAAAAeAZ6lakf/AAM549zqLdFdJxW8AAf5\n",
              "pgtAAAADABzRAAAAKEGaqkmoQWyZTAhn//6eEAAGRXaRwP+u/to8CQ4AG6tG7NO00AAAMqAAAAAi\n",
              "QZ7IRRUsI/8AAfvQKnNgBT6iCMbwKtX0P0G2RQAAAwBNwQAAABkBnud0R/8AAzk98je/eOAAEy53\n",
              "s5sAAAgYAAAAHwGe6WpH/wADN6ErL3wAzEXd+y2/3ucJm7P4LAAANmEAAABNQZruSahBbJlMCGf/\n",
              "/p4QAAZFeGZPnTGSsAYLbkWpiiWJz16aBnA59ZWCrDHJLJWUrolcQTWUpF4sVDESLw4FrVzcXigU\n",
              "9+n3AAADAysAAAArQZ8MRRUsI/8AAfvQIipWy2aPYEubABn+1Y46JLsRiv7+FxfbfDiwAABbQQAA\n",
              "AB0Bnyt0R/8AAzdSZOc9DfcqadsAFcK3VTGwAACBgQAAACoBny1qR/8AAzekVaQFzAA7jIbAqThS\n",
              "HqO1YE2y/WrvP6JyljxQWAAAbMAAAAAyQZsySahBbJlMCGf//p4QAAYkwzA8k9sAC55Mw1Js1cCS\n",
              "drkgsR5EipfEt4WuMAAAO6AAAAAdQZ9QRRUsI/8AAfDQKoOAAWgvcXUSCk+q+gAADGkAAAAaAZ9v\n",
              "dEf/AAMahxTYgAEwS2QIV71PzIAAAk4AAAAXAZ9xakf/AAMjpFbyAAf0p2RS0AAAQMAAAAA1QZt2\n",
              "SahBbJlMCGf//p4QAAYe1cb5JhYANlMDNZhILowvBY1fw9S0enkfl5DcY3jdAAADAssAAAAeQZ+U\n",
              "RRUsI/8AAfDa/KjGAE0dCLs4BvGkeuwAAActAAAAGQGfs3RH/wADJG9TA5gANn+XNhNjQAAAm4EA\n",
              "AAAaAZ+1akf/AAMjolrUAEIkYCL1tGDAAAADAwoAAABEQZu6SahBbJlMCGf//p4QAAYc19Qkb4Vn\n",
              "vmUOAFiCo3y7kmsQBofdjlFH/RBZM0LZnvZqUqBThC68Z6u4+olTAZ60CoAAAAAcQZ/YRRUsI/8A\n",
              "AfAAGVObABnDfnlE8G4AAAMBQQAAABgBn/d0R/8AAxpdeZNQAZwYUlFEAAADAcsAAAAeAZ/5akf/\n",
              "AAMiFoU2IABKHyOIk6lqxoWAhgAAAwG9AAAAckGb/kmoQWyZTAhn//6eEAARVUk4J6xauqxrJerr\n",
              "3L4jXPxsv3B5X3MNGsGuyIjZ2xktSvzvAlCQMeFiBp9WZKAg0eBc6PqACpUf1qXL1snpHvZFL5Xe\n",
              "ATcpKlLskQ4TpGBDQfOtEVikR2U4j4rZDFxgVQAAABdBnhxFFSwj/wAB64Qfh+wl6OqjAAAIuAAA\n",
              "AB8Bnjt0R/8AAx9dqoh5DgAeBzSiLMVnmNfmh4AAALSBAAAAGwGePWpH/wADHiAmP+0AAVthulf9\n",
              "Dr4AAAMD/QAAADlBmiJJqEFsmUwIZ//+nhAAEW6bzvl2zemgBGAXWEt+ezD1Lc6L14rDk5t8KYuM\n",
              "F64JUkO/yAAAD1gAAAAfQZ5ARRUsI/8ABYscBZYFpkv35NwOn3brjFqoAAApoQAAABYBnn90R/8A\n",
              "AyN/6K6gA0+bFwAAAwFpAAAAGgGeYWpH/wAIr2kg+NR0UAHegb1vYoAAAAVdAAAAKEGaZkmoQWyZ\n",
              "TAhn//6eEAAQ1DsDxa9jfFgAHPVMOH5SEZkoMAAAB1UAAAAgQZ6ERRUsI/8ABYiqZz6b5G6aNgBX\n",
              "BrZPWAwAAAMAFXAAAAAeAZ6jdEf/AAiqeSwl4Sf9AAAeI8iMYZTtZsaAAAEbAAAAHwGepWpH/wAI\n",
              "r2YhQAi/YRBELHlAb6zv2+BF3oAAARsAAABMQZqqSahBbJlMCGf//p4QABDccfkedG0AA4ruoBhe\n",
              "NG5LiP1NkQP2B7see7QcUtpfppTe1FzFQyai7R3StlISDVDLD3LP/nGAAABZQAAAABlBnshFFSwj\n",
              "/wAFhdA8kZFhoNMfOMAAAMqBAAAAGgGe53RH/wAIpixzMAAk+1QoCRzWAAADAPSAAAAAIAGe6WpH\n",
              "/wAIp5IJk4cAD9x97sLaZktbo0QOgdLAAAFBAAAAQ0Ga7kmoQWyZTAhn//6eEAAQzci48CBuAFRH\n",
              "ADYklsXgcJ9NcBJ4ok8/2inX2UtlHDWFgtC9jGK+PHTWNpJHwAAADakAAAAfQZ8MRRUsI/8ABXhX\n",
              "nPqi+AG5oACzU0Pv3HSAAAAFVQAAAB0Bnyt0R/8ACPCW1ykAAD9t+J9P/K+YOYLgAAAPyQAAABIB\n",
              "ny1qR/8ACPHv4OYlwAAAH5AAAAAxQZsySahBbJlMCGf//p4QABDRAcTy2QB39tnYsqoDlVx4xyai\n",
              "LyXMA5KxpKuAAAAyoAAAABVBn1BFFSwj/wAFiU3RUhRAAAADAqsAAAAhAZ9vdEf/AAin1AW4mAG4\n",
              "aang2p7nDnYsP8q15XAAAAfkAAAAFwGfcWpH/wAIa43lgA1E8uTUAaAAABxwAAAAKEGbdkmoQWyZ\n",
              "TAhn//6eEAAQTtUX2oiXnsxX8AG00H0A1SgAAAMAi4EAAAAUQZ+URRUsI/8ABWeY0OGO6AAACNkA\n",
              "AAAcAZ+zdEf/AAht489TaoAIQlQIsF3Ase0AAAMBgwAAABABn7VqR/8ACG9loWgAAAwYAAAAZUGb\n",
              "ukmoQWyZTAhn//6eEAAv/9H2Qx3ssuz6zuG0Tn5OWRFpXbQZzSo5pbzfwLve1DdWwGvKkUQaWJxC\n",
              "kMK5ROZCKaNYzUddgTZJBKISLAgViB4CpLEi2ZU1jkQDNk5gcCBYtcjgAAAAGkGf2EUVLCP/AAVi\n",
              "At5RQAAg43C2wAAAAwFfAAAAGwGf93RH/wAIZ7hQGsmACINLhYzB+P80AAAGDAAAABkBn/lqR/8A\n",
              "CGe/5OtzAAIP3kTcPAAAAwIGAAAANUGb/kmoQWyZTAhf//6MsAAwFHVXODvqL9Wb51AEZ11gXUgA\n",
              "15Br8tm3k6eQPP+twxgAAAZVAAAAJUGeHEUVLCP/AA8ugRFStkVJ9Wi4AEsi2DekLsFdv0WBsAAA\n",
              "CBgAAAAgAZ47dEf/ABh6kyc6T48ZAAnR1DjPSX8rexXOAAADAZkAAAAlAZ49akf/ABh9Iq0gLmAC\n",
              "n/OQt92t1YVqERMkVkBwzBYAAAMDjwAAAEZBmiFJqEFsmUwIZ//+nhAAL/wnPbcRu2rgA4ao+hbu\n",
              "PLmGc3qYFhkHtfDqrXeowrFuiebOj3FKuXDKrCKBZk4e/kAAAC4gAAAAJkGeX0UVLCP/AA8ugVGV\n",
              "AeAArYGJipFe+770AX8L4FzbYTgAAAQNAAAAEwGeYGpH/wAYf2WI1p1lWAAACJgAAAAxQZplSahB\n",
              "bJlMCGf//p4QAC6ArQPJPbAAnWTqHzGD1Y6C3MQnGZ4Pw6I4rxgAAAMD5wAAAB5BnoNFFSwj/wAO\n",
              "252bCuAAubeACnLr46ag6AAABoUAAAAZAZ6idEf/ABfaoiD6ADuMhlMOm8pAAAAm4AAAABsBnqRq\n",
              "R/8AF9ZF9sLEZN4ADYRaaPuJgAAAFtAAAAAhQZqpSahBbJlMCF///oywAC7p6OUQorO7ynctwAAA\n",
              "AwL3AAAAHkGex0UVLCP/AA7WgVYtxABzMPhHmHY8Tv9AAAAZkAAAABcBnuZ0R/8AF+nySwAZs64V\n",
              "UAAAAwAzIQAAABgBnuhqR/8AF9Bk+V4UAEPnPm1AAAADA8IAAAApQZrtSahBbJlMCF///oywAC7y\n",
              "oX6WkiABI9168zOYK0ZKYZQAAAMAm4EAAAAXQZ8LRRUsI/8ADqwg/D9hL4QAAAMAD1kAAAAUAZ8q\n",
              "dEf/ABfT4QBkEx8AAAMAQ8EAAAAbAZ8sakf/ABeS5K8rqgBGMev36XSuAAADAF7BAAAALkGbMUmo\n",
              "QWyZTAhf//6MsAAu7DDUjKEAFbGyjVmc7kZqvZ561IzlWtwAAAMAL2AAAAAXQZ9PRRUsI/8ADqwg\n",
              "/D9hL4QAAAMAD1gAAAAhAZ9udEf/ABePKCM8CACcRzcNBWbPbH44MJ/lcAAAAwL3AAAAGgGfcGpH\n",
              "/wAXkuwK7AAF0Ul7RVuKr4AAACHgAAAAQ0GbdUmoQWyZTAhX//44QAHy03vBB7XgBLT9T9LZB1Oi\n",
              "p7JdzLabvVx4ngMVgFeFHuhSc/iv3u8mtMxC4G5wAAADATcAAAAeQZ+TRRUsI/8AKhiccEZvLLgB\n",
              "NLDZMj5aAAADAJWBAAAAFQGfsnRH/wAXQB9+gA1M+YAAAAMBowAAAB4Bn7RqR/8AQX4yNov3LgBC\n",
              "OhIglE72Q4AAAAMAWkEAAAAgQZu5SahBbJlMCEf//eEAB5ukbPTT1rPtA824oAAACHgAAAAgQZ/X\n",
              "RRUsI/8AKegbr/fQkrnXIbACZ/8YYaAAAAMAFpAAAAAcAZ/2dEf/AEGBczSR84ABOegNzHAbhTCA\n",
              "AAAH+QAAAB8Bn/hqR/8AQXss8g0HIUAAB97DooHtH25aAAADAALSAAAMSGWIhAAr//72c3wKa0cz\n",
              "lS4Fdvdmo+XQkuX7EGD60AAAAwAAAwAAB4qSRErSl836VAAAAwDEAC+QthFTtv+YAThRtODEdeyb\n",
              "vroAepje6CnTxQ2cgV48jzdFbi6lOmo1B7jJUCTY5KvU2fq3nP22JErfGN/mOkvEKtGMUjr2jSqV\n",
              "kRZIAQBPvMDvKmjM5kw/0pylHafpQivwqH9AElaho3t8GHh8hKT+XMR6uefaIR2MVwcBo5/nM5ff\n",
              "AxtDCZZLw0+wdYv4EkTXB4IT0WOQT1IpruKQFAdXUzBhJIAWkAAAAwCmp/7qssHmvWi7i9SoidGW\n",
              "7H4lG+0uLYzBAQsHfH7OuMYRl1pzhZBlJBhbxvoYzQw9U6nMBPBQo61mYPHlYhTt/kz3WCrb+kc3\n",
              "PezjTu0EmC2ZNdA/kpXNBLLSHLszQcI+Y9v88vcVJgLgHxySIFNw9BVvI+1ZmUZTMnikobdUxBoF\n",
              "MV6lrM6aowwt29PNMws0InrLJXgUpeV2Ivy900eJk1xZHREXcu4jfl3899VGGiIABR8MSzP/baBX\n",
              "90WRnmAiKY7Av2miMqSC+rjV1kZblpUkcDL9tPPPikzu6eL566AUAfOYFGHad8J5fGlP1OqW6nLk\n",
              "nBCADwbKLGGc9da1teWwFGbZRlNHUTO0DbuKj9SUXXeejaiHwX3FFPGPbaOBzV6Wzigam+Miu2um\n",
              "dY8qenblqTY6bZS6y4eKfZ445FWnjOg3Fbaya3iQDwsuf+6Ldgae2XjiEiz3SCRHK99SQcvoC4Ph\n",
              "IhR8TbwpWPcZUDfw3uj5qn+XzDJhKfr3tJQziaEoBtVvFlzzgD/XB7SVHI570jpf3VeUzpZYW2iV\n",
              "XnfkkWOQQfM2efvKwNADU9aN+KrfOLl4AunYjJW+dqdpvLjY9tKexy/zmm9ctwecPc7tqHrCGuhu\n",
              "d06T2GUOd3si26FF/x04LXVeSyH0bHnq5U+p2bhM1MF0ufvIvRDGidpxar8UcFLPsHrpTZps0CcT\n",
              "Bw19IWwzR9YKxRiTWlCnOfYBqIfRZM4cYSbjaNctezFXAlLKklgBDzWbngdFgkFxtd9BaSy8Gu9h\n",
              "pbV2EpZ2n2wkcd7qay+tXqYxhjL6myJflCUSPRt7krN8ONS+wg58SByWSQpEbVcn4a76VX5Wvoll\n",
              "m257Y4ir1razaZ1tCAFPEwxqvNMQfVQThzGGJkSRVwMzDlL+Am8ynggQ/uF74K2+Zcoyst/wO03B\n",
              "XZr5IXBjpuU8BV896EjfspfazVwA5VUI5lHlGX+V/tMV47SWQ/j9v0SLdOaHWURzYBzo+FbaQs8L\n",
              "iYWLU+jJTcl8Cneh/CajpWLt/4fUd/oJ3KeVoQD1OW9wXQy4hm5Zez5vpCl6cXLWQu6I+sq5yMIX\n",
              "9W7gP8IyC9+os5bIQC8tU99VFQEMh+TThvdO0MyTm3NKzcycL2aJBrwhzOtpFV5uv9khLkYX8tAB\n",
              "Px8b0Ou1who04AxND0OwjJjnWn0wMmJKDPz4Tq/XZS8agCASP1i5/7ix9WVwx1AV7+MCyHsfMZbk\n",
              "8DZPsAMm8RZO4mtT205f5fmsB5DhFqRxKs3aBiZaMj0nQr95PqoVARD0eYFP7N7zPw1smL1tFE9V\n",
              "EA7VQAIPsEZPEjBNw93A318Gis4YZTGAZSvuMg1Y876zKdLgoR1asX0eyLPApsnkSHbhkr0vGHND\n",
              "Y6PvGUVxWHBVkUqZ17KKvDqIBAAAAwJVKN73rqZu1mkBLzurbg4om/t2ZN3YtC4amj4RTFZD9oAW\n",
              "Yr3LsO5InI/hKg4tY4RIFOfW/gLKfzlYrzwQIDGZ9Z1gHnXk07EtoYnQ1bw4asGBIwOyTrzqF5Mu\n",
              "ZVaR4hkI7p2rtZVevhki3TJuBS2oyAjhl1hqoyGrXlU+kl269zA++Q4sAmJ8EHwV36h7Rcbz526u\n",
              "8px8td8GIbAgmW3sSjMeXr743EJhQ0uQ8MvwmxKpXcb9dR2HazhDaZB9pQmk+2mU8nGzSjHadEeP\n",
              "+tZuR3fJc5Zm6eFu+Ard2OVJMPrxL65cFYOqFfL2qcTqM6yFCHAwfKMEdDMGnyzi14lPOxfw6UI7\n",
              "nyxHUBEJcWiq5bF+iL/7CCzAk1L4qzo9PXWR+w/wZ7EaB4AIAMnFxdhXRyQTW77N8fxLslFIG57c\n",
              "dB+iZqtFXpKnJE1dX/6j89wRtJxm1pJrt9CNt2uPw/8gJxkBzzuN1ARf6AgWMcMmuGmsBBwAFmQ7\n",
              "NZsd2UZ/OS5J+VY5C/pXJoNDMmTUWluA6WvKX0fJJRXmfDw2ES8RZIunDNdGIj82C/mnxXSr0EzA\n",
              "PNAAOeOYxBiRlFyW9l8lL1Jf/0+UW7fRy7Oqvow400v1MD+ej8xrn+JqO26HADBJZhBIdKBc5Emu\n",
              "aymN0a8ojOGThtkmYEoPklRlpX3VYjHj3QB+38O1xu4wWpwxL4gRCGI8mWwxMyOP8x9c5/LwGNaQ\n",
              "S17tdAGBcUp6HPAgMpAed0USEEEDg/G2TOsAwto+WeL0CsaTYMzZvQkSgUUZj/3JOsKirof8MSV/\n",
              "kcstUfFOtiADK0vEXT9TfO9ocTGPM6ajO4HE3f+sVBwWd+/AgVnAjQO27ySzaRcjuoV5xVbtTZDs\n",
              "MfPYkFQnh3XFTZ+3fC/BUSIvpJp8wNXB9wMkKKYfazOuLfxABtyTICVE8y15BRnoUP9W2TqTJaDA\n",
              "s3VAH4CXDmqUxUgpR5JayAsuzJM+yMM2Vex6DPUdmVXNjmJG8LMCe3I7zqjGvTKmCzJQ553nHffe\n",
              "8zXbhwtQYlZmy0VMFoqWX/VungBRuyUCZPjBPvuqmZM4PVRLFQTW5OTWXlCpvh/AjLp3wHjDQhXG\n",
              "Pd7cNDMWubCAaxxxUFp/tDRJyiRFGCKR5IPAehu0UAPdv+jMUsMB/sVde/557kcldkJzPsTBvwJz\n",
              "jc/DiQs7GEPiZvl4zZu5HUyKcsW+5TGyDknvD6cN///qjAXjyeUTaziPNK7RDcxMO8xuW8Lqg0z2\n",
              "ocWms/LqmNQTrxMLc07NW0WswXd888eUSjikGZS2f2+8RWugsWzJnbzcuNC7hC5yRkRWgOkzu2Q0\n",
              "wEQ7M6RYfaaIZoQlo8Ewiv/nnCmNvfOHmYvY96AhDulzcrs7tpuVFOpW7r89iprumzyP0N6XifjA\n",
              "e3wa6jge8CbAAsIVJ4ZMzXk4b1fZLZowL/I8QDdzrNKRvpr6iyvhDouFJc9OP46ElA+jAEBGCdWK\n",
              "w8l0KoPuoJ8pS51otqOkCBLQ+Ok4wBMdDCSgNcM+Q/1wnO2b8LCuRHFoGCd3BySQo7eXtl5Q16SM\n",
              "jPMMYfKzE/8MyFN5t5vV7MB1Gz49vl8AZVFBvqKx21wBo8R2X3yzqLhYi9iX3qd84gk2rEIOo6WY\n",
              "Dw9GRAvz45s8gGIap/8egxYgJWoBEfAn+r4v/0pvernEXX+LKnxH7gkES/Xl/a20rrFS/4enbLFL\n",
              "Bcd4xYjPUqDk1In7adMry/3I0m2uAnQIYpNPbbkRBUeI9vqCW6Ar8d2RfgCPCw5UkWQ0vmtHzPZ4\n",
              "l4uHuS0z9L2zn8GXWwe0ydfbPUZeRGHaCBxCyaqFk325bjcecWtMCjpBiOQwQVPKY9CKQyavLm2V\n",
              "T/fWBFJMc9MDAMJlVF3JhDkUWpCEq1fS2COCVohp3F4TPlEEgxKWLoLpZhlzXA1Z5QoX/5BNdgAa\n",
              "KknTpCeAYP194udatcnWgC5tJAjqjIfAUwm8DoG3ufC2dhx7HxZTWSIQJmZFbhXytFvwMYAhtDIv\n",
              "+OD1grjHZn92/SscvyEP94/+oFu97y9jH5hSDjn33d2U085lENHIIPEkn7YG/+QvTt4aSpys1c09\n",
              "mlYxVy6UU77q/oLXtBomf9uN2e1APIvI2P1847TFW+je75EL36M+p95p5bnDkWtHm2No6b5l6Lxc\n",
              "/2Q2LV2p9j0GGcgBNW+N6TWvdj0/ramHPH27v522Nf0RxrZuIuMVXOpiW0VsXegWORI6Okvciv7W\n",
              "fT/UHs/pqGI1Tu60AXpF1cTzLhrhgB665poP8+tkASLLOLVWwAn0BwRb09r5Hh3vXRw2mlAGT15a\n",
              "8FOCaBTtddSPVApSPWJI3YDDCehwzDzMA9XQ3DhGm+NsaBPQX2N5uCIN5jID9V5efp0+hjevCDzt\n",
              "+iIOIERDRXezL7yCzvKZvpTxV9cHEDft/jTc3ZervMmTbWZyNuMjkMSWrH7LD1rmgAAEXAAAGqNt\n",
              "b292AAAAbG12aGQAAAAAAAAAAAAAAAAAAAPoAAAnJAABAAABAAAAAAAAAAAAAAAAAQAAAAAAAAAA\n",
              "AAAAAAAAAAEAAAAAAAAAAAAAAAAAAEAAAAAAAAAAAAAAAAAAAAAAAAAAAAAAAAAAAAAAAAACAAAZ\n",
              "zXRyYWsAAABcdGtoZAAAAAMAAAAAAAAAAAAAAAEAAAAAAAAnJAAAAAAAAAAAAAAAAAAAAAAAAQAA\n",
              "AAAAAAAAAAAAAAAAAAEAAAAAAAAAAAAAAAAAAEAAAAACiAAAAbAAAAAAACRlZHRzAAAAHGVsc3QA\n",
              "AAAAAAAAAQAAJyQAAAIAAAEAAAAAGUVtZGlhAAAAIG1kaGQAAAAAAAAAAAAAAAAAADIAAAH1AFXE\n",
              "AAAAAAAtaGRscgAAAAAAAAAAdmlkZQAAAAAAAAAAAAAAAFZpZGVvSGFuZGxlcgAAABjwbWluZgAA\n",
              "ABR2bWhkAAAAAQAAAAAAAAAAAAAAJGRpbmYAAAAcZHJlZgAAAAAAAAABAAAADHVybCAAAAABAAAY\n",
              "sHN0YmwAAAC0c3RzZAAAAAAAAAABAAAApGF2YzEAAAAAAAAAAQAAAAAAAAAAAAAAAAAAAAACiAGw\n",
              "AEgAAABIAAAAAAAAAAEAAAAAAAAAAAAAAAAAAAAAAAAAAAAAAAAAAAAAAAAAAAAY//8AAAAyYXZj\n",
              "QwFkAB//4QAZZ2QAH6zZQKQ35eEAAAMAAQAAAwBkDxgxlgEABmjr48siwAAAABx1dWlka2hA8l8k\n",
              "T8W6OaUbzwMj8wAAAAAAAAAYc3R0cwAAAAAAAAABAAAB9QAAAQAAAAAcc3RzcwAAAAAAAAADAAAA\n",
              "AQAAAPsAAAH1AAAPqGN0dHMAAAAAAAAB8wAAAAEAAAIAAAAAAQAABQAAAAABAAACAAAAAAEAAAAA\n",
              "AAAAAQAAAQAAAAABAAAFAAAAAAEAAAIAAAAAAQAAAAAAAAABAAABAAAAAAEAAAUAAAAAAQAAAgAA\n",
              "AAABAAAAAAAAAAEAAAEAAAAAAQAABQAAAAABAAACAAAAAAEAAAAAAAAAAQAAAQAAAAABAAAFAAAA\n",
              "AAEAAAIAAAAAAQAAAAAAAAABAAABAAAAAAEAAAUAAAAAAQAAAgAAAAABAAAAAAAAAAEAAAEAAAAA\n",
              "AQAABQAAAAABAAACAAAAAAEAAAAAAAAAAQAAAQAAAAABAAADAAAAAAEAAAEAAAAAAQAABQAAAAAB\n",
              "AAACAAAAAAEAAAAAAAAAAQAAAQAAAAABAAAFAAAAAAEAAAIAAAAAAQAAAAAAAAABAAABAAAAAAEA\n",
              "AAUAAAAAAQAAAgAAAAABAAAAAAAAAAEAAAEAAAAAAQAABQAAAAABAAACAAAAAAEAAAAAAAAAAQAA\n",
              "AQAAAAABAAAFAAAAAAEAAAIAAAAAAQAAAAAAAAABAAABAAAAAAEAAAUAAAAAAQAAAgAAAAABAAAA\n",
              "AAAAAAEAAAEAAAAAAQAABAAAAAACAAABAAAAAAEAAAUAAAAAAQAAAgAAAAABAAAAAAAAAAEAAAEA\n",
              "AAAAAQAAAwAAAAABAAABAAAAAAEAAAUAAAAAAQAAAgAAAAABAAAAAAAAAAEAAAEAAAAAAQAABQAA\n",
              "AAABAAACAAAAAAEAAAAAAAAAAQAAAQAAAAABAAAFAAAAAAEAAAIAAAAAAQAAAAAAAAABAAABAAAA\n",
              "AAEAAAUAAAAAAQAAAgAAAAABAAAAAAAAAAEAAAEAAAAAAQAABQAAAAABAAACAAAAAAEAAAAAAAAA\n",
              "AQAAAQAAAAABAAAFAAAAAAEAAAIAAAAAAQAAAAAAAAABAAABAAAAAAEAAAUAAAAAAQAAAgAAAAAB\n",
              "AAAAAAAAAAEAAAEAAAAAAQAABQAAAAABAAACAAAAAAEAAAAAAAAAAQAAAQAAAAABAAAFAAAAAAEA\n",
              "AAIAAAAAAQAAAAAAAAABAAABAAAAAAEAAAUAAAAAAQAAAgAAAAABAAAAAAAAAAEAAAEAAAAAAQAA\n",
              "BQAAAAABAAACAAAAAAEAAAAAAAAAAQAAAQAAAAABAAAFAAAAAAEAAAIAAAAAAQAAAAAAAAABAAAB\n",
              "AAAAAAEAAAUAAAAAAQAAAgAAAAABAAAAAAAAAAEAAAEAAAAAAQAABQAAAAABAAACAAAAAAEAAAAA\n",
              "AAAAAQAAAQAAAAABAAAFAAAAAAEAAAIAAAAAAQAAAAAAAAABAAABAAAAAAEAAAUAAAAAAQAAAgAA\n",
              "AAABAAAAAAAAAAEAAAEAAAAAAQAABQAAAAABAAACAAAAAAEAAAAAAAAAAQAAAQAAAAABAAAFAAAA\n",
              "AAEAAAIAAAAAAQAAAAAAAAABAAABAAAAAAEAAAUAAAAAAQAAAgAAAAABAAAAAAAAAAEAAAEAAAAA\n",
              "AQAABQAAAAABAAACAAAAAAEAAAAAAAAAAQAAAQAAAAABAAAFAAAAAAEAAAIAAAAAAQAAAAAAAAAB\n",
              "AAABAAAAAAEAAAUAAAAAAQAAAgAAAAABAAAAAAAAAAEAAAEAAAAAAQAABQAAAAABAAACAAAAAAEA\n",
              "AAAAAAAAAQAAAQAAAAABAAAFAAAAAAEAAAIAAAAAAQAAAAAAAAABAAABAAAAAAEAAAUAAAAAAQAA\n",
              "AgAAAAABAAAAAAAAAAEAAAEAAAAAAQAABQAAAAABAAACAAAAAAEAAAAAAAAAAQAAAQAAAAABAAAF\n",
              "AAAAAAEAAAIAAAAAAQAAAAAAAAABAAABAAAAAAEAAAUAAAAAAQAAAgAAAAABAAAAAAAAAAEAAAEA\n",
              "AAAAAQAABQAAAAABAAACAAAAAAEAAAAAAAAAAQAAAQAAAAABAAAFAAAAAAEAAAIAAAAAAQAAAAAA\n",
              "AAABAAABAAAAAAEAAAUAAAAAAQAAAgAAAAABAAAAAAAAAAEAAAEAAAAAAQAABQAAAAABAAACAAAA\n",
              "AAEAAAAAAAAAAQAAAQAAAAABAAAFAAAAAAEAAAIAAAAAAQAAAAAAAAABAAABAAAAAAEAAAUAAAAA\n",
              "AQAAAgAAAAABAAAAAAAAAAEAAAEAAAAAAQAABQAAAAABAAACAAAAAAEAAAAAAAAAAQAAAQAAAAAB\n",
              "AAAFAAAAAAEAAAIAAAAAAQAAAAAAAAABAAABAAAAAAEAAAUAAAAAAQAAAgAAAAABAAAAAAAAAAEA\n",
              "AAEAAAAAAQAABQAAAAABAAACAAAAAAEAAAAAAAAAAQAAAQAAAAABAAAFAAAAAAEAAAIAAAAAAQAA\n",
              "AAAAAAABAAABAAAAAAEAAAUAAAAAAQAAAgAAAAABAAAAAAAAAAEAAAEAAAAAAQAABQAAAAABAAAC\n",
              "AAAAAAEAAAAAAAAAAQAAAQAAAAABAAAFAAAAAAEAAAIAAAAAAQAAAAAAAAABAAABAAAAAAEAAAUA\n",
              "AAAAAQAAAgAAAAABAAAAAAAAAAEAAAEAAAAAAQAABQAAAAABAAACAAAAAAEAAAAAAAAAAQAAAQAA\n",
              "AAABAAAFAAAAAAEAAAIAAAAAAQAAAAAAAAABAAABAAAAAAEAAAUAAAAAAQAAAgAAAAABAAAAAAAA\n",
              "AAEAAAEAAAAAAQAAAwAAAAABAAABAAAAAAEAAAIAAAAAAQAABQAAAAABAAACAAAAAAEAAAAAAAAA\n",
              "AQAAAQAAAAABAAAFAAAAAAEAAAIAAAAAAQAAAAAAAAABAAABAAAAAAEAAAUAAAAAAQAAAgAAAAAB\n",
              "AAAAAAAAAAEAAAEAAAAAAQAAAgAAAAABAAAFAAAAAAEAAAIAAAAAAQAAAAAAAAABAAABAAAAAAEA\n",
              "AAUAAAAAAQAAAgAAAAABAAAAAAAAAAEAAAEAAAAAAQAABQAAAAABAAACAAAAAAEAAAAAAAAAAQAA\n",
              "AQAAAAABAAAFAAAAAAEAAAIAAAAAAQAAAAAAAAABAAABAAAAAAEAAAUAAAAAAQAAAgAAAAABAAAA\n",
              "AAAAAAEAAAEAAAAAAQAABQAAAAABAAACAAAAAAEAAAAAAAAAAQAAAQAAAAABAAAFAAAAAAEAAAIA\n",
              "AAAAAQAAAAAAAAABAAABAAAAAAEAAAIAAAAAAQAABQAAAAABAAACAAAAAAEAAAAAAAAAAQAAAQAA\n",
              "AAABAAAFAAAAAAEAAAIAAAAAAQAAAAAAAAABAAABAAAAAAEAAAUAAAAAAQAAAgAAAAABAAAAAAAA\n",
              "AAEAAAEAAAAAAQAABQAAAAABAAACAAAAAAEAAAAAAAAAAQAAAQAAAAABAAAFAAAAAAEAAAIAAAAA\n",
              "AQAAAAAAAAABAAABAAAAAAEAAAUAAAAAAQAAAgAAAAABAAAAAAAAAAEAAAEAAAAAAQAABQAAAAAB\n",
              "AAACAAAAAAEAAAAAAAAAAQAAAQAAAAABAAAFAAAAAAEAAAIAAAAAAQAAAAAAAAABAAABAAAAAAEA\n",
              "AAUAAAAAAQAAAgAAAAABAAAAAAAAAAEAAAEAAAAAAQAABQAAAAABAAACAAAAAAEAAAAAAAAAAQAA\n",
              "AQAAAAABAAAFAAAAAAEAAAIAAAAAAQAAAAAAAAABAAABAAAAAAEAAAUAAAAAAQAAAgAAAAABAAAA\n",
              "AAAAAAEAAAEAAAAAAQAABQAAAAABAAACAAAAAAEAAAAAAAAAAQAAAQAAAAABAAAFAAAAAAEAAAIA\n",
              "AAAAAQAAAAAAAAABAAABAAAAAAEAAAMAAAAAAQAAAQAAAAABAAAFAAAAAAEAAAIAAAAAAQAAAAAA\n",
              "AAABAAABAAAAAAEAAAUAAAAAAQAAAgAAAAABAAAAAAAAAAEAAAEAAAAAAQAABQAAAAABAAACAAAA\n",
              "AAEAAAAAAAAAAQAAAQAAAAABAAAFAAAAAAEAAAIAAAAAAQAAAAAAAAABAAABAAAAAAEAAAUAAAAA\n",
              "AQAAAgAAAAABAAAAAAAAAAEAAAEAAAAAAQAABQAAAAABAAACAAAAAAEAAAAAAAAAAQAAAQAAAAAB\n",
              "AAAFAAAAAAEAAAIAAAAAAQAAAAAAAAABAAABAAAAAAEAAAMAAAAAAQAAAQAAAAABAAAFAAAAAAEA\n",
              "AAIAAAAAAQAAAAAAAAABAAABAAAAAAEAAAUAAAAAAQAAAgAAAAABAAAAAAAAAAEAAAEAAAAAAQAA\n",
              "BQAAAAABAAACAAAAAAEAAAAAAAAAAQAAAQAAAAABAAAFAAAAAAEAAAIAAAAAAQAAAAAAAAABAAAB\n",
              "AAAAAAEAAAUAAAAAAQAAAgAAAAABAAAAAAAAAAEAAAEAAAAAAQAABQAAAAABAAACAAAAAAEAAAAA\n",
              "AAAAAQAAAQAAAAABAAAFAAAAAAEAAAIAAAAAAQAAAAAAAAABAAABAAAAAAEAAAUAAAAAAQAAAgAA\n",
              "AAABAAAAAAAAAAEAAAEAAAAAAQAABQAAAAABAAACAAAAAAEAAAAAAAAAAQAAAQAAAAABAAAFAAAA\n",
              "AAEAAAIAAAAAAQAAAAAAAAABAAABAAAAAAEAAAUAAAAAAQAAAgAAAAABAAAAAAAAAAEAAAEAAAAA\n",
              "AQAABQAAAAABAAACAAAAAAEAAAAAAAAAAQAAAQAAAAABAAAFAAAAAAEAAAIAAAAAAQAAAAAAAAAB\n",
              "AAABAAAAAAEAAAUAAAAAAQAAAgAAAAABAAAAAAAAAAEAAAEAAAAAAQAABQAAAAABAAACAAAAAAEA\n",
              "AAAAAAAAAQAAAQAAAAABAAAFAAAAAAEAAAIAAAAAAQAAAAAAAAABAAABAAAAAAEAAAUAAAAAAQAA\n",
              "AgAAAAABAAAAAAAAAAEAAAEAAAAAAQAABQAAAAABAAACAAAAAAEAAAAAAAAAAQAAAQAAAAABAAAF\n",
              "AAAAAAEAAAIAAAAAAQAAAAAAAAABAAABAAAAAAEAAAUAAAAAAQAAAgAAAAABAAAAAAAAAAEAAAEA\n",
              "AAAAAQAABQAAAAABAAACAAAAAAEAAAAAAAAAAQAAAQAAAAABAAAFAAAAAAEAAAIAAAAAAQAAAAAA\n",
              "AAABAAABAAAAAAEAAAUAAAAAAQAAAgAAAAABAAAAAAAAAAEAAAEAAAAAAQAABAAAAAACAAABAAAA\n",
              "AAEAAAUAAAAAAQAAAgAAAAABAAAAAAAAAAEAAAEAAAAAAQAABQAAAAABAAACAAAAAAEAAAAAAAAA\n",
              "AQAAAQAAAAABAAAFAAAAAAEAAAIAAAAAAQAAAAAAAAABAAABAAAAAAEAAAUAAAAAAQAAAgAAAAAB\n",
              "AAAAAAAAAAEAAAEAAAAAAQAABQAAAAABAAACAAAAAAEAAAAAAAAAAQAAAQAAAAABAAAFAAAAAAEA\n",
              "AAIAAAAAAQAAAAAAAAABAAABAAAAAAEAAAIAAAAAHHN0c2MAAAAAAAAAAQAAAAEAAAH1AAAAAQAA\n",
              "B+hzdHN6AAAAAAAAAAAAAAH1AAAMbgAAAGAAAAAqAAAAJQAAABkAAABUAAAAJwAAACUAAAAWAAAA\n",
              "MAAAACUAAAAcAAAAHgAAADsAAAAjAAAAIgAAABcAAABEAAAAJwAAACIAAAAmAAAASQAAACoAAAAl\n",
              "AAAAHgAAAD4AAAAmAAAAJAAAABwAAAAuAAAAIwAAADcAAAAjAAAAIQAAAB8AAAAwAAAAIwAAAB4A\n",
              "AAAjAAAAQQAAACAAAAAmAAAAGQAAAE8AAAAgAAAAHAAAAB0AAAAzAAAAHgAAACcAAAAfAAAAQwAA\n",
              "ACwAAAAXAAAAIQAAAEkAAAAsAAAAJwAAADAAAAAqAAAAHAAAAB4AAAApAAAAIAAAADEAAAAcAAAA\n",
              "HgAAACAAAABLAAAAKAAAACAAAAAgAAAAVgAAABwAAAAlAAAAHgAAAC8AAAAaAAAAJQAAACUAAAA7\n",
              "AAAAGwAAAC0AAAAdAAAAOwAAABwAAAAiAAAAJAAAAD4AAAAsAAAAIAAAABcAAAA7AAAAGQAAAB8A\n",
              "AAAdAAAANgAAACkAAAAWAAAAGQAAADcAAAAnAAAAGQAAACEAAABPAAAALwAAACYAAAAnAAAANwAA\n",
              "ACAAAAAfAAAAFQAAACYAAAAZAAAAHwAAAB8AAAAxAAAAJAAAABgAAAAhAAAAXwAAABsAAAAfAAAA\n",
              "FgAAAEUAAAAsAAAAFgAAACAAAAAjAAAAHAAAAB8AAAAhAAAAQgAAAB4AAAAYAAAAGwAAAEoAAAAl\n",
              "AAAAJQAAACUAAABFAAAAGgAAABcAAAAdAAAANwAAACYAAAAjAAAAIAAAAE0AAAAlAAAAHgAAAB8A\n",
              "AABAAAAAJgAAACEAAAAgAAAAVwAAAB4AAAArAAAAGwAAAD4AAAAcAAAAJAAAACIAAAAtAAAAGwAA\n",
              "AB8AAAAfAAAAQgAAABwAAAAgAAAAIQAAAFkAAAAvAAAAIwAAACAAAAAvAAAAIAAAABwAAAAhAAAA\n",
              "LgAAACgAAAAkAAAAGAAAAE4AAAAeAAAAKgAAACEAAABVAAAAIgAAACUAAAAWAAAANgAAACMAAAAV\n",
              "AAAAHQAAACYAAAAjAAAAIgAAACMAAABTAAAAIQAAAB8AAAAgAAAAOgAAACkAAAAnAAAAIQAAAC4A\n",
              "AAAaAAAAHwAAACMAAAA5AAAAHQAAACMAAAAlAAAANQAAACAAAAAaAAAAHwAAADoAAAAxAAAAIQAA\n",
              "ACQAAABDAAAAGgAAABYAAAAdAAAAMgAAACoAAAAdAAAAIgAAADIAAAAoAAAAHQAAACIAAABKAAAA\n",
              "LQAAACcAAAAoAAAAXgAAACgAAAAZAAAAHAAAADsAAAAkAAAAFQAAACAAAAAkAAAAJAAADrsAAABd\n",
              "AAAAIgAAACEAAAAlAAAAOgAAACkAAAAjAAAAGAAAADYAAAAcAAAAHQAAACIAAAA6AAAALwAAACkA\n",
              "AAAWAAAAGQAAAEYAAAAqAAAAIQAAACMAAABOAAAAJgAAACsAAAAYAAAAKQAAACYAAAAcAAAAIgAA\n",
              "ADgAAAAgAAAAHQAAABUAAAA3AAAALAAAACIAAAAoAAAAUgAAACsAAAAlAAAAKwAAAC8AAAA9AAAA\n",
              "HQAAAB4AAAAeAAAANAAAACUAAAAgAAAAFQAAAD4AAAAbAAAAIAAAACIAAABYAAAAGwAAACQAAAAV\n",
              "AAAANgAAACsAAAAbAAAAHgAAACYAAAAoAAAAIgAAACUAAABZAAAAJQAAABoAAAAiAAAANwAAACAA\n",
              "AAAeAAAAJAAAAC0AAAAfAAAAHAAAACAAAAAvAAAAGAAAACIAAAAgAAAATwAAABoAAAAXAAAAFAAA\n",
              "AFEAAAAnAAAAIQAAACkAAAA6AAAAIQAAABgAAAAjAAAAOQAAACgAAAAmAAAAHwAAACQAAAAaAAAA\n",
              "LgAAABoAAAAcAAAAJAAAADsAAAApAAAAJQAAABYAAABMAAAAJAAAABUAAAAeAAAALQAAACoAAAAf\n",
              "AAAAIgAAAEQAAAAmAAAAGgAAACYAAABJAAAAHgAAACYAAAAhAAAARAAAACIAAAAdAAAAIAAAAC8A\n",
              "AAAjAAAAMQAAACEAAAAfAAAAFQAAAGIAAAAtAAAAIwAAACEAAAA4AAAAJwAAACgAAAAYAAAANAAA\n",
              "ABsAAAAgAAAAIAAAAD8AAAAbAAAAHwAAAB4AAAA4AAAAJQAAAB8AAAAhAAAANwAAACYAAAAiAAAA\n",
              "FgAAACkAAAAeAAAAHAAAABoAAAArAAAAKAAAAB8AAAAiAAAALAAAACYAAAAdAAAAIwAAAFEAAAAv\n",
              "AAAAIQAAAC4AAAA2AAAAIQAAAB4AAAAbAAAAOQAAACIAAAAdAAAAHgAAAEgAAAAgAAAAHAAAACIA\n",
              "AAB2AAAAGwAAACMAAAAfAAAAPQAAACMAAAAaAAAAHgAAACwAAAAkAAAAIgAAACMAAABQAAAAHQAA\n",
              "AB4AAAAkAAAARwAAACMAAAAhAAAAFgAAADUAAAAZAAAAJQAAABsAAAAsAAAAGAAAACAAAAAUAAAA\n",
              "aQAAAB4AAAAfAAAAHQAAADkAAAApAAAAJAAAACkAAABKAAAAKgAAABcAAAA1AAAAIgAAAB0AAAAf\n",
              "AAAAJQAAACIAAAAbAAAAHAAAAC0AAAAbAAAAGAAAAB8AAAAyAAAAGwAAACUAAAAeAAAARwAAACIA\n",
              "AAAZAAAAIgAAACQAAAAkAAAAIAAAACMAAAxMAAAAFHN0Y28AAAAAAAAAAQAAACwAAABidWR0YQAA\n",
              "AFptZXRhAAAAAAAAACFoZGxyAAAAAAAAAABtZGlyYXBwbAAAAAAAAAAAAAAAAC1pbHN0AAAAJal0\n",
              "b28AAAAdZGF0YQAAAAEAAAAATGF2ZjU3LjgzLjEwMA==\n",
              "\">\n",
              "  Your browser does not support the video tag.\n",
              "</video>"
            ]
          },
          "metadata": {},
          "execution_count": 26
        }
      ]
    },
    {
      "cell_type": "code",
      "source": [],
      "metadata": {
        "id": "Eod0H8JrLCtQ"
      },
      "execution_count": null,
      "outputs": []
    },
    {
      "cell_type": "markdown",
      "source": [
        "## _Exercise_ 4\n",
        "\n",
        "* A moving-point starting at the base-point $B(-15.1,22.1)$ moves with velocity\n",
        "$$\n",
        "\\vec{v} = 2.3\\hat{\\imath}  - 4.2\\hat{\\jmath}\n",
        "$$\n",
        "\n",
        "* Create an animation to show the path traced by the moving-point as it moves along the path\n",
        "\n",
        "\n",
        "* The parameter should run from __t=0__ to __t=18.3__ seconds\n",
        "\n",
        "\n",
        "* The animation should have a figure-size 10\" x 8\" and make sure you also use the correct limits for the plot"
      ],
      "metadata": {
        "id": "859fVBUBMbXo"
      }
    },
    {
      "cell_type": "code",
      "source": [],
      "metadata": {
        "id": "EJfBAnI5M4WX"
      },
      "execution_count": null,
      "outputs": []
    },
    {
      "cell_type": "code",
      "source": [],
      "metadata": {
        "id": "VtqI0duBM5s5"
      },
      "execution_count": null,
      "outputs": []
    },
    {
      "cell_type": "code",
      "source": [],
      "metadata": {
        "id": "YYKHe7NNM5vD"
      },
      "execution_count": null,
      "outputs": []
    },
    {
      "cell_type": "code",
      "source": [],
      "metadata": {
        "id": "Zj9GW5lNM5x3"
      },
      "execution_count": null,
      "outputs": []
    },
    {
      "cell_type": "code",
      "source": [],
      "metadata": {
        "id": "7zzKP-FPM50T"
      },
      "execution_count": null,
      "outputs": []
    },
    {
      "cell_type": "code",
      "source": [],
      "metadata": {
        "id": "U9UmAqMXM52o"
      },
      "execution_count": null,
      "outputs": []
    },
    {
      "cell_type": "code",
      "source": [],
      "metadata": {
        "id": "p17b5FtqM54o"
      },
      "execution_count": null,
      "outputs": []
    }
  ]
}