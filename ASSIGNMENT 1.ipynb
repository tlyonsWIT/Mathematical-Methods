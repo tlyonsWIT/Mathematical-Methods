{
  "nbformat": 4,
  "nbformat_minor": 0,
  "metadata": {
    "colab": {
      "provenance": [],
      "authorship_tag": "ABX9TyP6nuNLdgNE0Dcin9VoVX0u",
      "include_colab_link": true
    },
    "kernelspec": {
      "name": "python3",
      "display_name": "Python 3"
    },
    "language_info": {
      "name": "python"
    }
  },
  "cells": [
    {
      "cell_type": "markdown",
      "metadata": {
        "id": "view-in-github",
        "colab_type": "text"
      },
      "source": [
        "<a href=\"https://colab.research.google.com/github/tlyonsWIT/Mathematical-Methods/blob/main/ASSIGNMENT%201.ipynb\" target=\"_parent\"><img src=\"https://colab.research.google.com/assets/colab-badge.svg\" alt=\"Open In Colab\"/></a>"
      ]
    },
    {
      "cell_type": "markdown",
      "source": [
        "# Mathematical Methods - Autumn 2022\n",
        "\n",
        "# Assignment 1\n",
        "\n",
        "# Due: __Sunday 23 October at 11:59 p.m.__\n",
        "\n",
        "## __Completed workbooks should be uploaded to Moodle__\n",
        "\n",
        "---\n",
        "___\n",
        "# Instructions\n",
        "\n",
        "* Define each of the required functions in __Questions 1 - 4__ and use each function to answer the subsequent exercises\n",
        "\n",
        "\n",
        "* Make sure you save your __completed workbook__ before uploading to __Moodle__\n",
        "\n",
        "\n",
        "* Download and save your workbook in the format __12345678.ipynb__ where __12345678__ is your __student number__\n",
        "\n",
        "\n",
        "* __IMPORTANT__ You must save and submit your workbook with the __.ipynb__ extension\n",
        "\n",
        "\n",
        "* This assignment is based on __Workbooks 1 - 4__ which we have coverd during practicals\n",
        "\n",
        "\n",
        "___\n",
        "___\n",
        "\n",
        "\n",
        "### Importing the libraries"
      ],
      "metadata": {
        "id": "dciqvseqbMp8"
      }
    },
    {
      "cell_type": "code",
      "source": [
        "import matplotlib.pyplot as plt  ## Library of functions for 2D plotting\n",
        "import numpy as np ## Library of function for numerical work\n",
        "\n",
        "from mpl_toolkits.mplot3d import Axes3D # Import the functions for creating 3D plots\n",
        "\n",
        "from ipywidgets import widgets, interact, interactive, fixed, interact_manual # Import widgets for interactive plots\n",
        "from IPython.display import clear_output # A function to clear interactive plots before each update\n",
        "\n",
        "from matplotlib import animation # A function to create an animation\n",
        "from IPython.display import HTML"
      ],
      "metadata": {
        "id": "Fm0gQqDEbMHa"
      },
      "execution_count": null,
      "outputs": []
    },
    {
      "cell_type": "markdown",
      "source": [
        "____"
      ],
      "metadata": {
        "id": "TownhOHwdDBu"
      }
    },
    {
      "cell_type": "markdown",
      "source": [
        "# Question 1\n",
        "\n",
        "__a)__    Define a function to create a 3-dimensional vector or point. \n",
        "\n",
        "The function should __round__ the entries of the point or vector to __3 decimal places__"
      ],
      "metadata": {
        "id": "qIya17-YdFD4"
      }
    },
    {
      "cell_type": "code",
      "source": [],
      "metadata": {
        "id": "h9cTLct1dD0b"
      },
      "execution_count": null,
      "outputs": []
    },
    {
      "cell_type": "code",
      "source": [],
      "metadata": {
        "id": "TrMJ-sxmeZ5V"
      },
      "execution_count": null,
      "outputs": []
    },
    {
      "cell_type": "code",
      "source": [],
      "metadata": {
        "id": "lp5_ZKgKeaDU"
      },
      "execution_count": null,
      "outputs": []
    },
    {
      "cell_type": "code",
      "source": [],
      "metadata": {
        "id": "0xKzMgj9ef69"
      },
      "execution_count": null,
      "outputs": []
    },
    {
      "cell_type": "markdown",
      "source": [
        "__b)__ Given the points\n",
        "$$\n",
        "A(-4.5, 3.2, 7.2) \\qquad B(6.5, -4.1, 9.8) \\qquad C(7.6, 8.8, 9.1) \\qquad D(-5.4, -0.5, 7.8)\n",
        "$$\n",
        "answer the following:\n",
        "\n",
        "* Create the vectors $\\vec{AB}$, $\\vec{BC}$, $\\vec{CD}$ and $\\vec{AD}$ \n",
        "\n",
        "\n",
        "\n",
        "* Check the __truth value__ of the vector equation\n",
        "$$\n",
        "\\vec{AB} + \\vec{BC} + \\vec{CD} = \\vec{AD}\n",
        "$$\n",
        "\n",
        "__HINT: ==__"
      ],
      "metadata": {
        "id": "tnQeSo1-dUs4"
      }
    },
    {
      "cell_type": "code",
      "source": [],
      "metadata": {
        "id": "17uYwXwgeJlM"
      },
      "execution_count": null,
      "outputs": []
    },
    {
      "cell_type": "code",
      "source": [],
      "metadata": {
        "id": "W6oo-Js5efOR"
      },
      "execution_count": null,
      "outputs": []
    },
    {
      "cell_type": "code",
      "source": [],
      "metadata": {
        "id": "T1o_5m8pefU0"
      },
      "execution_count": null,
      "outputs": []
    },
    {
      "cell_type": "code",
      "source": [],
      "metadata": {
        "id": "gDhM-bA5efdM"
      },
      "execution_count": null,
      "outputs": []
    },
    {
      "cell_type": "markdown",
      "source": [
        "__c)__ Create a __3D plot__ of the vectors $\\vec{AB}$, $\\vec{BC}$, $\\vec{CD}$ and $\\vec{AD}$ \n",
        "\n",
        "__NOTE:__ It  is important to __label__ your axes correctly and to include a __legend__ to identify the vectors in the plot"
      ],
      "metadata": {
        "id": "JwyY4VpOegfd"
      }
    },
    {
      "cell_type": "code",
      "source": [],
      "metadata": {
        "id": "S-59acete9bE"
      },
      "execution_count": null,
      "outputs": []
    },
    {
      "cell_type": "code",
      "source": [],
      "metadata": {
        "id": "8vGVEkFmfCA3"
      },
      "execution_count": null,
      "outputs": []
    },
    {
      "cell_type": "code",
      "source": [],
      "metadata": {
        "id": "K1Bqf2u1fCMs"
      },
      "execution_count": null,
      "outputs": []
    },
    {
      "cell_type": "code",
      "source": [],
      "metadata": {
        "id": "JkTj_nwKfCT0"
      },
      "execution_count": null,
      "outputs": []
    },
    {
      "cell_type": "markdown",
      "source": [
        "___\n",
        "___"
      ],
      "metadata": {
        "id": "Xvpe9r5Lfk-U"
      }
    },
    {
      "cell_type": "markdown",
      "source": [
        "# Question 2\n",
        "\n",
        "Given the vectors\n",
        "$$\n",
        "\\vec{u} = 1.34\\hat{\\imath} - 2.45\\hat{\\jmath} + 3.33\\hat{k} \\qquad \n",
        "\\vec{v} = -3.21\\hat{\\imath} + 1.63\\hat{\\jmath} - 4.21\\hat{k}\n",
        "$$\n",
        "answer the following:\n",
        "\n",
        "\n",
        "__a)__ \n",
        "\n",
        "__i.__ Define a function to find the __norm__ of these vectors\n",
        "\n",
        "__ii.__ Use this function to find the norm of each vector\n",
        "\n",
        "\n",
        "__iii.__ Hence find the __unit vectors__ $\\hat{u}$ and $\\hat{v}$\n"
      ],
      "metadata": {
        "id": "WHS_movAfns3"
      }
    },
    {
      "cell_type": "code",
      "source": [],
      "metadata": {
        "id": "hbd2vERWfmM0"
      },
      "execution_count": null,
      "outputs": []
    },
    {
      "cell_type": "code",
      "source": [],
      "metadata": {
        "id": "xi7uiAhjgqqc"
      },
      "execution_count": null,
      "outputs": []
    },
    {
      "cell_type": "code",
      "source": [],
      "metadata": {
        "id": "WGcPPB3tgqtU"
      },
      "execution_count": null,
      "outputs": []
    },
    {
      "cell_type": "code",
      "source": [],
      "metadata": {
        "id": "wvY1yd9Ggq7J"
      },
      "execution_count": null,
      "outputs": []
    },
    {
      "cell_type": "markdown",
      "source": [
        "__b)__ Define a function the find the __angle__ between these vectors rounded to __3 decimal places__"
      ],
      "metadata": {
        "id": "WDeT92lOgrOF"
      }
    },
    {
      "cell_type": "code",
      "source": [],
      "metadata": {
        "id": "8cR43pfngz47"
      },
      "execution_count": null,
      "outputs": []
    },
    {
      "cell_type": "code",
      "source": [],
      "metadata": {
        "id": "hnDjE0Q8g1Ud"
      },
      "execution_count": null,
      "outputs": []
    },
    {
      "cell_type": "code",
      "source": [],
      "metadata": {
        "id": "Q6BS7wg6g1XM"
      },
      "execution_count": null,
      "outputs": []
    },
    {
      "cell_type": "code",
      "source": [],
      "metadata": {
        "id": "7yxaBkBqg1gO"
      },
      "execution_count": null,
      "outputs": []
    },
    {
      "cell_type": "markdown",
      "source": [
        "__c)__ Find the __cross-product__ \n",
        "$$\n",
        "\\vec{n} = \\vec{u} \\times \\vec{v}\n",
        "$$\n",
        "\n",
        "Hence show that $\\vec{n}$ is perpendicular to the vectors $\\vec{u}$, $\\vec{v}$ and the linear combination\n",
        "$$\n",
        "\\vec{r} = 108\\vec{v} - 197\\vec{u}\n",
        "$$\n"
      ],
      "metadata": {
        "id": "w5NeNvS4hefV"
      }
    },
    {
      "cell_type": "code",
      "source": [],
      "metadata": {
        "id": "NI_ycNJvh61c"
      },
      "execution_count": null,
      "outputs": []
    },
    {
      "cell_type": "code",
      "source": [],
      "metadata": {
        "id": "oVWjrhtDiAfd"
      },
      "execution_count": null,
      "outputs": []
    },
    {
      "cell_type": "code",
      "source": [],
      "metadata": {
        "id": "83MEmd02iAiL"
      },
      "execution_count": null,
      "outputs": []
    },
    {
      "cell_type": "code",
      "source": [],
      "metadata": {
        "id": "Hf4q_LSyiAkg"
      },
      "execution_count": null,
      "outputs": []
    },
    {
      "cell_type": "markdown",
      "source": [
        "__d)__ Find the __area__ of the parallelogram spanned by the vectors $\\vec{u}$ and $\\vec{v}$"
      ],
      "metadata": {
        "id": "huqiFdo-iA2c"
      }
    },
    {
      "cell_type": "code",
      "source": [],
      "metadata": {
        "id": "JX_fraRaiHac"
      },
      "execution_count": null,
      "outputs": []
    },
    {
      "cell_type": "code",
      "source": [],
      "metadata": {
        "id": "LkMuWHNXiItZ"
      },
      "execution_count": null,
      "outputs": []
    },
    {
      "cell_type": "code",
      "source": [],
      "metadata": {
        "id": "kpQZKaXXiIwA"
      },
      "execution_count": null,
      "outputs": []
    },
    {
      "cell_type": "code",
      "source": [],
      "metadata": {
        "id": "QnuQ_fd5iI2c"
      },
      "execution_count": null,
      "outputs": []
    },
    {
      "cell_type": "markdown",
      "source": [
        "___\n",
        "___"
      ],
      "metadata": {
        "id": "VKh4HXIGiLVV"
      }
    },
    {
      "cell_type": "markdown",
      "source": [
        "# Question 3\n",
        "\n",
        "Given the 3D-vectors\n",
        "$$\n",
        "\\vec{p} = 4.5\\hat{\\imath} + 1.6\\hat{\\jmath} + 2.8\\hat{k} \\qquad \n",
        "\\vec{q} = 1.4\\hat{\\imath} + 4.6\\hat{\\jmath} - 7.1\\hat{k}\n",
        "$$\n",
        "answer the following:\n",
        "\n",
        "\n",
        "__a)__ Define a function __Z(x,y,p,q,B)__ which describes the surface spanned by the vectors $\\vec{p}$ and $\\vec{q}$ containing the __base-point__ $B(a,b,c)$"
      ],
      "metadata": {
        "id": "KvJ30AiUiNyF"
      }
    },
    {
      "cell_type": "code",
      "source": [],
      "metadata": {
        "id": "rcNeATOui4-Q"
      },
      "execution_count": null,
      "outputs": []
    },
    {
      "cell_type": "code",
      "source": [],
      "metadata": {
        "id": "RGTfjNvki5NQ"
      },
      "execution_count": null,
      "outputs": []
    },
    {
      "cell_type": "code",
      "source": [],
      "metadata": {
        "id": "lLv8cd_ei5UQ"
      },
      "execution_count": null,
      "outputs": []
    },
    {
      "cell_type": "code",
      "source": [],
      "metadata": {
        "id": "Qgxwr_VEiMVN"
      },
      "execution_count": null,
      "outputs": []
    },
    {
      "cell_type": "markdown",
      "source": [
        "__b)__ If $B(-4.5,2.3,1.5)$ is a point in the plane spanned by $\\vec{p}$ and $\\vec{q}$, create a __3D plot__ of the surface\n",
        "\n",
        "\n",
        "\n",
        "\n",
        "__NOTE:__ The plot should also display the vectors $\\vec{p}$, $\\vec{q}$ and $\\vec{p}\\times\\vec{q}$ along with the points $B$ and $B+2\\vec{p}-\\vec{q}$"
      ],
      "metadata": {
        "id": "xu3Dg0YRi534"
      }
    },
    {
      "cell_type": "code",
      "source": [],
      "metadata": {
        "id": "_suxPgcKjel0"
      },
      "execution_count": null,
      "outputs": []
    },
    {
      "cell_type": "code",
      "source": [],
      "metadata": {
        "id": "CXcyOvItjgQd"
      },
      "execution_count": null,
      "outputs": []
    },
    {
      "cell_type": "code",
      "source": [],
      "metadata": {
        "id": "Va9QFc34jgS7"
      },
      "execution_count": null,
      "outputs": []
    },
    {
      "cell_type": "code",
      "source": [],
      "metadata": {
        "id": "YiXysRVLjgVg"
      },
      "execution_count": null,
      "outputs": []
    },
    {
      "cell_type": "markdown",
      "source": [
        "___\n",
        "___"
      ],
      "metadata": {
        "id": "nIVnaQy4jifZ"
      }
    },
    {
      "cell_type": "markdown",
      "source": [
        "# Question 4\n",
        "\n",
        "__a)__ Define a function the create __2-dimensional__ points and vectors"
      ],
      "metadata": {
        "id": "QXddMlm9jkWB"
      }
    },
    {
      "cell_type": "code",
      "source": [],
      "metadata": {
        "id": "jy4ROUFBjjOT"
      },
      "execution_count": null,
      "outputs": []
    },
    {
      "cell_type": "code",
      "source": [],
      "metadata": {
        "id": "SMVwsu9RjtGt"
      },
      "execution_count": null,
      "outputs": []
    },
    {
      "cell_type": "code",
      "source": [],
      "metadata": {
        "id": "GyC4D6-BjtI8"
      },
      "execution_count": null,
      "outputs": []
    },
    {
      "cell_type": "code",
      "source": [],
      "metadata": {
        "id": "3jp-UqhMjtLk"
      },
      "execution_count": null,
      "outputs": []
    },
    {
      "cell_type": "markdown",
      "source": [
        "__b)__ Given the point $P(-1.3, 4.5)$ and the vector\n",
        "$$\n",
        "\\vec{a} = 1.4\\hat{\\imath} - 2.3\\hat{\\jmath},\n",
        "$$\n",
        "define a function to produce the __parametric representation__ the line through $P$ in the direction of $\\vec{a}$"
      ],
      "metadata": {
        "id": "zfAvgDtGjtfO"
      }
    },
    {
      "cell_type": "code",
      "source": [],
      "metadata": {
        "id": "0IsA1HdCkQnc"
      },
      "execution_count": null,
      "outputs": []
    },
    {
      "cell_type": "code",
      "source": [],
      "metadata": {
        "id": "Gh4MBEYekSDz"
      },
      "execution_count": null,
      "outputs": []
    },
    {
      "cell_type": "code",
      "source": [],
      "metadata": {
        "id": "asb0feWikSGS"
      },
      "execution_count": null,
      "outputs": []
    },
    {
      "cell_type": "code",
      "source": [],
      "metadata": {
        "id": "TBSl-YRzkSIo"
      },
      "execution_count": null,
      "outputs": []
    },
    {
      "cell_type": "markdown",
      "source": [
        "__c)__ Create an __interactive plot__ with a slider to show a __red circle__ movind along this paramteric line "
      ],
      "metadata": {
        "id": "4Rlh1JffkSfQ"
      }
    },
    {
      "cell_type": "code",
      "source": [],
      "metadata": {
        "id": "vaGG3TDdkqgM"
      },
      "execution_count": null,
      "outputs": []
    },
    {
      "cell_type": "code",
      "source": [],
      "metadata": {
        "id": "LA_c08lgktpp"
      },
      "execution_count": null,
      "outputs": []
    },
    {
      "cell_type": "code",
      "source": [],
      "metadata": {
        "id": "kMqw1Z6Hktrx"
      },
      "execution_count": null,
      "outputs": []
    },
    {
      "cell_type": "code",
      "source": [],
      "metadata": {
        "id": "w-pRhJh-ktuH"
      },
      "execution_count": null,
      "outputs": []
    },
    {
      "cell_type": "markdown",
      "source": [
        "__d)__ Now include a __second line__ in the interactice plot from __part c)__ showing a __blue square__ moving along the line in the direction \n",
        "$$\n",
        "\\vec{b} = -2.3\\hat{\\imath} + 2.1\\hat{\\jmath}\n",
        "$$\n",
        "going through the point $Q(3.1, 1.2)$"
      ],
      "metadata": {
        "id": "oO6VqMR2kuAp"
      }
    },
    {
      "cell_type": "code",
      "source": [],
      "metadata": {
        "id": "w-19pZ5flJ5k"
      },
      "execution_count": null,
      "outputs": []
    },
    {
      "cell_type": "code",
      "source": [],
      "metadata": {
        "id": "xNaZye_QlQDI"
      },
      "execution_count": null,
      "outputs": []
    },
    {
      "cell_type": "code",
      "source": [],
      "metadata": {
        "id": "2y9cIs7GlQF0"
      },
      "execution_count": null,
      "outputs": []
    },
    {
      "cell_type": "code",
      "source": [],
      "metadata": {
        "id": "QjGtZXCHlQIL"
      },
      "execution_count": null,
      "outputs": []
    },
    {
      "cell_type": "markdown",
      "source": [
        "___\n",
        "___\n",
        "\n",
        "# End of Assignment 1\n",
        "\n",
        "* Please ensure you have saved all your answers in this workbook before uploading to Moodle\n",
        "\n",
        "\n",
        "* Save your workbook in the format __12345678.ipynb__ where 12345678 is your student number\n",
        "\n",
        "___\n",
        "___"
      ],
      "metadata": {
        "id": "iZ72VQJWlSOF"
      }
    }
  ]
}