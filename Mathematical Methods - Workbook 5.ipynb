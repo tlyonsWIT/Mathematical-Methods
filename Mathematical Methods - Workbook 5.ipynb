{
  "cells": [
    {
      "cell_type": "markdown",
      "metadata": {
        "id": "view-in-github",
        "colab_type": "text"
      },
      "source": [
        "<a href=\"https://colab.research.google.com/github/tlyonsWIT/Mathematical-Methods/blob/main/Mathematical%20Methods%20-%20Workbook%205.ipynb\" target=\"_parent\"><img src=\"https://colab.research.google.com/assets/colab-badge.svg\" alt=\"Open In Colab\"/></a>"
      ]
    },
    {
      "cell_type": "markdown",
      "metadata": {
        "collapsed": true,
        "id": "c_3_zOKaqFM_"
      },
      "source": [
        "# Mathematical Methods - Python Workbook 5\n",
        "\n",
        "## B Sc (H) Applied Computing - Year 2  \n",
        "\n",
        "# South East Technological University - Waterford\n",
        "\n",
        "---\n",
        " "
      ]
    },
    {
      "cell_type": "markdown",
      "metadata": {
        "id": "01mAAaYV5WAM"
      },
      "source": [
        "# Topic 3 - Matrices, eigenvalues and eigenvectors\n",
        "\n",
        "## Items Covered:\n",
        "\n",
        "1. Interpreting $2\\times 2$ matrices in 2D\n",
        "\n",
        "2. The __eigenvalues__ of $2\\times2$ matrices\n",
        "\n",
        "3. The __eigenvectors__ of $2\\times2$ matrices\n",
        "\n"
      ]
    },
    {
      "cell_type": "markdown",
      "metadata": {
        "id": "mmWPdMeCqFNH"
      },
      "source": [
        "## Calling the python libraries and functions\n",
        "\n",
        "\n",
        "* In the cell below the necessary Python libraries and functions are imported, which will be needed for the current work book\n"
      ]
    },
    {
      "cell_type": "code",
      "execution_count": null,
      "metadata": {
        "id": "7Qk8SxWnqFNJ"
      },
      "outputs": [],
      "source": [
        "import matplotlib.pyplot as plt  ## Library of functions for 2D plotting\n",
        "import numpy as np ## Library of function for numerical work\n",
        "\n",
        "from mpl_toolkits.mplot3d import Axes3D # Import the functions for creating 3D plots\n",
        "\n",
        "from ipywidgets import widgets, interact, interactive, fixed, interact_manual # Import widgets for interactive plots\n",
        "from IPython.display import clear_output # A function to clear interactive plots before each update\n",
        "\n",
        "from matplotlib import animation # A function to create an animation\n",
        "from IPython.display import HTML # For creating HTML animation whcih can be displayed directly in the browser / Colab notebook\n",
        "\n",
        "from scipy.linalg import eig  # Import the scipy function for calculating eigenvalues and eigenvectors"
      ]
    },
    {
      "cell_type": "markdown",
      "metadata": {
        "id": "-AxgXKv9mDvM"
      },
      "source": [
        "## Some useful function definitions\n",
        "\n",
        "### __v2d(a,b)__\n",
        "\n",
        "* A function for creating 2D-vectors"
      ]
    },
    {
      "cell_type": "code",
      "execution_count": null,
      "metadata": {
        "id": "LizJ0Uv6mRwU"
      },
      "outputs": [],
      "source": [
        "def v2d(a,b):\n",
        "    return np.array([a,b])"
      ]
    },
    {
      "cell_type": "markdown",
      "metadata": {
        "id": "BO3oRjC-mYxc"
      },
      "source": [
        "### __M2(a,b,c,d)__\n",
        "A function to create a __2x2 matrix__ of the form\n",
        "$$\n",
        "\\begin{bmatrix}\n",
        "a & b \\\\ c & d\n",
        "\\end{bmatrix}\n",
        "$$"
      ]
    },
    {
      "cell_type": "code",
      "execution_count": null,
      "metadata": {
        "id": "d07pGZucmuPw"
      },
      "outputs": [],
      "source": [
        "def M2(a,b,c,d):\n",
        "    return np.array([[a , b] , [c , d]])"
      ]
    },
    {
      "cell_type": "markdown",
      "metadata": {
        "id": "YhxuRyUeTR3V"
      },
      "source": [
        "__norm(u)__\n",
        "\n",
        "A function to calculate the norm of a 2D vector $\\vec{u}$"
      ]
    },
    {
      "cell_type": "code",
      "execution_count": null,
      "metadata": {
        "id": "T4-c4tqWTdF0"
      },
      "outputs": [],
      "source": [
        "def norm(u):\n",
        "    return np.sqrt(u.dot(u))"
      ]
    },
    {
      "cell_type": "markdown",
      "metadata": {
        "id": "RiZg8t2Spc80"
      },
      "source": [
        "### __Rtn(t)__\n",
        "A function the create a rotation vector with __t__ a rotation angle in __degrees__"
      ]
    },
    {
      "cell_type": "code",
      "execution_count": null,
      "metadata": {
        "id": "9ywhyGEJpp-0"
      },
      "outputs": [],
      "source": [
        "def Rtn(t):\n",
        "    r=np.radians(t)\n",
        "    c=np.cos(r)\n",
        "    s=np.sin(r)\n",
        "    return np.array([[c , -s] , [s , c]])"
      ]
    },
    {
      "cell_type": "markdown",
      "metadata": {
        "id": "og4C62HQ560Q"
      },
      "source": [
        "---"
      ]
    },
    {
      "cell_type": "markdown",
      "metadata": {
        "id": "HDD5YydnnHoy"
      },
      "source": [
        "# Item 1 - Interpreting vectors in 2D\n",
        "\n",
        "* Given a matrix of the form\n",
        "$$\n",
        "\\mathbf{M} = \\begin{bmatrix} a & b \\\\ c & d\\end{bmatrix}\n",
        "$$\n",
        "and a 2D vector of the form\n",
        "$$\n",
        "\\vec{u} = \\begin{bmatrix} u_{1} \\\\ u_{2}\\end{bmatrix}\n",
        "$$\n",
        "we can form the new vector\n",
        "$$\n",
        "\\vec{v} = \\mathbf{M}.\\vec{u} \n",
        "= \n",
        "\\begin{bmatrix} a & b \\\\ c & d\\end{bmatrix}\n",
        "\\begin{bmatrix} u_{1} \\\\ u_{2} \\end{bmatrix}\n",
        "=\n",
        "\\begin{bmatrix}\n",
        "a u_{1} + b u_{2} \\\\ c u_{1} + d u_{2}\n",
        "\\end{bmatrix}\n",
        "$$\n",
        "\n",
        "\\\\\n",
        "\n",
        "* The effect of this multiplication is usually to stretch (or shrink) the matrix $\\vec{u}$ to the vector $\\vec{v}$\n",
        "\n",
        "\\\\\n",
        "\n",
        "* There are exceptions to this interpretation, for instance, the __eigenvectors__ of the matrix __M__ are only re-scaled by the matrix multiplication\n",
        "\n",
        "\n",
        "\\\\\n",
        "\n",
        "* There are also matrices of the form\n",
        "$$\n",
        "\\mathbf{R} = \n",
        "\\begin{bmatrix} \n",
        "\\cos(\\theta) & -\\sin(\\theta) \\\\ \\sin(\\theta) & \\cos(\\theta)\n",
        "\\end{bmatrix}\n",
        "$$\n",
        "which __rotates__ the vector __$\\vec{u}$__ by an angle $\\theta$"
      ]
    },
    {
      "cell_type": "markdown",
      "metadata": {
        "id": "4lubyrogt_cA"
      },
      "source": [
        "## __Example__ 1\n",
        "\n",
        "Given the matrices\n",
        "$$\n",
        "\\mathbf{M} =\n",
        "\\begin{bmatrix}\n",
        "-1 & 3 \\\\ 2 & 1\n",
        "\\end{bmatrix}\n",
        "\\qquad \n",
        "R = \n",
        "\\begin{bmatrix}\n",
        "\\cos(45) & -\\sin(45) \\\\ \\sin(45) & \\cos(45)\n",
        "\\end{bmatrix}\n",
        "$$\n",
        "and the vector $\\vec{u} = \\begin{bmatrix} 2 \\\\ 5\\end{bmatrix}$\n",
        "\n",
        "\\\\\n",
        "\n",
        "__i)__ Calculate the matrices $\\vec{v}=\\mathbf{M}.\\vec{u}$ and $\\vec{w} = \\mathbf{R}.\\vec{u}$\n",
        "\n",
        "__ii)__ Plot the vectors $\\vec{u}$, $\\vec{v}$ and $\\vec{w}$"
      ]
    },
    {
      "cell_type": "markdown",
      "metadata": {
        "id": "9f0zVBnivQVE"
      },
      "source": [
        "### __Solution__ \n",
        "\n",
        "__Part i)__\n",
        "\n",
        "* The vector $\\vec{u}$ is created with __v2d()__, while the matrix $\\mathbf{M}$ is created using __M2()__ and the rotation matrix $\\mathbf{R}$ is created using __Rtn()__"
      ]
    },
    {
      "cell_type": "code",
      "execution_count": null,
      "metadata": {
        "colab": {
          "base_uri": "https://localhost:8080/"
        },
        "id": "nRqNNI-juchl",
        "outputId": "d890341c-660a-4250-8ee3-b51649377f1f"
      },
      "outputs": [
        {
          "data": {
            "text/plain": [
              "array([2, 5])"
            ]
          },
          "execution_count": 33,
          "metadata": {},
          "output_type": "execute_result"
        }
      ],
      "source": [
        "u=v2d(2,5)\n",
        "u"
      ]
    },
    {
      "cell_type": "code",
      "execution_count": null,
      "metadata": {
        "colab": {
          "base_uri": "https://localhost:8080/"
        },
        "id": "ortUPnjHvl70",
        "outputId": "60f03417-0bc0-48e7-ffcf-719db27b9aa4"
      },
      "outputs": [
        {
          "data": {
            "text/plain": [
              "array([[-1,  3],\n",
              "       [ 2,  1]])"
            ]
          },
          "execution_count": 34,
          "metadata": {},
          "output_type": "execute_result"
        }
      ],
      "source": [
        "M=M2(-1,3,2,1)\n",
        "M"
      ]
    },
    {
      "cell_type": "code",
      "execution_count": null,
      "metadata": {
        "colab": {
          "base_uri": "https://localhost:8080/"
        },
        "id": "Ihuhi_7Zvsm0",
        "outputId": "aabb4a50-6a98-471d-f75a-c9f59f1981b2"
      },
      "outputs": [
        {
          "data": {
            "text/plain": [
              "array([[ 0.70710678, -0.70710678],\n",
              "       [ 0.70710678,  0.70710678]])"
            ]
          },
          "execution_count": 37,
          "metadata": {},
          "output_type": "execute_result"
        }
      ],
      "source": [
        "R=Rtn(45)\n",
        "R"
      ]
    },
    {
      "cell_type": "code",
      "execution_count": null,
      "metadata": {
        "id": "tpIM9ivuvwks"
      },
      "outputs": [],
      "source": []
    },
    {
      "cell_type": "markdown",
      "metadata": {
        "id": "TBWG7KV8v1BF"
      },
      "source": [
        "* The matrices $\\vec{v}$ and $\\vec{w}$ are created using the __dot()__ function"
      ]
    },
    {
      "cell_type": "code",
      "execution_count": null,
      "metadata": {
        "colab": {
          "base_uri": "https://localhost:8080/"
        },
        "id": "51F4jMyov7Hs",
        "outputId": "fcb0daec-66e7-455c-ae03-40798569cfe9"
      },
      "outputs": [
        {
          "data": {
            "text/plain": [
              "array([13,  9])"
            ]
          },
          "execution_count": 38,
          "metadata": {},
          "output_type": "execute_result"
        }
      ],
      "source": [
        "v = M.dot(u)\n",
        "v"
      ]
    },
    {
      "cell_type": "code",
      "execution_count": null,
      "metadata": {
        "colab": {
          "base_uri": "https://localhost:8080/"
        },
        "id": "XFN6KpuRv-DM",
        "outputId": "e71237b3-97ba-41e0-f84f-52233987ce29"
      },
      "outputs": [
        {
          "data": {
            "text/plain": [
              "array([-2.12132034,  4.94974747])"
            ]
          },
          "execution_count": 39,
          "metadata": {},
          "output_type": "execute_result"
        }
      ],
      "source": [
        "w = R.dot(u)\n",
        "w"
      ]
    },
    {
      "cell_type": "markdown",
      "metadata": {
        "id": "1q4mQ9Z_wNSQ"
      },
      "source": [
        "__Part ii)__\n",
        "\n",
        "* The plot of the three vectors is created using the __plt.quiver()__ function"
      ]
    },
    {
      "cell_type": "code",
      "execution_count": null,
      "metadata": {
        "colab": {
          "base_uri": "https://localhost:8080/",
          "height": 519
        },
        "id": "ZjRDciL0wDq8",
        "outputId": "46a4055d-7851-4192-8a2b-a189b0ec784e"
      },
      "outputs": [
        {
          "data": {
            "text/plain": [
              "<matplotlib.legend.Legend at 0x7fe40472ae50>"
            ]
          },
          "execution_count": 56,
          "metadata": {},
          "output_type": "execute_result"
        },
        {
          "data": {
            "image/png": "[encoded data removed]",
            "text/plain": [
              "<Figure size 864x576 with 1 Axes>"
            ]
          },
          "metadata": {
            "needs_background": "light"
          },
          "output_type": "display_data"
        }
      ],
      "source": [
        "plt.figure(figsize=(12 , 8))\n",
        "\n",
        "plt.quiver(0, 0, u[0], u[1], color = 'red' , label='$\\\\vec{u}$',scale_units='xy',scale=1,angles='xy')\n",
        "plt.quiver(0, 0, v[0], v[1], color = 'blue' , label='$\\mathbf{M}.\\\\vec{u}$',scale_units='xy',scale=1,angles='xy')\n",
        "plt.quiver(0, 0, w[0], w[1], color = 'k' , label='$\\mathbf{R}.\\\\vec{u}$',scale_units='xy',scale=1,angles='xy')\n",
        "\n",
        "\n",
        "plt.xlabel('x')\n",
        "plt.ylabel('y')\n",
        "\n",
        "plt.xlim(-5,14)\n",
        "plt.ylim(0,10)\n",
        "\n",
        "plt.legend(loc='upper left')"
      ]
    },
    {
      "cell_type": "code",
      "execution_count": null,
      "metadata": {
        "id": "bn7ioprCyjat"
      },
      "outputs": [],
      "source": []
    },
    {
      "cell_type": "markdown",
      "metadata": {
        "id": "xxGDsxuY9c4F"
      },
      "source": [
        "## _Exercise_ 1\n",
        "\n",
        "Given the matrices\n",
        "$$\n",
        "\\mathbf{A} = \n",
        "\\begin{bmatrix}\n",
        "2 & -4 \\\\ 1 & 3\n",
        "\\end{bmatrix}\n",
        "\\qquad \n",
        "\\mathbf{B}\n",
        "=\n",
        "\\begin{bmatrix}\n",
        "3 & 2 \\\\ -2 & 3\n",
        "\\end{bmatrix}\n",
        "$$\n",
        "and the vector \n",
        "$$\n",
        "\\vec{p} = \n",
        "\\begin{bmatrix}\n",
        "-1 \\\\ 3\n",
        "\\end{bmatrix}\n",
        "$$\n",
        "asnwer the following:\n",
        "\n",
        "\n",
        "\n",
        "__i)__ Find the vectors $\\vec{u}=\\mathbf{A}.\\vec{p}$ and $\\vec{v}=\\mathbf{B}.\\vec{p}$\n",
        "\n",
        "__ii)__ Now find the vectors $\\mathbf{B}.\\vec{u}$ and $\\mathbf{A}.\\vec{v}$\n",
        "\n",
        "__iii)__ Use __==__ to cheeck if $\\mathbf{B}.\\vec{u} = \\mathbf{A}.\\vec{v}$\n",
        "\n",
        "__iv)__ Plot the vectors $\\mathbf{B}.\\vec{u}$ and $\\mathbf{A}.\\vec{v}$. \n",
        "\n",
        "\\\\\n",
        "\n",
        "__NOTE:__ This means you are really plotting $\\mathbf{BA}.\\vec{p}$ and $\\mathbf{AB}.\\vec{p}$, they should not be the same vector. This follows from the fact that the matrix products $\\mathbf{AB}$ and $\\mathbf{BA}$ are not the same matrix\n"
      ]
    },
    {
      "cell_type": "code",
      "execution_count": null,
      "metadata": {
        "id": "llhn4_ZD-35s"
      },
      "outputs": [],
      "source": []
    },
    {
      "cell_type": "code",
      "execution_count": null,
      "metadata": {
        "id": "F2tokhN__3BB"
      },
      "outputs": [],
      "source": []
    },
    {
      "cell_type": "code",
      "execution_count": null,
      "metadata": {
        "id": "2ZZDeQG3_3Dg"
      },
      "outputs": [],
      "source": []
    },
    {
      "cell_type": "code",
      "execution_count": null,
      "metadata": {
        "id": "gojmfdvQ_3GM"
      },
      "outputs": [],
      "source": []
    },
    {
      "cell_type": "code",
      "execution_count": null,
      "metadata": {
        "id": "KwRaWOts_3Ik"
      },
      "outputs": [],
      "source": []
    },
    {
      "cell_type": "code",
      "execution_count": null,
      "metadata": {
        "id": "WLYlG7Dd_3K1"
      },
      "outputs": [],
      "source": []
    },
    {
      "cell_type": "markdown",
      "metadata": {
        "id": "gB3TqH0fPRXL"
      },
      "source": [
        "---"
      ]
    },
    {
      "cell_type": "markdown",
      "metadata": {
        "id": "PYKzObaXF4VQ"
      },
      "source": [
        "# Item 2 - Eigenvalues of a matrix\n",
        "\n",
        "* Given a matrix\n",
        "$$\n",
        "\\mathbf{M} = \n",
        "\\begin{bmatrix}\n",
        " a & b \\\\ c & d\n",
        "\\end{bmatrix}\n",
        "$$\n",
        "the __characteristic polynomial (C.P.)__ of this matrix is given by the determinant\n",
        "$$\n",
        "p(\\lambda) = \n",
        "\\begin{Vmatrix}\n",
        " a - \\lambda & b \\\\ c & d - \\lambda\n",
        "\\end{Vmatrix}\n",
        "$$\n",
        "\n",
        "\\\\\n",
        "\n",
        "* The __eigenvalues__ of the matrix $M$ are the roots of this polynomial, i.e. the solutions of $p(\\lambda) = 0$\n",
        "\n",
        "\\\\\n",
        "\n",
        "* While __numpy__ does not deal directly with symbolic representations of polynomials, we can still use the function __np.poly()__ to construct the characteristic polynomial of a matrix in terms of the coefficients of that polynomial"
      ]
    },
    {
      "cell_type": "markdown",
      "metadata": {
        "id": "DCuNZR9gHSGM"
      },
      "source": [
        "## __Example__ 2\n",
        "\n",
        "__i)__ Given the matrix\n",
        "$$\n",
        "J = \n",
        "\\begin{bmatrix}\n",
        " 2 & -4 \\\\ 3 & 5\n",
        "\\end{bmatrix}\n",
        "$$\n",
        "find the characteristic ploynomial of __J__ using the function __np.poly()__\n",
        "\n",
        "__NOTE:__ The characteristic polynomial is \n",
        "$$\n",
        "p(\\lambda) = \n",
        "\\begin{bmatrix}\n",
        "2 - \\lambda & -4 \\\\ 3 & 5 - \\lambda\n",
        "\\end{bmatrix}\n",
        " = (2-\\lambda)(5-\\lambda) -(-4)(3) = \\lambda^2 - 7\\lambda + 22\n",
        "$$\n",
        "The __coefficients__ of this polynomial are __(1, -7, 22)__\n",
        "\n",
        "\\\\\n",
        "\n",
        "__ii)__ Now use the function __np.solve()__ to find the solutions of this polynomial, in other words you will also find the __eigenvalues__ of __J__\n",
        "\n",
        "\\\\\n",
        "\n"
      ]
    },
    {
      "cell_type": "markdown",
      "metadata": {
        "id": "ADC3iv7GIuO0"
      },
      "source": [
        "### __Solution__\n",
        "\n",
        "__i)__  First we define the matrix __J__ using the function __M2()__"
      ]
    },
    {
      "cell_type": "code",
      "execution_count": null,
      "metadata": {
        "colab": {
          "base_uri": "https://localhost:8080/"
        },
        "id": "ea3Nz5P6GZ00",
        "outputId": "e47375be-1c5f-4bef-87a5-5567f1bb3096"
      },
      "outputs": [
        {
          "data": {
            "text/plain": [
              "array([[ 2, -4],\n",
              "       [ 3,  5]])"
            ]
          },
          "execution_count": 50,
          "metadata": {},
          "output_type": "execute_result"
        }
      ],
      "source": [
        "J = M2(2, -4, 3, 5)\n",
        "J"
      ]
    },
    {
      "cell_type": "markdown",
      "metadata": {
        "id": "rVa8vIwgI8dt"
      },
      "source": [
        "* The __coefficients__ of the characteristic polynomial are now given by "
      ]
    },
    {
      "cell_type": "code",
      "execution_count": null,
      "metadata": {
        "colab": {
          "base_uri": "https://localhost:8080/"
        },
        "id": "OWwda90jH-18",
        "outputId": "9b011316-9802-493c-b9da-dd5f8728b5ba"
      },
      "outputs": [
        {
          "data": {
            "text/plain": [
              "array([ 1., -7., 22.])"
            ]
          },
          "execution_count": 51,
          "metadata": {},
          "output_type": "execute_result"
        }
      ],
      "source": [
        "PJ = np.poly(J)\n",
        "PJ"
      ]
    },
    {
      "cell_type": "code",
      "execution_count": null,
      "metadata": {
        "id": "70BbL3JvJOrc"
      },
      "outputs": [],
      "source": []
    },
    {
      "cell_type": "markdown",
      "metadata": {
        "id": "Iog7FXoyJtD-"
      },
      "source": [
        "__ii)__ The solutions (roots) of the polynomial are \n",
        "$$\n",
        "\\lambda = \\frac{-(-7) \\pm \\sqrt{(-7)^2 -4 (1)(22)}}{2} = \\frac{7 \\pm \\sqrt{-29}}{2}\n",
        "$$\n",
        "__NOTE:__ These are __complex__ roots since we are taking the square root of a negative number, which is fairly common with matrices\n",
        "\n",
        "* To calculate these roots directly, we can use the __np.root()__ function to calculate the roots of the polynomial with coefficients __PJ__ which applies the quadratic formula directly to __(1, -7, 22)__"
      ]
    },
    {
      "cell_type": "code",
      "execution_count": null,
      "metadata": {
        "colab": {
          "base_uri": "https://localhost:8080/"
        },
        "id": "t3_Rx5wzLFWo",
        "outputId": "766cfe87-da02-47a1-cc00-e42dafa03fd3"
      },
      "outputs": [
        {
          "data": {
            "text/plain": [
              "array([3.5+3.122499j, 3.5-3.122499j])"
            ]
          },
          "execution_count": 53,
          "metadata": {},
          "output_type": "execute_result"
        }
      ],
      "source": [
        "np.roots(PJ)"
      ]
    },
    {
      "cell_type": "markdown",
      "metadata": {
        "id": "zlXqlPQrKstE"
      },
      "source": [
        "* The eigenvalues of __J__ are \n",
        "$$\n",
        "\\lambda_{1} = 3.5+3.122499j \\qquad \\lambda_{2} = 3.5-3.122499j \n",
        "$$\n",
        "where $j=\\sqrt{-1}$ is the __imaginary unit__ i.e. $j^2 =-1$\n",
        "\n",
        "\n",
        "* This means the matrix __J__ has no real-valued __eigenvectors__\n",
        "\n",
        "\n",
        "* Another way to understand this is the matrix __J__ will __always__ rotate any real-valued vector $\\vec{u}$, it will never just stretch it like the matrices & eigenvectors we saw during lectures"
      ]
    },
    {
      "cell_type": "markdown",
      "metadata": {
        "id": "aVULZXzBL6js"
      },
      "source": [
        "## _Exercise_ 2\n",
        "\n",
        "Given the rotation matrix\n",
        "$$\n",
        "\\mathbf{K} \n",
        "= \n",
        "\\begin{bmatrix}\n",
        "\\cos(35.5) & -\\sin(35.5) \\\\ \\sin(35.5) & \\cos(35.5)\n",
        "\\end{bmatrix}\n",
        "$$\n",
        "which rotates a vector by $35.5^\\circ$, answer the following:\n",
        "\n",
        "__i)__ Use the function __Rtn()__ to define the matrix __K__ above\n",
        "\n",
        "__ii)__ Find the __characteristic polynomial__ of __K__\n",
        "\n",
        "__iii)__ Find the roots of this characteristic polynomial i.e. the eigenvalues of __K__\n",
        "\n",
        "\\\\\n",
        "\n",
        "__NOTE:__ You should find the eigenvalues of __K__ are complex numbers, meaning __K__ will always rotate a real vector, as it should since it is a rotation matrix. Every rotation matrix has complex eigenvalues"
      ]
    },
    {
      "cell_type": "code",
      "execution_count": null,
      "metadata": {
        "id": "FkgWYErmObO1"
      },
      "outputs": [],
      "source": []
    },
    {
      "cell_type": "code",
      "execution_count": null,
      "metadata": {
        "id": "PHlpWLY9PI-K"
      },
      "outputs": [],
      "source": []
    },
    {
      "cell_type": "code",
      "execution_count": null,
      "metadata": {
        "id": "IpVXccVCPI7h"
      },
      "outputs": [],
      "source": []
    },
    {
      "cell_type": "code",
      "execution_count": null,
      "metadata": {
        "id": "FV0iMXMcPI5Z"
      },
      "outputs": [],
      "source": []
    },
    {
      "cell_type": "code",
      "execution_count": null,
      "metadata": {
        "id": "ucEOLeCJPI2q"
      },
      "outputs": [],
      "source": []
    },
    {
      "cell_type": "markdown",
      "metadata": {
        "id": "XdMaNQ1lPVY7"
      },
      "source": [
        "---"
      ]
    },
    {
      "cell_type": "markdown",
      "metadata": {
        "id": "SNaZFzMhPJ4i"
      },
      "source": [
        "# Item 3 - Eigenvectors of a Matrix\n",
        "\n",
        "* While __np.poly()__ and __np.roots()__ are useful functions when we are looking for the eigenvalues of a matrix, they are not helpful when we want the corresponding eigenvectors\n",
        "\n",
        "\\\\\n",
        "\n",
        "* The __eigenvalues__ and __eigenvectors__ of a matrix can all be calculated directly using the __scipy__ (__sci__entific __py__thon) function __eig()__\n",
        "\n",
        "\\\\\n",
        "\n",
        "* This function will calculate the eigenvalues and eigenvectors in one large array, so the important thing to understand is how to extract each of them separately using the __index [ ]__ of the output"
      ]
    },
    {
      "cell_type": "markdown",
      "metadata": {
        "id": "6_O0JbY7Rk70"
      },
      "source": [
        "## __Example__ 3\n",
        "\n",
        "Given the matrix\n",
        "$$\n",
        "\\mathbf{H} = \n",
        "\\begin{bmatrix}\n",
        "4 & 1 \\\\ 2 & 5\n",
        "\\end{bmatrix}\n",
        "$$\n",
        "answer the following:\n",
        "\n",
        "__i)__ Use the function __M2()__ to create this matrix\n",
        "\n",
        "\n",
        "__ii)__ Use the function __eig()__ to find the eigenvalues and eigenvectors of the matrix $\\mathbf{H}$\n",
        "\n",
        "__iii)__ Use the index notation __[ ]__ to extract each of the eigenvalues and eigenvectors separately. Check that the eigenvectors have __norm__ 1, these are called __normalized eigenvectors__\n",
        "\n",
        "\n",
        "__iv)__ Check the __truth values__ of the equations \n",
        "$$\n",
        "\\mathbf{H}.\\vec{u} = \\lambda\\vec{u}\n",
        "$$\n",
        "for each of the eigenvalues and corresponding eigenvectors\n",
        "\n",
        "\n",
        "__v)__ Plot each of the eigenvectors $\\vec{u}$ and $\\vec{v}$ and the vectors $\\mathbf{H}.\\vec{u}$ and $\\mathbf{H}.\\vec{v}$  using __plt.quiver()__"
      ]
    },
    {
      "cell_type": "markdown",
      "metadata": {
        "id": "RM0uxhGKS33w"
      },
      "source": [
        "### __Solution__\n",
        "\n",
        "__i)__ The matrix is given by"
      ]
    },
    {
      "cell_type": "code",
      "execution_count": null,
      "metadata": {
        "colab": {
          "base_uri": "https://localhost:8080/"
        },
        "id": "kUqgqjzZRjKk",
        "outputId": "04fcf1a8-da1a-4cb0-9749-eccac7ebc387"
      },
      "outputs": [
        {
          "data": {
            "text/plain": [
              "array([[4, 1],\n",
              "       [2, 5]])"
            ]
          },
          "execution_count": 59,
          "metadata": {},
          "output_type": "execute_result"
        }
      ],
      "source": [
        "H = M2(4, 1, 2, 5)\n",
        "H"
      ]
    },
    {
      "cell_type": "markdown",
      "metadata": {
        "id": "yMkRL7HGTEfa"
      },
      "source": [
        "__ii)__ The eigenvalues and eigenvectors are given by"
      ]
    },
    {
      "cell_type": "code",
      "execution_count": null,
      "metadata": {
        "colab": {
          "base_uri": "https://localhost:8080/"
        },
        "id": "4DLjkIS2TB_F",
        "outputId": "8a2a9afc-48fe-4efa-ef0d-2da263fae394"
      },
      "outputs": [
        {
          "data": {
            "text/plain": [
              "(array([3.+0.j, 6.+0.j]), array([[-0.70710678, -0.4472136 ],\n",
              "        [ 0.70710678, -0.89442719]]))"
            ]
          },
          "execution_count": 75,
          "metadata": {},
          "output_type": "execute_result"
        }
      ],
      "source": [
        "EH=eig(H)\n",
        "EH"
      ]
    },
    {
      "cell_type": "markdown",
      "metadata": {
        "id": "kiCDlh-GT2gd"
      },
      "source": [
        "__iii)__\n",
        "\n",
        "* We see that we have an array of arrays.\n",
        "\n",
        "\n",
        "* The __first array__ is the list of __eigenvalues__, which we extract as follows"
      ]
    },
    {
      "cell_type": "code",
      "execution_count": null,
      "metadata": {
        "colab": {
          "base_uri": "https://localhost:8080/"
        },
        "id": "IcJkYm1BTJ9z",
        "outputId": "1e5c28ba-d1be-41da-ed6b-cbe819115d52"
      },
      "outputs": [
        {
          "data": {
            "text/plain": [
              "array([3.+0.j, 6.+0.j])"
            ]
          },
          "execution_count": 76,
          "metadata": {},
          "output_type": "execute_result"
        }
      ],
      "source": [
        "EH[0]"
      ]
    },
    {
      "cell_type": "markdown",
      "metadata": {
        "id": "IsbHbBjUUOEg"
      },
      "source": [
        "* We can extract the individual eigenvalues as follows"
      ]
    },
    {
      "cell_type": "code",
      "execution_count": null,
      "metadata": {
        "id": "mXB_3-1SUJPN"
      },
      "outputs": [],
      "source": [
        "l1,l2=EH[0]"
      ]
    },
    {
      "cell_type": "code",
      "execution_count": null,
      "metadata": {
        "colab": {
          "base_uri": "https://localhost:8080/"
        },
        "id": "hxy0s-CWUXhc",
        "outputId": "065a9f7a-1e70-49ef-9095-1fe8f7ec1107"
      },
      "outputs": [
        {
          "data": {
            "text/plain": [
              "(3+0j)"
            ]
          },
          "execution_count": 78,
          "metadata": {},
          "output_type": "execute_result"
        }
      ],
      "source": [
        "l1"
      ]
    },
    {
      "cell_type": "code",
      "execution_count": null,
      "metadata": {
        "colab": {
          "base_uri": "https://localhost:8080/"
        },
        "id": "kKOkG-oFUmvk",
        "outputId": "d6427d3f-41fa-40ba-d329-12a6e5b2ec45"
      },
      "outputs": [
        {
          "data": {
            "text/plain": [
              "(6+0j)"
            ]
          },
          "execution_count": 79,
          "metadata": {},
          "output_type": "execute_result"
        }
      ],
      "source": [
        "l2"
      ]
    },
    {
      "cell_type": "markdown",
      "metadata": {
        "id": "kYAwvazbU1OU"
      },
      "source": [
        "* The __second array__ is the __eigenvector__ corresponding to __l1__ and is extracted as follows"
      ]
    },
    {
      "cell_type": "code",
      "execution_count": null,
      "metadata": {
        "colab": {
          "base_uri": "https://localhost:8080/"
        },
        "id": "xBMXLO_5UoBU",
        "outputId": "60031d5a-e6b0-4d4a-e65e-b90aad29a48e"
      },
      "outputs": [
        {
          "data": {
            "text/plain": [
              "array([-0.70710678,  0.70710678])"
            ]
          },
          "execution_count": 88,
          "metadata": {},
          "output_type": "execute_result"
        }
      ],
      "source": [
        "u=EH[1][:,0]\n",
        "u"
      ]
    },
    {
      "cell_type": "markdown",
      "metadata": {
        "id": "X7jXMedbWH-X"
      },
      "source": [
        "* __EXPLANATION:__ The indices in __EH[1][:,0]__  mean the following -\n",
        "\n",
        "    * __EH[1]__ returns the __2x2__ matrix which is made up of the two eigenvectors:"
      ]
    },
    {
      "cell_type": "code",
      "execution_count": null,
      "metadata": {
        "colab": {
          "base_uri": "https://localhost:8080/"
        },
        "id": "XU5nPP2WWh0g",
        "outputId": "82ae25a0-b235-43a5-ccae-180e269d7b53"
      },
      "outputs": [
        {
          "data": {
            "text/plain": [
              "array([[-0.70710678, -0.4472136 ],\n",
              "       [ 0.70710678, -0.89442719]])"
            ]
          },
          "execution_count": 91,
          "metadata": {},
          "output_type": "execute_result"
        }
      ],
      "source": [
        "EH[1]"
      ]
    },
    {
      "cell_type": "markdown",
      "metadata": {
        "id": "J5E4IfWmWkCO"
      },
      "source": [
        "* The first __column__ of this __2x2__ matrix is the first eigenvector with eigenvalue __l1__\n",
        "\n",
        "* We extract it using __[:,0]__ where __0__ indicate we use the first column and __:__ means use all entries in this column, so this eigenvector is"
      ]
    },
    {
      "cell_type": "code",
      "execution_count": null,
      "metadata": {
        "colab": {
          "base_uri": "https://localhost:8080/"
        },
        "id": "yh9_xvZOXDrs",
        "outputId": "6eea8a65-9bc9-4052-a423-fc9e1c926e62"
      },
      "outputs": [
        {
          "data": {
            "text/plain": [
              "array([-0.70710678,  0.70710678])"
            ]
          },
          "execution_count": 92,
          "metadata": {},
          "output_type": "execute_result"
        }
      ],
      "source": [
        "u = EH[1][:,0]\n",
        "u"
      ]
    },
    {
      "cell_type": "markdown",
      "metadata": {
        "id": "I6JuTlgvVOwl"
      },
      "source": [
        "* The remaining __eigenvector__ corresponding to the eigenvalue __l2__ is similarly given by"
      ]
    },
    {
      "cell_type": "code",
      "execution_count": null,
      "metadata": {
        "colab": {
          "base_uri": "https://localhost:8080/"
        },
        "id": "Hu970j3wVBOV",
        "outputId": "acb1b059-67eb-4ca9-b497-59f232970112"
      },
      "outputs": [
        {
          "data": {
            "text/plain": [
              "array([-0.4472136 , -0.89442719])"
            ]
          },
          "execution_count": 89,
          "metadata": {},
          "output_type": "execute_result"
        }
      ],
      "source": [
        "v=EH[1][:,1]\n",
        "v"
      ]
    },
    {
      "cell_type": "markdown",
      "metadata": {
        "id": "EpPcKgySVlCq"
      },
      "source": [
        "* The norms of these eigenvectors are "
      ]
    },
    {
      "cell_type": "code",
      "execution_count": null,
      "metadata": {
        "colab": {
          "base_uri": "https://localhost:8080/"
        },
        "id": "Olt5s5qfVWDE",
        "outputId": "8cd1545b-0332-4a14-d9de-83a0baee46a1"
      },
      "outputs": [
        {
          "data": {
            "text/plain": [
              "(0.9999999999999999, 0.9999999999999999)"
            ]
          },
          "execution_count": 90,
          "metadata": {},
          "output_type": "execute_result"
        }
      ],
      "source": [
        "norm(u) ,norm(v)"
      ]
    },
    {
      "cell_type": "markdown",
      "metadata": {
        "id": "6FvUeov2WG5Q"
      },
      "source": [
        "* The function __eig()__ always returns normalised eigenvectors  "
      ]
    },
    {
      "cell_type": "markdown",
      "metadata": {
        "id": "MqIcTMfdXpXo"
      },
      "source": [
        "__iii)__ We check the eigenvalue equations are true using __==__"
      ]
    },
    {
      "cell_type": "code",
      "execution_count": null,
      "metadata": {
        "colab": {
          "base_uri": "https://localhost:8080/"
        },
        "id": "itJsk2jyVqxz",
        "outputId": "3511e677-eb30-4a16-9548-399952beb03f"
      },
      "outputs": [
        {
          "data": {
            "text/plain": [
              "array([ True,  True])"
            ]
          },
          "execution_count": 94,
          "metadata": {},
          "output_type": "execute_result"
        }
      ],
      "source": [
        "H.dot(u)==l1*u"
      ]
    },
    {
      "cell_type": "code",
      "execution_count": null,
      "metadata": {
        "colab": {
          "base_uri": "https://localhost:8080/"
        },
        "id": "IuJuG_nJXy2E",
        "outputId": "31e9115d-5fb9-4418-8341-a7dc828bcc8f"
      },
      "outputs": [
        {
          "data": {
            "text/plain": [
              "array([ True,  True])"
            ]
          },
          "execution_count": 95,
          "metadata": {},
          "output_type": "execute_result"
        }
      ],
      "source": [
        "H.dot(v)==l2*v"
      ]
    },
    {
      "cell_type": "markdown",
      "metadata": {
        "id": "BGbMRyi8Yua1"
      },
      "source": [
        "__v)__ \n",
        "\n",
        "* To make things easier to type we will use the following notation"
      ]
    },
    {
      "cell_type": "code",
      "execution_count": null,
      "metadata": {
        "id": "QyC4RnVzY42c"
      },
      "outputs": [],
      "source": [
        "Hu=H.dot(u)\n",
        "Hv=H.dot(v)"
      ]
    },
    {
      "cell_type": "code",
      "execution_count": null,
      "metadata": {
        "colab": {
          "base_uri": "https://localhost:8080/",
          "height": 301
        },
        "id": "h9VjWgMPX6yM",
        "outputId": "84a54116-b9e0-410c-b7ac-e165501d6674"
      },
      "outputs": [
        {
          "data": {
            "text/plain": [
              "<matplotlib.legend.Legend at 0x7fe40402fe10>"
            ]
          },
          "execution_count": 111,
          "metadata": {},
          "output_type": "execute_result"
        },
        {
          "data": {
            "image/png": "[encoded data removed]",
            "text/plain": [
              "<Figure size 432x288 with 1 Axes>"
            ]
          },
          "metadata": {
            "needs_background": "light"
          },
          "output_type": "display_data"
        }
      ],
      "source": [
        "plt.quiver(0, 0, u[0], u[1], scale_units='xy', angles='xy', scale=1, label='$\\\\vec{u}$',color='red')\n",
        "plt.quiver(0, 0, Hu[0], Hu[1], scale_units='xy', angles='xy', scale=1, label='$\\\\mathbf{H}.\\\\vec{u}$',color='red',alpha=0.25)\n",
        "\n",
        "plt.quiver(0, 0, v[0], v[1], scale_units='xy', angles='xy', scale=1, label='$\\\\vec{u}$',color='blue')\n",
        "plt.quiver(0, 0, Hv[0], Hv[1], scale_units='xy', angles='xy', scale=1, label='$\\\\mathbf{H}.\\\\vec{u}$',color='blue',alpha=0.25)\n",
        "\n",
        "plt.xlim(-3,1)\n",
        "plt.ylim(-6,4)\n",
        "\n",
        "plt.xlabel('x')\n",
        "plt.ylabel('y')\n",
        "\n",
        "plt.legend(loc='upper right', ncol=2)"
      ]
    },
    {
      "cell_type": "markdown",
      "metadata": {
        "id": "1gonEkndaRfQ"
      },
      "source": [
        "* As we can see from the plot, __H__ just stretches the eigenvectors __u__ and __v__ as expected"
      ]
    },
    {
      "cell_type": "code",
      "execution_count": null,
      "metadata": {
        "id": "rx9rZj1oZYgd"
      },
      "outputs": [],
      "source": []
    },
    {
      "cell_type": "markdown",
      "metadata": {
        "id": "gjm_f7R1avVp"
      },
      "source": [
        "## _Exercise_ 3\n",
        "\n",
        "Given the matrix\n",
        "$$\n",
        "\\mathbf{U} = \n",
        "\\begin{bmatrix}\n",
        "3 & -1 \\\\ -1 & 5\n",
        "\\end{bmatrix}\n",
        "$$\n",
        "answer the following:\n",
        "\n",
        "__i)__ Use the function __M2()__ to create this matrix\n",
        "\n",
        "\n",
        "__ii)__ Use the function __eig()__ to find the eigenvalues and eigenvectors of the matrix $\\mathbf{U}$\n",
        "\n",
        "__iii)__ Use the index notation __[ ]__ to extract each of the eigenvalues and eigenvectors separately. Check that the eigenvectors have __norm__ 1, these are called __normalised eigenvectors__\n",
        "\n",
        "\n",
        "__iv)__ Check the __truth values__ of the equations \n",
        "$$\n",
        "\\mathbf{U}.\\vec{u} = \\lambda\\vec{u}\n",
        "$$\n",
        "for each of the eigenvalues and corresponding eigenvectors\n",
        "\n",
        "\n",
        "__v)__ Plot each of the eigenvectors $\\vec{u}$ and $\\vec{v}$ and the vectors $\\mathbf{U}.\\vec{u}$ and $\\mathbf{U}.\\vec{v}$  using __plt.quiver()__"
      ]
    },
    {
      "cell_type": "code",
      "execution_count": null,
      "metadata": {
        "id": "9gra-F06bITM"
      },
      "outputs": [],
      "source": []
    },
    {
      "cell_type": "code",
      "execution_count": null,
      "metadata": {
        "id": "Wllws6NibRXJ"
      },
      "outputs": [],
      "source": []
    },
    {
      "cell_type": "code",
      "execution_count": null,
      "metadata": {
        "id": "SPWF1ZPhbRU6"
      },
      "outputs": [],
      "source": []
    },
    {
      "cell_type": "code",
      "execution_count": null,
      "metadata": {
        "id": "ATj9vh0JbRSJ"
      },
      "outputs": [],
      "source": []
    },
    {
      "cell_type": "code",
      "execution_count": null,
      "metadata": {
        "id": "i8nQgF_hbRQA"
      },
      "outputs": [],
      "source": []
    },
    {
      "cell_type": "code",
      "execution_count": null,
      "metadata": {
        "id": "IX-q5tc1bRNs"
      },
      "outputs": [],
      "source": []
    },
    {
      "cell_type": "code",
      "execution_count": null,
      "metadata": {
        "id": "1uMa-B98bRK8"
      },
      "outputs": [],
      "source": []
    }
  ],
  "metadata": {
    "anaconda-cloud": {},
    "colab": {
      "collapsed_sections": [],
      "provenance": [],
      "include_colab_link": true
    },
    "kernelspec": {
      "display_name": "Python 3 (ipykernel)",
      "language": "python",
      "name": "python3"
    },
    "language_info": {
      "codemirror_mode": {
        "name": "ipython",
        "version": 3
      },
      "file_extension": ".py",
      "mimetype": "text/x-python",
      "name": "python",
      "nbconvert_exporter": "python",
      "pygments_lexer": "ipython3",
      "version": "3.9.12"
    }
  },
  "nbformat": 4,
  "nbformat_minor": 0
}