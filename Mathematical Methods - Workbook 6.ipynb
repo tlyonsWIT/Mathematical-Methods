{
  "cells": [
    {
      "cell_type": "markdown",
      "metadata": {
        "id": "view-in-github",
        "colab_type": "text"
      },
      "source": [
        "<a href=\"https://colab.research.google.com/github/tlyonsWIT/Mathematical-Methods/blob/main/Mathematical%20Methods%20-%20Workbook%206.ipynb\" target=\"_parent\"><img src=\"https://colab.research.google.com/assets/colab-badge.svg\" alt=\"Open In Colab\"/></a>"
      ]
    },
    {
      "cell_type": "markdown",
      "metadata": {
        "collapsed": true,
        "id": "c_3_zOKaqFM_"
      },
      "source": [
        "# Mathematical Methods - Python Workbook 6\n",
        "\n",
        "## B Sc (H) Applied Computing - Year 2  \n",
        "\n",
        "# South East Technological University - Waterford\n",
        "\n",
        "---\n",
        " "
      ]
    },
    {
      "cell_type": "markdown",
      "metadata": {
        "id": "01mAAaYV5WAM"
      },
      "source": [
        "# Topic 3 - Matrices, eigenvalues and eigenvectors\n",
        "\n",
        "## Items Covered:\n",
        "\n",
        "1. The __eigenvalues__ of $3\\times3$ matrices\n",
        "\n",
        "2. The __eigenvectors__ of $3\\times3$ matrices\n",
        "\n",
        "3. The __exponential__ of $2\\times2$ matrices\n"
      ]
    },
    {
      "cell_type": "markdown",
      "metadata": {
        "id": "mmWPdMeCqFNH"
      },
      "source": [
        "## Calling the python libraries and functions\n",
        "\n",
        "\n",
        "* In the cell below the necessary Python libraries and functions are imported, which will be needed for the current work book\n"
      ]
    },
    {
      "cell_type": "code",
      "execution_count": null,
      "metadata": {
        "id": "7Qk8SxWnqFNJ"
      },
      "outputs": [],
      "source": [
        "import matplotlib.pyplot as plt  ## Library of functions for 2D plotting\n",
        "import numpy as np ## Library of function for numerical work\n",
        "\n",
        "from mpl_toolkits.mplot3d import Axes3D # Import the functions for creating 3D plots\n",
        "\n",
        "from ipywidgets import widgets, interact, interactive, fixed, interact_manual # Import widgets for interactive plots\n",
        "from IPython.display import clear_output # A function to clear interactive plots before each update\n",
        "\n",
        "from matplotlib import animation # A function to create an animation\n",
        "from IPython.display import HTML # For creating HTML animation whcih can be displayed directly in the browser / Colab notebook\n",
        "\n",
        "from scipy.linalg import eig  # Import the scipy function for calculating eigenvalues and eigenvectors"
      ]
    },
    {
      "cell_type": "markdown",
      "metadata": {
        "id": "-AxgXKv9mDvM"
      },
      "source": [
        "## Some useful function definitions\n",
        "\n",
        "### __v2d(a,b)__\n",
        "\n",
        "* A function for creating 2D-vectors"
      ]
    },
    {
      "cell_type": "code",
      "execution_count": null,
      "metadata": {
        "id": "LizJ0Uv6mRwU"
      },
      "outputs": [],
      "source": [
        "def v2d(a,b):\n",
        "    return np.array([a,b])"
      ]
    },
    {
      "cell_type": "markdown",
      "source": [
        "### __M2(a,b,c,d)__\n",
        "A function to create a __2x2 matrix__ of the form\n",
        "$$\n",
        "\\begin{bmatrix}\n",
        "a & b \\\\ c & d\n",
        "\\end{bmatrix}\n",
        "$$"
      ],
      "metadata": {
        "id": "P_0pAeWrQMkY"
      }
    },
    {
      "cell_type": "code",
      "source": [
        "def M2(a,b,c,d):\n",
        "    return np.array([[a,b],[c,d]])"
      ],
      "metadata": {
        "id": "GcrFsCmFem_u"
      },
      "execution_count": null,
      "outputs": []
    },
    {
      "cell_type": "markdown",
      "metadata": {
        "id": "BO3oRjC-mYxc"
      },
      "source": [
        "### __M3(a,b,c,d,e,f,g,h,i)__\n",
        "A function to create a __3x3 matrix__ of the form\n",
        "$$\n",
        "\\begin{bmatrix}\n",
        "a & b & c\\\\ d & e & f \\\\ g & h & i\n",
        "\\end{bmatrix}\n",
        "$$"
      ]
    },
    {
      "cell_type": "code",
      "execution_count": null,
      "metadata": {
        "id": "d07pGZucmuPw"
      },
      "outputs": [],
      "source": [
        "def M3(a,b,c,d,e,f,g,h,i):\n",
        "    return np.array([[a , b, c] , [d , e , f] , [g , h, i]])"
      ]
    },
    {
      "cell_type": "markdown",
      "metadata": {
        "id": "YhxuRyUeTR3V"
      },
      "source": [
        "__norm(u)__\n",
        "\n",
        "A function to calculate the norm of a 2D vector $\\vec{u}$"
      ]
    },
    {
      "cell_type": "code",
      "execution_count": null,
      "metadata": {
        "id": "T4-c4tqWTdF0"
      },
      "outputs": [],
      "source": [
        "def norm(u):\n",
        "    return np.sqrt(u.dot(u))"
      ]
    },
    {
      "cell_type": "markdown",
      "metadata": {
        "id": "PYKzObaXF4VQ"
      },
      "source": [
        "# Item 2 - Eigenvalues of a matrix\n",
        "\n",
        "* Given a matrix\n",
        "$$\n",
        "\\mathbf{M} = \n",
        "\\begin{bmatrix}\n",
        " a & b & c\\\\ d & e & f \\\\ g & h & i\n",
        "\\end{bmatrix}\n",
        "$$\n",
        "the __characteristic polynomial (C.P.)__ of this matrix is given by the determinant\n",
        "$$\n",
        "p(\\lambda) = \n",
        "\\begin{Vmatrix}\n",
        " a - \\lambda & b & c\\\\ d & e - \\lambda & f \\\\ g & h & i - \\lambda\n",
        "\\end{Vmatrix}\n",
        "$$\n",
        "\n",
        "\\\\\n",
        "\n",
        "* The __eigenvalues__ of the matrix $M$ are the roots of this polynomial, i.e. the solutions of $p(\\lambda) = 0$\n",
        "\n",
        "\\\\\n",
        "\n",
        "* While __numpy__ does not deal directly with symbolic representations of polynomials, we can still use the function __np.poly()__ to construct the characteristic polynomial of a matrix in terms of the coefficients of that polynomial"
      ]
    },
    {
      "cell_type": "markdown",
      "metadata": {
        "id": "DCuNZR9gHSGM"
      },
      "source": [
        "## __Example__ 1\n",
        "\n",
        "__i)__ Given the matrix\n",
        "$$\n",
        "J = \n",
        "\\begin{bmatrix}\n",
        " 2 & -4 & 5 \\\\ 3 & 5 & 7 \\\\ -2 & 4 & 3\n",
        "\\end{bmatrix}\n",
        "$$\n",
        "find the characteristic ploynomial of __J__ using the function __np.poly()__\n",
        "\n",
        "\n",
        "\n",
        "__ii)__ Now use the function __np.solve()__ to find the solutions of this polynomial, in other words you will also find the __eigenvalues__ of __J__\n",
        "\n",
        "\\\\\n",
        "\n"
      ]
    },
    {
      "cell_type": "markdown",
      "metadata": {
        "id": "ADC3iv7GIuO0"
      },
      "source": [
        "### __Solution__\n",
        "\n",
        "__i)__  First we define the matrix __J__ using the function __M2()__"
      ]
    },
    {
      "cell_type": "code",
      "execution_count": null,
      "metadata": {
        "colab": {
          "base_uri": "https://localhost:8080/"
        },
        "id": "ea3Nz5P6GZ00",
        "outputId": "66df388a-217c-4d71-bdbd-d445000fbcd4"
      },
      "outputs": [
        {
          "output_type": "execute_result",
          "data": {
            "text/plain": [
              "array([[ 2, -4,  5],\n",
              "       [ 3,  5,  7],\n",
              "       [-2,  4,  3]])"
            ]
          },
          "metadata": {},
          "execution_count": 9
        }
      ],
      "source": [
        "J = M3(2, -4, 5, 3 , 5, 7, -2, 4, 3)\n",
        "J"
      ]
    },
    {
      "cell_type": "markdown",
      "metadata": {
        "id": "rVa8vIwgI8dt"
      },
      "source": [
        "* The __coefficients__ of the characteristic polynomial are now given by "
      ]
    },
    {
      "cell_type": "code",
      "execution_count": null,
      "metadata": {
        "colab": {
          "base_uri": "https://localhost:8080/"
        },
        "id": "OWwda90jH-18",
        "outputId": "468b5ba2-9f0f-4e6d-e3b9-b1f6eae58d7a"
      },
      "outputs": [
        {
          "output_type": "execute_result",
          "data": {
            "text/plain": [
              "array([   1.,  -10.,   25., -176.])"
            ]
          },
          "metadata": {},
          "execution_count": 10
        }
      ],
      "source": [
        "PJ = np.poly(J)\n",
        "PJ"
      ]
    },
    {
      "cell_type": "markdown",
      "source": [
        "__NOTE:__ This means the characteristic polynomial of __J__ is a __cubic__ polynomial given by\n",
        "$$\n",
        "1\\lambda^3 - 10 \\lambda^2 + 25\\lambda - 176 = 0\n",
        "$$"
      ],
      "metadata": {
        "id": "t-3XI-kwRibG"
      }
    },
    {
      "cell_type": "code",
      "execution_count": null,
      "metadata": {
        "id": "70BbL3JvJOrc"
      },
      "outputs": [],
      "source": []
    },
    {
      "cell_type": "markdown",
      "metadata": {
        "id": "Iog7FXoyJtD-"
      },
      "source": [
        "__ii)__ __Every__ cubic polynomial always has at least one real root. \n",
        "\n",
        "If it has complex roots, then it will have __two__ complex roots which are __complex cougates__ \n",
        "\n",
        "In the case of the polynomial __PJ__ above, we see that its roos one real and 2 complex conjugates, as shown below:"
      ]
    },
    {
      "cell_type": "code",
      "execution_count": null,
      "metadata": {
        "colab": {
          "base_uri": "https://localhost:8080/"
        },
        "id": "t3_Rx5wzLFWo",
        "outputId": "6beb9084-d419-476b-b18d-5d703d88abe8"
      },
      "outputs": [
        {
          "output_type": "execute_result",
          "data": {
            "text/plain": [
              "array([9.34075556+0.j        , 0.32962222+4.32822227j,\n",
              "       0.32962222-4.32822227j])"
            ]
          },
          "metadata": {},
          "execution_count": 11
        }
      ],
      "source": [
        "np.roots(PJ)"
      ]
    },
    {
      "cell_type": "markdown",
      "metadata": {
        "id": "aVULZXzBL6js"
      },
      "source": [
        "## _Exercise_ 1\n",
        "\n",
        "Given the matrix\n",
        "$$\n",
        "\\mathbf{K} \n",
        "= \n",
        "\\begin{bmatrix}\n",
        "1 & 0 & 1 \\\\ 0 & 2 & 0 \\\\ -1 & 0 & 1\n",
        "\\end{bmatrix}\n",
        "$$\n",
        "answer the following:\n",
        "\n",
        "__i)__ Use the function __M3()__ to define the matrix __K__ above\n",
        "\n",
        "__ii)__ Find the __characteristic polynomial__ of __K__\n",
        "\n",
        "__iii)__ Find the roots of this characteristic polynomial i.e. the eigenvalues of __K__\n"
      ]
    },
    {
      "cell_type": "code",
      "execution_count": null,
      "metadata": {
        "id": "FkgWYErmObO1"
      },
      "outputs": [],
      "source": []
    },
    {
      "cell_type": "code",
      "execution_count": null,
      "metadata": {
        "id": "PHlpWLY9PI-K"
      },
      "outputs": [],
      "source": []
    },
    {
      "cell_type": "code",
      "execution_count": null,
      "metadata": {
        "id": "IpVXccVCPI7h"
      },
      "outputs": [],
      "source": []
    },
    {
      "cell_type": "code",
      "execution_count": null,
      "metadata": {
        "id": "FV0iMXMcPI5Z"
      },
      "outputs": [],
      "source": []
    },
    {
      "cell_type": "code",
      "execution_count": null,
      "metadata": {
        "id": "ucEOLeCJPI2q"
      },
      "outputs": [],
      "source": []
    },
    {
      "cell_type": "markdown",
      "metadata": {
        "id": "XdMaNQ1lPVY7"
      },
      "source": [
        "---"
      ]
    },
    {
      "cell_type": "markdown",
      "metadata": {
        "id": "SNaZFzMhPJ4i"
      },
      "source": [
        "# Item 2 - Eigenvectors of a Matrix\n",
        "\n",
        "* While __np.poly()__ and __np.roots()__ are useful functions when we are looking for the eigenvalues of a matrix, they are not helpful when we want the corresponding eigenvectors\n",
        "\n",
        "\\\\\n",
        "\n",
        "* The __eigenvalues__ and __eigenvectors__ of a matrix can all be calculated directly using the __scipy__ (__sci__entific __py__thon) function __eig()__\n",
        "\n",
        "\\\\\n",
        "\n",
        "* This function will calculate the eigenvalues and eigenvectors in one large array, so the important thing to understand is how to extract each of them separately using the __index [ ]__ of the output"
      ]
    },
    {
      "cell_type": "markdown",
      "metadata": {
        "id": "6_O0JbY7Rk70"
      },
      "source": [
        "## __Example__ 2\n",
        "\n",
        "Given the matrix\n",
        "$$\n",
        "\\mathbf{H} = \n",
        "\\begin{bmatrix}\n",
        "4 & 1 & 5 \\\\ 2 & 5 & -8 \\\\ 2 & -5 & 3\n",
        "\\end{bmatrix}\n",
        "$$\n",
        "answer the following:\n",
        "\n",
        "__i)__ Use the function __M3()__ to create this matrix\n",
        "\n",
        "\n",
        "__ii)__ Use the function __eig()__ to find the eigenvalues and eigenvectors of the matrix $\\mathbf{H}$\n",
        "\n",
        "__iii)__ Use the index notation __[ ]__ to extract each of the eigenvalues and eigenvectors separately. Check that the eigenvectors have __norm__ 1, these are called __normalized eigenvectors__\n",
        "\n",
        "\n",
        "__iv)__ Check the __truth values__ of the equations \n",
        "$$\n",
        "\\mathbf{H}.\\vec{u} = \\lambda\\vec{u}\n",
        "$$\n",
        "for each of the eigenvalues and corresponding eigenvectors\n",
        "\n",
        "\n",
        "__v)__ Plot each of the eigenvectors $\\vec{u}$, $\\vec{v}$ and $\\vec{w}$ and the vectors $\\mathbf{H}.\\vec{u}$,  $\\mathbf{H}.\\vec{v}$ and $\\mathbf{H}.\\vec{w}$ using __ax.quiver()__"
      ]
    },
    {
      "cell_type": "markdown",
      "metadata": {
        "id": "RM0uxhGKS33w"
      },
      "source": [
        "### __Solution__\n",
        "\n",
        "__i)__ The matrix is given by"
      ]
    },
    {
      "cell_type": "code",
      "execution_count": null,
      "metadata": {
        "colab": {
          "base_uri": "https://localhost:8080/"
        },
        "id": "kUqgqjzZRjKk",
        "outputId": "434f2453-6c13-4b74-f8e8-4c122cb9f297"
      },
      "outputs": [
        {
          "output_type": "execute_result",
          "data": {
            "text/plain": [
              "array([[ 4,  1,  5],\n",
              "       [ 2,  5, -8],\n",
              "       [ 2, -5,  3]])"
            ]
          },
          "metadata": {},
          "execution_count": 22
        }
      ],
      "source": [
        "H = M3(4, 1, 5, 2, 5, -8, 2, -5, 3)\n",
        "H"
      ]
    },
    {
      "cell_type": "markdown",
      "metadata": {
        "id": "yMkRL7HGTEfa"
      },
      "source": [
        "__ii)__ The eigenvalues and eigenvectors are given by"
      ]
    },
    {
      "cell_type": "code",
      "execution_count": null,
      "metadata": {
        "colab": {
          "base_uri": "https://localhost:8080/"
        },
        "id": "4DLjkIS2TB_F",
        "outputId": "c80d545b-7fd1-4ed6-d67c-6f8545330920"
      },
      "outputs": [
        {
          "output_type": "execute_result",
          "data": {
            "text/plain": [
              "(array([-3.89747336+0.j,  5.45425558+0.j, 10.44321777+0.j]),\n",
              " array([[-0.4644597 ,  0.9382232 ,  0.34027819],\n",
              "        [ 0.64756653,  0.26761616, -0.73569133],\n",
              "        [ 0.60409832,  0.21936003,  0.58563557]]))"
            ]
          },
          "metadata": {},
          "execution_count": 23
        }
      ],
      "source": [
        "EH=eig(H)\n",
        "EH"
      ]
    },
    {
      "cell_type": "markdown",
      "metadata": {
        "id": "kiCDlh-GT2gd"
      },
      "source": [
        "__iii)__\n",
        "\n",
        "* We see that we have an array of arrays.\n",
        "\n",
        "\n",
        "* The __first array__ is the list of __eigenvalues__, which we extract as follows"
      ]
    },
    {
      "cell_type": "code",
      "execution_count": null,
      "metadata": {
        "colab": {
          "base_uri": "https://localhost:8080/"
        },
        "id": "IcJkYm1BTJ9z",
        "outputId": "4183c5ca-b7af-493a-be77-7ed941b67ea1"
      },
      "outputs": [
        {
          "output_type": "execute_result",
          "data": {
            "text/plain": [
              "array([-3.89747336+0.j,  5.45425558+0.j, 10.44321777+0.j])"
            ]
          },
          "metadata": {},
          "execution_count": 24
        }
      ],
      "source": [
        "EH[0]"
      ]
    },
    {
      "cell_type": "markdown",
      "metadata": {
        "id": "IsbHbBjUUOEg"
      },
      "source": [
        "* We can extract the individual eigenvalues as follows"
      ]
    },
    {
      "cell_type": "code",
      "execution_count": null,
      "metadata": {
        "id": "mXB_3-1SUJPN"
      },
      "outputs": [],
      "source": [
        "l1,l2,l3=EH[0]"
      ]
    },
    {
      "cell_type": "code",
      "execution_count": null,
      "metadata": {
        "colab": {
          "base_uri": "https://localhost:8080/"
        },
        "id": "hxy0s-CWUXhc",
        "outputId": "fdd3177f-3a14-422a-edb2-683b97518017"
      },
      "outputs": [
        {
          "output_type": "execute_result",
          "data": {
            "text/plain": [
              "(-3.897473357052201+0j)"
            ]
          },
          "metadata": {},
          "execution_count": 26
        }
      ],
      "source": [
        "l1"
      ]
    },
    {
      "cell_type": "code",
      "execution_count": null,
      "metadata": {
        "colab": {
          "base_uri": "https://localhost:8080/"
        },
        "id": "kKOkG-oFUmvk",
        "outputId": "3f220652-3814-4fc9-97a3-e296aa330b88"
      },
      "outputs": [
        {
          "output_type": "execute_result",
          "data": {
            "text/plain": [
              "(5.454255583992018+0j)"
            ]
          },
          "metadata": {},
          "execution_count": 27
        }
      ],
      "source": [
        "l2"
      ]
    },
    {
      "cell_type": "code",
      "source": [
        "l3"
      ],
      "metadata": {
        "colab": {
          "base_uri": "https://localhost:8080/"
        },
        "id": "IqZ_8rGSYNlm",
        "outputId": "84b2a1a4-222b-4641-d701-38f7a3748dc4"
      },
      "execution_count": null,
      "outputs": [
        {
          "output_type": "execute_result",
          "data": {
            "text/plain": [
              "(10.443217773060182+0j)"
            ]
          },
          "metadata": {},
          "execution_count": 28
        }
      ]
    },
    {
      "cell_type": "markdown",
      "metadata": {
        "id": "kYAwvazbU1OU"
      },
      "source": [
        "* The __second array__ is the __eigenvector__ corresponding to __l1__ and is extracted as follows"
      ]
    },
    {
      "cell_type": "code",
      "execution_count": null,
      "metadata": {
        "colab": {
          "base_uri": "https://localhost:8080/"
        },
        "id": "xBMXLO_5UoBU",
        "outputId": "2eda1368-9683-4f06-a6f9-30770c5fb385"
      },
      "outputs": [
        {
          "output_type": "execute_result",
          "data": {
            "text/plain": [
              "array([-0.4644597 ,  0.64756653,  0.60409832])"
            ]
          },
          "metadata": {},
          "execution_count": 29
        }
      ],
      "source": [
        "u=EH[1][:,0]\n",
        "u"
      ]
    },
    {
      "cell_type": "markdown",
      "metadata": {
        "id": "I6JuTlgvVOwl"
      },
      "source": [
        "* The remaining __eigenvectors__ corresponding to the eigenvalues __l2 & l3__ are similarly given by"
      ]
    },
    {
      "cell_type": "code",
      "execution_count": null,
      "metadata": {
        "colab": {
          "base_uri": "https://localhost:8080/"
        },
        "id": "Hu970j3wVBOV",
        "outputId": "8e1d1c2b-9537-4d75-d4b4-3a91c10c0acf"
      },
      "outputs": [
        {
          "output_type": "execute_result",
          "data": {
            "text/plain": [
              "array([0.9382232 , 0.26761616, 0.21936003])"
            ]
          },
          "metadata": {},
          "execution_count": 30
        }
      ],
      "source": [
        "v=EH[1][:,1]\n",
        "v"
      ]
    },
    {
      "cell_type": "code",
      "source": [
        "w=EH[1][:,2]\n",
        "w"
      ],
      "metadata": {
        "colab": {
          "base_uri": "https://localhost:8080/"
        },
        "id": "GhH-0HzsYWoT",
        "outputId": "1b39a1ad-4ea3-48ea-ed6f-b08671f88c01"
      },
      "execution_count": null,
      "outputs": [
        {
          "output_type": "execute_result",
          "data": {
            "text/plain": [
              "array([ 0.34027819, -0.73569133,  0.58563557])"
            ]
          },
          "metadata": {},
          "execution_count": 31
        }
      ]
    },
    {
      "cell_type": "markdown",
      "metadata": {
        "id": "EpPcKgySVlCq"
      },
      "source": [
        "* The norms of these eigenvectors are "
      ]
    },
    {
      "cell_type": "code",
      "execution_count": null,
      "metadata": {
        "colab": {
          "base_uri": "https://localhost:8080/"
        },
        "id": "Olt5s5qfVWDE",
        "outputId": "36add8d6-2026-408d-fc34-7c2ce4a65d91"
      },
      "outputs": [
        {
          "output_type": "execute_result",
          "data": {
            "text/plain": [
              "(1.0, 1.0, 0.9999999999999999)"
            ]
          },
          "metadata": {},
          "execution_count": 32
        }
      ],
      "source": [
        "norm(u) ,norm(v), norm(w)"
      ]
    },
    {
      "cell_type": "markdown",
      "metadata": {
        "id": "6FvUeov2WG5Q"
      },
      "source": [
        "* The function __eig()__ always returns normalised eigenvectors  "
      ]
    },
    {
      "cell_type": "markdown",
      "metadata": {
        "id": "MqIcTMfdXpXo"
      },
      "source": [
        "__iv)__ We check the eigenvalue equations are true using __==__"
      ]
    },
    {
      "cell_type": "code",
      "execution_count": null,
      "metadata": {
        "colab": {
          "base_uri": "https://localhost:8080/"
        },
        "id": "itJsk2jyVqxz",
        "outputId": "a33bdce7-6154-4512-c42e-ea51f7c0de09"
      },
      "outputs": [
        {
          "output_type": "execute_result",
          "data": {
            "text/plain": [
              "array([ True,  True,  True])"
            ]
          },
          "metadata": {},
          "execution_count": 36
        }
      ],
      "source": [
        "np.round(H.dot(u),6)== np.round(l1*u,6)"
      ]
    },
    {
      "cell_type": "code",
      "execution_count": null,
      "metadata": {
        "colab": {
          "base_uri": "https://localhost:8080/"
        },
        "id": "IuJuG_nJXy2E",
        "outputId": "dfc14140-d40b-4462-e716-d924acda0c57"
      },
      "outputs": [
        {
          "output_type": "execute_result",
          "data": {
            "text/plain": [
              "array([ True,  True,  True])"
            ]
          },
          "metadata": {},
          "execution_count": 37
        }
      ],
      "source": [
        "np.round(H.dot(v),6)== np.round(l2*v,6)"
      ]
    },
    {
      "cell_type": "code",
      "source": [
        "np.round(H.dot(w),6)== np.round(l3*w,6)"
      ],
      "metadata": {
        "colab": {
          "base_uri": "https://localhost:8080/"
        },
        "id": "FLq8mlwFYrHf",
        "outputId": "5b373236-1fcb-4b86-8d14-f0ad85c4e504"
      },
      "execution_count": null,
      "outputs": [
        {
          "output_type": "execute_result",
          "data": {
            "text/plain": [
              "array([ True,  True,  True])"
            ]
          },
          "metadata": {},
          "execution_count": 38
        }
      ]
    },
    {
      "cell_type": "markdown",
      "source": [
        "__NOTE__ We have to wrap each term in the __np.round()__ function to ensure we get the correct truth values!!"
      ],
      "metadata": {
        "id": "7aZs98L4Y7gQ"
      }
    },
    {
      "cell_type": "markdown",
      "metadata": {
        "id": "BGbMRyi8Yua1"
      },
      "source": [
        "__v)__ \n",
        "\n",
        "* To make things easier to type we will use the following notation"
      ]
    },
    {
      "cell_type": "code",
      "execution_count": null,
      "metadata": {
        "id": "QyC4RnVzY42c"
      },
      "outputs": [],
      "source": [
        "Hu=H.dot(u)\n",
        "Hv=H.dot(v)\n",
        "Hw=H.dot(w)"
      ]
    },
    {
      "cell_type": "code",
      "execution_count": null,
      "metadata": {
        "colab": {
          "base_uri": "https://localhost:8080/",
          "height": 537
        },
        "id": "h9VjWgMPX6yM",
        "outputId": "5935d5b2-3a01-4a33-c8e5-aa15db5a3e6b"
      },
      "outputs": [
        {
          "output_type": "execute_result",
          "data": {
            "text/plain": [
              "<matplotlib.legend.Legend at 0x7fe861057d50>"
            ]
          },
          "metadata": {},
          "execution_count": 47
        },
        {
          "output_type": "display_data",
          "data": {
            "text/plain": [
              "<Figure size 864x648 with 1 Axes>"
            ],
            "image/png": "[encoded data removed]"
          },
          "metadata": {
            "needs_background": "light"
          }
        }
      ],
      "source": [
        "fig = plt.figure(figsize=(12,9)) # Create a figure environment we call fig, make it 12\" x 9\" in size\n",
        "ax = fig.gca(projection='3d') # Create 3D axes in this figure and call these axes ax\n",
        "\n",
        "# The command for plotting 3D vectors is similar, we just use ax.quiver() instead of plt.quiver()\n",
        "ax.quiver(0,0,0,u[0],u[1],u[2],color='b',label='$\\\\vec{u}$')\n",
        "ax.quiver(0,0,0,v[0],v[1],v[2],color='r',label='$\\\\vec{v}$')\n",
        "ax.quiver(0,0,0,w[0],w[1],w[2],color='g',label='$\\\\vec{w}$')\n",
        "\n",
        "ax.quiver(0,0,0,Hu[0],Hu[1],Hu[2],color='b',label='$\\\\vec{u}$',alpha=0.25)\n",
        "ax.quiver(0,0,0,Hv[0],Hv[1],Hv[2],color='r',label='$\\\\vec{v}$',alpha=0.25)\n",
        "ax.quiver(0,0,0,Hw[0],Hw[1],Hw[2],color='g',label='$\\\\vec{w}$',alpha=0.25)\n",
        "\n",
        "# Setting the axis-labels is slightly different, we must use ax.set_xlabel() etc.\n",
        "ax.set_xlabel('x')\n",
        "ax.set_ylabel('y')\n",
        "ax.set_zlabel('z')\n",
        "\n",
        "# Setting the axis-limits is also slightly different, we must use ax.set_xlim() etc.\n",
        "ax.set_xlim(-5,5)\n",
        "ax.set_ylim(-5,5)\n",
        "ax.set_zlim(-5,5)\n",
        "\n",
        "ax.view_init(elev=30, azim = 25)\n",
        "\n",
        "ax.legend()"
      ]
    },
    {
      "cell_type": "markdown",
      "metadata": {
        "id": "1gonEkndaRfQ"
      },
      "source": [
        "* As we can see from the plot, __H__ just stretches the eigenvectors __v__ and __w__ as expected\n",
        "\n",
        "* However __H__ also __reverses__ and stretches the eigenvector __u__ "
      ]
    },
    {
      "cell_type": "code",
      "execution_count": null,
      "metadata": {
        "id": "rx9rZj1oZYgd"
      },
      "outputs": [],
      "source": []
    },
    {
      "cell_type": "markdown",
      "metadata": {
        "id": "gjm_f7R1avVp"
      },
      "source": [
        "## _Exercise_ 2\n",
        "\n",
        "Given the matrix\n",
        "$$\n",
        "\\mathbf{U} = \n",
        "\\begin{bmatrix}\n",
        "3 & 1 & 4 \\\\ 1 & 5 & 4 \\\\ 2 & 5 & 7\n",
        "\\end{bmatrix}\n",
        "$$\n",
        "answer the following:\n",
        "\n",
        "__i)__ Use the function __M3()__ to create this matrix\n",
        "\n",
        "\n",
        "__ii)__ Use the function __eig()__ to find the eigenvalues and eigenvectors of the matrix $\\mathbf{U}$\n",
        "\n",
        "__iii)__ Use the index notation __[ ]__ to extract each of the eigenvalues and eigenvectors separately. \n",
        "\n",
        "\n",
        "__iv)__ Check the __truth values__ of the equations \n",
        "$$\n",
        "\\mathbf{U}.\\vec{u} = \\lambda\\vec{u}\n",
        "$$\n",
        "for each of the eigenvalues and corresponding eigenvectors\n",
        "\n",
        "\n",
        "__v)__ Plot each of the eigenvectors $\\vec{u}$, $\\vec{v}$ and $\\vec{w}$ and the vectors $\\mathbf{U}.\\vec{u}$, $\\mathbf{U}.\\vec{v}$ and $\\mathbf{U}.\\vec{w}$  using __ax.quiver()__"
      ]
    },
    {
      "cell_type": "code",
      "execution_count": null,
      "metadata": {
        "id": "9gra-F06bITM",
        "colab": {
          "base_uri": "https://localhost:8080/"
        },
        "outputId": "1959ad7c-c8b5-4fa2-c98f-bf66c3d04ec8"
      },
      "outputs": [
        {
          "output_type": "execute_result",
          "data": {
            "text/plain": [
              "array([[3, 1, 4],\n",
              "       [1, 5, 4],\n",
              "       [2, 5, 7]])"
            ]
          },
          "metadata": {},
          "execution_count": 59
        }
      ],
      "source": [
        "U = M3(3, 1, 4, 1, 5, 4, 2, 5, 7)\n",
        "U"
      ]
    },
    {
      "cell_type": "code",
      "execution_count": null,
      "metadata": {
        "id": "Wllws6NibRXJ",
        "colab": {
          "base_uri": "https://localhost:8080/"
        },
        "outputId": "446aae36-36dd-4bb4-b9d1-cb6751baf98a"
      },
      "outputs": [
        {
          "output_type": "execute_result",
          "data": {
            "text/plain": [
              "(array([11.56186799+0.j,  2.55955179+0.j,  0.87858022+0.j]),\n",
              " array([[-0.41074917, -0.93207228, -0.81279739],\n",
              "        [-0.51938612,  0.36206975, -0.29201041],\n",
              "        [-0.7493485 ,  0.01211495,  0.50407372]]))"
            ]
          },
          "metadata": {},
          "execution_count": 60
        }
      ],
      "source": [
        "eig(U)"
      ]
    },
    {
      "cell_type": "code",
      "execution_count": null,
      "metadata": {
        "id": "SPWF1ZPhbRU6"
      },
      "outputs": [],
      "source": []
    },
    {
      "cell_type": "code",
      "execution_count": null,
      "metadata": {
        "id": "ATj9vh0JbRSJ"
      },
      "outputs": [],
      "source": []
    },
    {
      "cell_type": "code",
      "execution_count": null,
      "metadata": {
        "id": "i8nQgF_hbRQA"
      },
      "outputs": [],
      "source": []
    },
    {
      "cell_type": "code",
      "execution_count": null,
      "metadata": {
        "id": "IX-q5tc1bRNs"
      },
      "outputs": [],
      "source": []
    },
    {
      "cell_type": "code",
      "execution_count": null,
      "metadata": {
        "id": "1uMa-B98bRK8"
      },
      "outputs": [],
      "source": []
    },
    {
      "cell_type": "markdown",
      "source": [
        "---"
      ],
      "metadata": {
        "id": "2x-i0tZqbjTl"
      }
    },
    {
      "cell_type": "code",
      "source": [],
      "metadata": {
        "id": "gOwb-dhEbk7a"
      },
      "execution_count": null,
      "outputs": []
    },
    {
      "cell_type": "markdown",
      "source": [
        "# Item 3 - Exponential of a matrix\n",
        "\n",
        "* As we have seen in lectures, we can take the exponential of a matrix by using the __Taylor series__ for $e^{x}$ and substituting our matrix $A$ for $x$.\n",
        "\n",
        "\n",
        "* This requires us writing the matrix $A$ in diagonal form\n",
        "\\begin{equation*}\n",
        "A = \n",
        "\\begin{bmatrix}\n",
        "u_{1} & v_{1} \\\\\n",
        "u_{2} & v_{2}\n",
        "\\end{bmatrix}\n",
        "\\begin{bmatrix}\n",
        "\\lambda_{1} & 0 \\\\\n",
        "0 & \\lambda_{2}\n",
        "\\end{bmatrix}\n",
        "\\begin{bmatrix}\n",
        "u_{1} & v_{1} \\\\\n",
        "u_{2} & v_{2}\n",
        "\\end{bmatrix}^{-1}\n",
        "\\end{equation*}\n",
        "\n",
        "* The diagonalisation matrix \n",
        "$$\n",
        "P = \\begin{bmatrix}\n",
        "u_{1} & v_{1} \\\\\n",
        "u_{2} & v_{2}\n",
        "\\end{bmatrix}\n",
        "$$\n",
        "is formed from the eigenvectors \n",
        "$$\n",
        "\\vec{u} \n",
        "= \n",
        "\\begin{bmatrix}\n",
        "u_{1} \\\\ u_{2}\n",
        "\\end{bmatrix}\n",
        "\\qquad\n",
        "\\vec{v} \n",
        "= \n",
        "\\begin{bmatrix}\n",
        "v_{1} \\\\ v_{2}\n",
        "\\end{bmatrix}\n",
        "$$\n",
        "where \n",
        "$$\n",
        "A\\vec{u} = \\lambda_{1}\\vec{u} \\qquad A\\vec{v} = \\lambda_{2}\\vec{v}\n",
        "$$\n",
        "\n",
        "* The __exponential__ of $A$ can then be written as \n",
        "\\begin{equation*}\n",
        "e^A = \n",
        "\\begin{bmatrix}\n",
        "u_{1} & v_{1} \\\\\n",
        "u_{2} & v_{2}\n",
        "\\end{bmatrix}\n",
        "\\begin{bmatrix}\n",
        "e^{\\lambda_{1}} & 0 \\\\\n",
        "0 & e^{\\lambda_{2}}\n",
        "\\end{bmatrix}\n",
        "\\begin{bmatrix}\n",
        "u_{1} & v_{1} \\\\\n",
        "u_{2} & v_{2}\n",
        "\\end{bmatrix}^{-1}\n",
        "\\end{equation*}\n",
        "\n",
        "\n",
        "* The exponential of a matrix can be calcuated with the __expm()__ function from the __scipy.linalg__ library, which we import below"
      ],
      "metadata": {
        "id": "gVJSqQE3br3X"
      }
    },
    {
      "cell_type": "code",
      "source": [
        "from scipy.linalg import expm"
      ],
      "metadata": {
        "id": "4WU-f4sKdzxE"
      },
      "execution_count": null,
      "outputs": []
    },
    {
      "cell_type": "markdown",
      "source": [
        "## __Example__ 3\n",
        "\n",
        "* Given the matrix\n",
        "$$\n",
        "A = \n",
        "\\begin{bmatrix}\n",
        "-5 & 6 \\\\ 2 & 7\n",
        "\\end{bmatrix}\n",
        "$$\n",
        "calculate the matrix exponential $e^{A}$. "
      ],
      "metadata": {
        "id": "VahUJTarga5V"
      }
    },
    {
      "cell_type": "code",
      "source": [
        "A=M2(-5,6,2,7)\n",
        "A"
      ],
      "metadata": {
        "colab": {
          "base_uri": "https://localhost:8080/"
        },
        "id": "lmjfbZPPdzzY",
        "outputId": "cff78c8f-b357-41bc-9931-781ff455ac6d"
      },
      "execution_count": null,
      "outputs": [
        {
          "output_type": "execute_result",
          "data": {
            "text/plain": [
              "array([[-5,  6],\n",
              "       [ 2,  7]])"
            ]
          },
          "metadata": {},
          "execution_count": 81
        }
      ]
    },
    {
      "cell_type": "code",
      "source": [
        "expm(A)"
      ],
      "metadata": {
        "colab": {
          "base_uri": "https://localhost:8080/"
        },
        "id": "lQ4chGbYd5tH",
        "outputId": "7489b917-85bb-4d42-e821-5eb3e12989d1"
      },
      "execution_count": null,
      "outputs": [
        {
          "output_type": "execute_result",
          "data": {
            "text/plain": [
              "array([[ 185.85454325, 1201.36543759],\n",
              "       [ 400.45514586, 2588.58541844]])"
            ]
          },
          "metadata": {},
          "execution_count": 82
        }
      ]
    },
    {
      "cell_type": "markdown",
      "source": [
        "## _Exercise_ 3\n",
        "\n",
        "__i)__ Given the matrix\n",
        "$$\n",
        "S = \n",
        "\\begin{bmatrix}\n",
        "0 & -1 \\\\ 1 & 0\n",
        "\\end{bmatrix}\n",
        "$$\n",
        "calculate the matrix exponential $e^{S}$.\n",
        "\n",
        "__Note__ This is an important matrix in __Quantum Mechanics__ where is describes the spin of the electron about the $z$-axis of a coordinate frame\n",
        "\n",
        "It also has the important application of __generating__ rotations about the $z$-axis\n",
        "\n",
        "This means that the matrix $e^{0.25S}$ will rotate a vector by 0.25 radians about the $z$-axis for example\n",
        "\n",
        "We do not need to go to 3-dimesions to see this working, since the rotations take place in the $(x,y)$-plane\n",
        "\n",
        "__ii)__ Now calculate the matrix exponential given by\n",
        "$$\n",
        "R = e^{0.7854 S}\n",
        "$$\n",
        "\n",
        "\n",
        "__iii)__ Given the vectors \n",
        "$$\n",
        "\\vec{u} = \n",
        "\\begin{bmatrix}\n",
        "0 \\\\ 2\n",
        "\\end{bmatrix}\n",
        "\\qquad \n",
        "\\vec{v} = \n",
        "\\begin{bmatrix}\n",
        "3 \\\\ 2\n",
        "\\end{bmatrix}\n",
        "$$\n",
        "plot $\\vec{u}$, $\\vec{v}$, $R\\vec{u}$ and $R\\vec{v}$ using __plt.quiver()__"
      ],
      "metadata": {
        "id": "j4mGpUZrg6Qv"
      }
    },
    {
      "cell_type": "code",
      "source": [],
      "metadata": {
        "id": "_oQugNdkkKED"
      },
      "execution_count": null,
      "outputs": []
    },
    {
      "cell_type": "code",
      "source": [],
      "metadata": {
        "id": "445p1apGkKGp"
      },
      "execution_count": null,
      "outputs": []
    },
    {
      "cell_type": "code",
      "source": [],
      "metadata": {
        "id": "fcf1o2wKkKJU"
      },
      "execution_count": null,
      "outputs": []
    },
    {
      "cell_type": "code",
      "source": [],
      "metadata": {
        "id": "E4EQDnGQkKLp"
      },
      "execution_count": null,
      "outputs": []
    },
    {
      "cell_type": "code",
      "source": [],
      "metadata": {
        "id": "7JcDncW1kKOF"
      },
      "execution_count": null,
      "outputs": []
    },
    {
      "cell_type": "code",
      "source": [],
      "metadata": {
        "id": "UpJJmLhbkKQk"
      },
      "execution_count": null,
      "outputs": []
    },
    {
      "cell_type": "code",
      "source": [],
      "metadata": {
        "id": "skSyffdEkKTJ"
      },
      "execution_count": null,
      "outputs": []
    }
  ],
  "metadata": {
    "anaconda-cloud": {},
    "colab": {
      "collapsed_sections": [],
      "provenance": [],
      "include_colab_link": true
    },
    "kernelspec": {
      "display_name": "Python 3 (ipykernel)",
      "language": "python",
      "name": "python3"
    },
    "language_info": {
      "codemirror_mode": {
        "name": "ipython",
        "version": 3
      },
      "file_extension": ".py",
      "mimetype": "text/x-python",
      "name": "python",
      "nbconvert_exporter": "python",
      "pygments_lexer": "ipython3",
      "version": "3.9.12"
    }
  },
  "nbformat": 4,
  "nbformat_minor": 0
}